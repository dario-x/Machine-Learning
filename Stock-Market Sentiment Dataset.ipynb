{
 "cells": [
  {
   "cell_type": "markdown",
   "metadata": {},
   "source": [
    "## Stockmarket sentiment"
   ]
  },
  {
   "cell_type": "code",
   "execution_count": null,
   "metadata": {},
   "outputs": [],
   "source": [
    "# loading Data and get a quick overview"
   ]
  },
  {
   "cell_type": "code",
   "execution_count": 1,
   "metadata": {},
   "outputs": [
    {
     "name": "stdout",
     "output_type": "stream",
     "text": [
      "                                                   Text  Sentiment\n",
      "0     Kickers on my watchlist XIDE TIT SOQ PNK CPW B...          1\n",
      "1     user: AAP MOVIE. 55% return for the FEA/GEED i...          1\n",
      "2     user I'd be afraid to short AMZN - they are lo...          1\n",
      "3                                     MNTA Over 12.00            1\n",
      "4                                      OI  Over 21.37            1\n",
      "...                                                 ...        ...\n",
      "5786  Industry body CII said #discoms are likely to ...         -1\n",
      "5787  #Gold prices slip below Rs 46,000 as #investor...         -1\n",
      "5788  Workers at Bajaj Auto have agreed to a 10% wag...          1\n",
      "5789  #Sharemarket LIVE: Sensex off day’s high, up 6...          1\n",
      "5790  #Sensex, #Nifty climb off day's highs, still u...          1\n",
      "\n",
      "[5791 rows x 2 columns]\n"
     ]
    }
   ],
   "source": [
    "import pandas as pd\n",
    "df = pd.read_csv(r\"C:\\Users\\noahw\\OneDrive\\Desktop\\machinelearning\\stock_data.csv\")\n",
    "\n",
    "\n",
    "print(df)"
   ]
  },
  {
   "cell_type": "code",
   "execution_count": 2,
   "metadata": {},
   "outputs": [
    {
     "data": {
      "text/html": [
       "<div>\n",
       "<style scoped>\n",
       "    .dataframe tbody tr th:only-of-type {\n",
       "        vertical-align: middle;\n",
       "    }\n",
       "\n",
       "    .dataframe tbody tr th {\n",
       "        vertical-align: top;\n",
       "    }\n",
       "\n",
       "    .dataframe thead th {\n",
       "        text-align: right;\n",
       "    }\n",
       "</style>\n",
       "<table border=\"1\" class=\"dataframe\">\n",
       "  <thead>\n",
       "    <tr style=\"text-align: right;\">\n",
       "      <th></th>\n",
       "      <th>Text</th>\n",
       "      <th>Sentiment</th>\n",
       "    </tr>\n",
       "  </thead>\n",
       "  <tbody>\n",
       "    <tr>\n",
       "      <th>0</th>\n",
       "      <td>Kickers on my watchlist XIDE TIT SOQ PNK CPW B...</td>\n",
       "      <td>1</td>\n",
       "    </tr>\n",
       "    <tr>\n",
       "      <th>1</th>\n",
       "      <td>user: AAP MOVIE. 55% return for the FEA/GEED i...</td>\n",
       "      <td>1</td>\n",
       "    </tr>\n",
       "    <tr>\n",
       "      <th>2</th>\n",
       "      <td>user I'd be afraid to short AMZN - they are lo...</td>\n",
       "      <td>1</td>\n",
       "    </tr>\n",
       "    <tr>\n",
       "      <th>3</th>\n",
       "      <td>MNTA Over 12.00</td>\n",
       "      <td>1</td>\n",
       "    </tr>\n",
       "    <tr>\n",
       "      <th>4</th>\n",
       "      <td>OI  Over 21.37</td>\n",
       "      <td>1</td>\n",
       "    </tr>\n",
       "  </tbody>\n",
       "</table>\n",
       "</div>"
      ],
      "text/plain": [
       "                                                Text  Sentiment\n",
       "0  Kickers on my watchlist XIDE TIT SOQ PNK CPW B...          1\n",
       "1  user: AAP MOVIE. 55% return for the FEA/GEED i...          1\n",
       "2  user I'd be afraid to short AMZN - they are lo...          1\n",
       "3                                  MNTA Over 12.00            1\n",
       "4                                   OI  Over 21.37            1"
      ]
     },
     "execution_count": 2,
     "metadata": {},
     "output_type": "execute_result"
    }
   ],
   "source": [
    "df.head()"
   ]
  },
  {
   "cell_type": "code",
   "execution_count": 3,
   "metadata": {},
   "outputs": [
    {
     "name": "stdout",
     "output_type": "stream",
     "text": [
      "(5791, 2)\n",
      "(5791, 2)\n"
     ]
    }
   ],
   "source": [
    "print(df.shape)\n",
    "\n",
    "print(df.shape)"
   ]
  },
  {
   "cell_type": "code",
   "execution_count": 4,
   "metadata": {},
   "outputs": [
    {
     "data": {
      "text/html": [
       "<style  type=\"text/css\" >\n",
       "</style><table id=\"T_9416e_\" ><thead>    <tr>        <th class=\"blank level0\" ></th>        <th class=\"col_heading level0 col0\" >Text</th>        <th class=\"col_heading level0 col1\" >Sentiment</th>    </tr></thead><tbody>\n",
       "                <tr>\n",
       "                        <th id=\"T_9416e_level0_row0\" class=\"row_heading level0 row0\" >0</th>\n",
       "                        <td id=\"T_9416e_row0_col0\" class=\"data row0 col0\" >Kickers on my watchlist XIDE TIT SOQ PNK CPW BPZ AJ  trade method 1 or method 2, see prev posts</td>\n",
       "                        <td id=\"T_9416e_row0_col1\" class=\"data row0 col1\" >1</td>\n",
       "            </tr>\n",
       "            <tr>\n",
       "                        <th id=\"T_9416e_level0_row1\" class=\"row_heading level0 row1\" >1</th>\n",
       "                        <td id=\"T_9416e_row1_col0\" class=\"data row1 col0\" >user: AAP MOVIE. 55% return for the FEA/GEED indicator just 15 trades for the year.  AWESOME.  </td>\n",
       "                        <td id=\"T_9416e_row1_col1\" class=\"data row1 col1\" >1</td>\n",
       "            </tr>\n",
       "            <tr>\n",
       "                        <th id=\"T_9416e_level0_row2\" class=\"row_heading level0 row2\" >2</th>\n",
       "                        <td id=\"T_9416e_row2_col0\" class=\"data row2 col0\" >user I'd be afraid to short AMZN - they are looking like a near-monopoly in eBooks and infrastructure-as-a-service</td>\n",
       "                        <td id=\"T_9416e_row2_col1\" class=\"data row2 col1\" >1</td>\n",
       "            </tr>\n",
       "            <tr>\n",
       "                        <th id=\"T_9416e_level0_row3\" class=\"row_heading level0 row3\" >3</th>\n",
       "                        <td id=\"T_9416e_row3_col0\" class=\"data row3 col0\" >MNTA Over 12.00  </td>\n",
       "                        <td id=\"T_9416e_row3_col1\" class=\"data row3 col1\" >1</td>\n",
       "            </tr>\n",
       "            <tr>\n",
       "                        <th id=\"T_9416e_level0_row4\" class=\"row_heading level0 row4\" >4</th>\n",
       "                        <td id=\"T_9416e_row4_col0\" class=\"data row4 col0\" >OI  Over 21.37  </td>\n",
       "                        <td id=\"T_9416e_row4_col1\" class=\"data row4 col1\" >1</td>\n",
       "            </tr>\n",
       "    </tbody></table>"
      ],
      "text/plain": [
       "<pandas.io.formats.style.Styler at 0x2eb5fd54d90>"
      ]
     },
     "execution_count": 4,
     "metadata": {},
     "output_type": "execute_result"
    }
   ],
   "source": [
    "df.head().style"
   ]
  },
  {
   "cell_type": "code",
   "execution_count": null,
   "metadata": {},
   "outputs": [],
   "source": [
    "# Cleaning the text"
   ]
  },
  {
   "cell_type": "code",
   "execution_count": 5,
   "metadata": {},
   "outputs": [],
   "source": [
    "\n",
    "import spacy\n",
    "nlp=spacy.load('en_core_web_md')"
   ]
  },
  {
   "cell_type": "code",
   "execution_count": 6,
   "metadata": {},
   "outputs": [
    {
     "name": "stdout",
     "output_type": "stream",
     "text": [
      "The plural of  bananas  is  banana\n",
      "Is Word plural?  bananas  is  banana\n"
     ]
    }
   ],
   "source": [
    "\n",
    "import inflect\n",
    "inflect = inflect.engine()\n",
    "\n",
    "word = \"bars\"\n",
    "\n",
    "word='bananas'\n",
    "print(\"The plural of \", word, \" is \", inflect.plural(word))\n",
    "print(\"Is Word plural? \", word, \" is \", inflect.singular_noun(word))"
   ]
  },
  {
   "cell_type": "code",
   "execution_count": 7,
   "metadata": {},
   "outputs": [
    {
     "name": "stderr",
     "output_type": "stream",
     "text": [
      "c:\\users\\noahw\\appdata\\local\\programs\\python\\python39\\lib\\site-packages\\pandas\\core\\indexing.py:1637: SettingWithCopyWarning: \n",
      "A value is trying to be set on a copy of a slice from a DataFrame\n",
      "\n",
      "See the caveats in the documentation: https://pandas.pydata.org/pandas-docs/stable/user_guide/indexing.html#returning-a-view-versus-a-copy\n",
      "  self._setitem_single_block(indexer, value, name)\n"
     ]
    },
    {
     "data": {
      "text/html": [
       "<style  type=\"text/css\" >\n",
       "</style><table id=\"T_20e98_\" ><thead>    <tr>        <th class=\"blank level0\" ></th>        <th class=\"col_heading level0 col0\" >Text</th>        <th class=\"col_heading level0 col1\" >Sentiment</th>        <th class=\"col_heading level0 col2\" >cleaned_text</th>    </tr></thead><tbody>\n",
       "                <tr>\n",
       "                        <th id=\"T_20e98_level0_row0\" class=\"row_heading level0 row0\" >0</th>\n",
       "                        <td id=\"T_20e98_row0_col0\" class=\"data row0 col0\" >Kickers on my watchlist XIDE TIT SOQ PNK CPW BPZ AJ  trade method 1 or method 2, see prev posts</td>\n",
       "                        <td id=\"T_20e98_row0_col1\" class=\"data row0 col1\" >1</td>\n",
       "                        <td id=\"T_20e98_row0_col2\" class=\"data row0 col2\" > Kickers watchlist XIDE TIT SOQ PNK CPW BPZ AJ   trade method 1 method 2 see prev posts</td>\n",
       "            </tr>\n",
       "            <tr>\n",
       "                        <th id=\"T_20e98_level0_row1\" class=\"row_heading level0 row1\" >1</th>\n",
       "                        <td id=\"T_20e98_row1_col0\" class=\"data row1 col0\" >user: AAP MOVIE. 55% return for the FEA/GEED indicator just 15 trades for the year.  AWESOME.  </td>\n",
       "                        <td id=\"T_20e98_row1_col1\" class=\"data row1 col1\" >1</td>\n",
       "                        <td id=\"T_20e98_row1_col2\" class=\"data row1 col2\" > user AAP MOVIE 55 % return FEA GEED indicator 15 trades year   AWESOME</td>\n",
       "            </tr>\n",
       "            <tr>\n",
       "                        <th id=\"T_20e98_level0_row2\" class=\"row_heading level0 row2\" >2</th>\n",
       "                        <td id=\"T_20e98_row2_col0\" class=\"data row2 col0\" >user I'd be afraid to short AMZN - they are looking like a near-monopoly in eBooks and infrastructure-as-a-service</td>\n",
       "                        <td id=\"T_20e98_row2_col1\" class=\"data row2 col1\" >1</td>\n",
       "                        <td id=\"T_20e98_row2_col2\" class=\"data row2 col2\" > user 'd be afraid short AMZN be look like near monopoly eBooks infrastructure service</td>\n",
       "            </tr>\n",
       "            <tr>\n",
       "                        <th id=\"T_20e98_level0_row3\" class=\"row_heading level0 row3\" >3</th>\n",
       "                        <td id=\"T_20e98_row3_col0\" class=\"data row3 col0\" >MNTA Over 12.00  </td>\n",
       "                        <td id=\"T_20e98_row3_col1\" class=\"data row3 col1\" >1</td>\n",
       "                        <td id=\"T_20e98_row3_col2\" class=\"data row3 col2\" > MNTA 12.00</td>\n",
       "            </tr>\n",
       "            <tr>\n",
       "                        <th id=\"T_20e98_level0_row4\" class=\"row_heading level0 row4\" >4</th>\n",
       "                        <td id=\"T_20e98_row4_col0\" class=\"data row4 col0\" >OI  Over 21.37  </td>\n",
       "                        <td id=\"T_20e98_row4_col1\" class=\"data row4 col1\" >1</td>\n",
       "                        <td id=\"T_20e98_row4_col2\" class=\"data row4 col2\" > OI   21.37</td>\n",
       "            </tr>\n",
       "            <tr>\n",
       "                        <th id=\"T_20e98_level0_row5\" class=\"row_heading level0 row5\" >5</th>\n",
       "                        <td id=\"T_20e98_row5_col0\" class=\"data row5 col0\" >PGNX  Over 3.04  </td>\n",
       "                        <td id=\"T_20e98_row5_col1\" class=\"data row5 col1\" >1</td>\n",
       "                        <td id=\"T_20e98_row5_col2\" class=\"data row5 col2\" > PGNX   3.04</td>\n",
       "            </tr>\n",
       "            <tr>\n",
       "                        <th id=\"T_20e98_level0_row6\" class=\"row_heading level0 row6\" >6</th>\n",
       "                        <td id=\"T_20e98_row6_col0\" class=\"data row6 col0\" >AAP - user if so then the current downtrend will break. Otherwise just a short-term correction in med-term downtrend.</td>\n",
       "                        <td id=\"T_20e98_row6_col1\" class=\"data row6 col1\" >-1</td>\n",
       "                        <td id=\"T_20e98_row6_col2\" class=\"data row6 col2\" > AAP user current downtrend will break short term correction med term downtrend</td>\n",
       "            </tr>\n",
       "            <tr>\n",
       "                        <th id=\"T_20e98_level0_row7\" class=\"row_heading level0 row7\" >7</th>\n",
       "                        <td id=\"T_20e98_row7_col0\" class=\"data row7 col0\" >Monday's relative weakness. NYX WIN TIE TAP ICE INT BMC AON C CHK BIIB  </td>\n",
       "                        <td id=\"T_20e98_row7_col1\" class=\"data row7 col1\" >-1</td>\n",
       "                        <td id=\"T_20e98_row7_col2\" class=\"data row7 col2\" > Monday relative weaknesses NYX WIN TIE TAP ICE INT BMC AON C CHK BIIB</td>\n",
       "            </tr>\n",
       "            <tr>\n",
       "                        <th id=\"T_20e98_level0_row8\" class=\"row_heading level0 row8\" >8</th>\n",
       "                        <td id=\"T_20e98_row8_col0\" class=\"data row8 col0\" >GOOG - ower trend line channel test & volume support.   </td>\n",
       "                        <td id=\"T_20e98_row8_col1\" class=\"data row8 col1\" >1</td>\n",
       "                        <td id=\"T_20e98_row8_col2\" class=\"data row8 col2\" > GOOG ower trend line channel test volume support</td>\n",
       "            </tr>\n",
       "            <tr>\n",
       "                        <th id=\"T_20e98_level0_row9\" class=\"row_heading level0 row9\" >9</th>\n",
       "                        <td id=\"T_20e98_row9_col0\" class=\"data row9 col0\" >AAP will watch tomorrow for ONG entry.</td>\n",
       "                        <td id=\"T_20e98_row9_col1\" class=\"data row9 col1\" >1</td>\n",
       "                        <td id=\"T_20e98_row9_col2\" class=\"data row9 col2\" > AAP will watch tomorrow ONG entry</td>\n",
       "            </tr>\n",
       "    </tbody></table>"
      ],
      "text/plain": [
       "<pandas.io.formats.style.Styler at 0x2eb77ad7fd0>"
      ]
     },
     "execution_count": 7,
     "metadata": {},
     "output_type": "execute_result"
    }
   ],
   "source": [
    "df['cleaned_text']=''\n",
    "\n",
    "\n",
    "d=0\n",
    "c=''\n",
    "for x in df['Text']:\n",
    "    \n",
    "    #step 1 do the tokenization\n",
    "    tokenized_text = nlp(str(x).lstrip().rstrip())\n",
    "    for token in tokenized_text:\n",
    "\n",
    "        #step 1\n",
    "        #use the part of speach tagging\n",
    "        #only nouns should be singularized \n",
    "        if (token.tag_ == \"NN\" or token.tag_ == \"NE\"):\n",
    "            \n",
    "            \n",
    "            #check if the noun is already ingular\n",
    "            #if so nothing will happen\n",
    "            if inflect.singular_noun(str(token)) == False:\n",
    "                c+=\" \"+str(token)\n",
    "            else:  \n",
    "                \n",
    "                #step 2\n",
    "                #singularize a plural noun\n",
    "                singularized_text = inflect.plural(str(token))\n",
    "                c+=\" \"+singularized_text\n",
    "        else:\n",
    "            #step 3\n",
    "            #if token is verb do lemmatization\n",
    "            if token.pos_ == \"VERB\" or token.pos_ == \"AUX\":\n",
    "\n",
    "                #do lemmatization also for verb \n",
    "                c+=\" \"+str(token.lemma_)\n",
    "            else:\n",
    "                #step 4 & 5\n",
    "                #remove token that are recognized as punctuation or stopwords\n",
    "                if token.is_punct == True or token.is_stop == True:\n",
    "                    pass\n",
    "\n",
    "                else:\n",
    "                    c+=\" \"+str(token)               \n",
    "            \n",
    "    \n",
    "    #store the results in the new table\n",
    "    df['cleaned_text'].iloc[d]=c\n",
    "    c=''\n",
    "    d+=1\n",
    "    \n",
    "df.head(10).style"
   ]
  },
  {
   "cell_type": "code",
   "execution_count": 8,
   "metadata": {},
   "outputs": [
    {
     "data": {
      "text/html": [
       "<div>\n",
       "<style scoped>\n",
       "    .dataframe tbody tr th:only-of-type {\n",
       "        vertical-align: middle;\n",
       "    }\n",
       "\n",
       "    .dataframe tbody tr th {\n",
       "        vertical-align: top;\n",
       "    }\n",
       "\n",
       "    .dataframe thead th {\n",
       "        text-align: right;\n",
       "    }\n",
       "</style>\n",
       "<table border=\"1\" class=\"dataframe\">\n",
       "  <thead>\n",
       "    <tr style=\"text-align: right;\">\n",
       "      <th></th>\n",
       "      <th>Text</th>\n",
       "      <th>Sentiment</th>\n",
       "      <th>cleaned_text</th>\n",
       "      <th>type_encoded</th>\n",
       "    </tr>\n",
       "  </thead>\n",
       "  <tbody>\n",
       "    <tr>\n",
       "      <th>0</th>\n",
       "      <td>Kickers on my watchlist XIDE TIT SOQ PNK CPW B...</td>\n",
       "      <td>1</td>\n",
       "      <td>Kickers watchlist XIDE TIT SOQ PNK CPW BPZ AJ...</td>\n",
       "      <td>1</td>\n",
       "    </tr>\n",
       "    <tr>\n",
       "      <th>1</th>\n",
       "      <td>user: AAP MOVIE. 55% return for the FEA/GEED i...</td>\n",
       "      <td>1</td>\n",
       "      <td>user AAP MOVIE 55 % return FEA GEED indicator...</td>\n",
       "      <td>1</td>\n",
       "    </tr>\n",
       "    <tr>\n",
       "      <th>2</th>\n",
       "      <td>user I'd be afraid to short AMZN - they are lo...</td>\n",
       "      <td>1</td>\n",
       "      <td>user 'd be afraid short AMZN be look like nea...</td>\n",
       "      <td>1</td>\n",
       "    </tr>\n",
       "    <tr>\n",
       "      <th>3</th>\n",
       "      <td>MNTA Over 12.00</td>\n",
       "      <td>1</td>\n",
       "      <td>MNTA 12.00</td>\n",
       "      <td>1</td>\n",
       "    </tr>\n",
       "    <tr>\n",
       "      <th>4</th>\n",
       "      <td>OI  Over 21.37</td>\n",
       "      <td>1</td>\n",
       "      <td>OI   21.37</td>\n",
       "      <td>1</td>\n",
       "    </tr>\n",
       "    <tr>\n",
       "      <th>5</th>\n",
       "      <td>PGNX  Over 3.04</td>\n",
       "      <td>1</td>\n",
       "      <td>PGNX   3.04</td>\n",
       "      <td>1</td>\n",
       "    </tr>\n",
       "    <tr>\n",
       "      <th>6</th>\n",
       "      <td>AAP - user if so then the current downtrend wi...</td>\n",
       "      <td>-1</td>\n",
       "      <td>AAP user current downtrend will break short t...</td>\n",
       "      <td>0</td>\n",
       "    </tr>\n",
       "    <tr>\n",
       "      <th>7</th>\n",
       "      <td>Monday's relative weakness. NYX WIN TIE TAP IC...</td>\n",
       "      <td>-1</td>\n",
       "      <td>Monday relative weaknesses NYX WIN TIE TAP IC...</td>\n",
       "      <td>0</td>\n",
       "    </tr>\n",
       "    <tr>\n",
       "      <th>8</th>\n",
       "      <td>GOOG - ower trend line channel test &amp; volume s...</td>\n",
       "      <td>1</td>\n",
       "      <td>GOOG ower trend line channel test volume support</td>\n",
       "      <td>1</td>\n",
       "    </tr>\n",
       "    <tr>\n",
       "      <th>9</th>\n",
       "      <td>AAP will watch tomorrow for ONG entry.</td>\n",
       "      <td>1</td>\n",
       "      <td>AAP will watch tomorrow ONG entry</td>\n",
       "      <td>1</td>\n",
       "    </tr>\n",
       "    <tr>\n",
       "      <th>10</th>\n",
       "      <td>i'm assuming FCX opens tomorrow above the 34.2...</td>\n",
       "      <td>1</td>\n",
       "      <td>be assume FCX open tomorrow 34.25 trigger buy...</td>\n",
       "      <td>1</td>\n",
       "    </tr>\n",
       "    <tr>\n",
       "      <th>11</th>\n",
       "      <td>It really worries me how everyone expects the ...</td>\n",
       "      <td>1</td>\n",
       "      <td>worry everyone expect market rally usually ex...</td>\n",
       "      <td>1</td>\n",
       "    </tr>\n",
       "    <tr>\n",
       "      <th>12</th>\n",
       "      <td>AAP GAMCO's arry Haverty : Apple Is Extremely ...</td>\n",
       "      <td>1</td>\n",
       "      <td>AAP GAMCO arry Haverty Apple be Extremely Che...</td>\n",
       "      <td>1</td>\n",
       "    </tr>\n",
       "    <tr>\n",
       "      <th>13</th>\n",
       "      <td>user Maykiljil posted that.  I agree that MSFT...</td>\n",
       "      <td>1</td>\n",
       "      <td>user Maykiljil post   agree MSFT be go higher...</td>\n",
       "      <td>1</td>\n",
       "    </tr>\n",
       "    <tr>\n",
       "      <th>14</th>\n",
       "      <td>Momentum is coming back to ETFC Broke MA200 re...</td>\n",
       "      <td>1</td>\n",
       "      <td>Momentum be come ETFC break MA200 resistance ...</td>\n",
       "      <td>1</td>\n",
       "    </tr>\n",
       "    <tr>\n",
       "      <th>15</th>\n",
       "      <td>HA Hitting 35.65 means resume targeting 42 lev...</td>\n",
       "      <td>1</td>\n",
       "      <td>HA hit 35.65 mean resume target 42 level</td>\n",
       "      <td>1</td>\n",
       "    </tr>\n",
       "    <tr>\n",
       "      <th>16</th>\n",
       "      <td>user gameplan shot for today but I liked  on t...</td>\n",
       "      <td>1</td>\n",
       "      <td>user gameplan shoot today like   trend break ...</td>\n",
       "      <td>1</td>\n",
       "    </tr>\n",
       "    <tr>\n",
       "      <th>17</th>\n",
       "      <td>with FCX gapping well above ideal entry lookin...</td>\n",
       "      <td>1</td>\n",
       "      <td>FCX gap ideal entry look pull 35 open entry</td>\n",
       "      <td>1</td>\n",
       "    </tr>\n",
       "    <tr>\n",
       "      <th>18</th>\n",
       "      <td>user great list again, particularly like FISV ...</td>\n",
       "      <td>1</td>\n",
       "      <td>user great list particularly like FISV SYK bu...</td>\n",
       "      <td>1</td>\n",
       "    </tr>\n",
       "    <tr>\n",
       "      <th>19</th>\n",
       "      <td>ATHX upper trend line</td>\n",
       "      <td>1</td>\n",
       "      <td>ATHX upper trend line</td>\n",
       "      <td>1</td>\n",
       "    </tr>\n",
       "  </tbody>\n",
       "</table>\n",
       "</div>"
      ],
      "text/plain": [
       "                                                 Text  Sentiment  \\\n",
       "0   Kickers on my watchlist XIDE TIT SOQ PNK CPW B...          1   \n",
       "1   user: AAP MOVIE. 55% return for the FEA/GEED i...          1   \n",
       "2   user I'd be afraid to short AMZN - they are lo...          1   \n",
       "3                                   MNTA Over 12.00            1   \n",
       "4                                    OI  Over 21.37            1   \n",
       "5                                   PGNX  Over 3.04            1   \n",
       "6   AAP - user if so then the current downtrend wi...         -1   \n",
       "7   Monday's relative weakness. NYX WIN TIE TAP IC...         -1   \n",
       "8   GOOG - ower trend line channel test & volume s...          1   \n",
       "9              AAP will watch tomorrow for ONG entry.          1   \n",
       "10  i'm assuming FCX opens tomorrow above the 34.2...          1   \n",
       "11  It really worries me how everyone expects the ...          1   \n",
       "12  AAP GAMCO's arry Haverty : Apple Is Extremely ...          1   \n",
       "13  user Maykiljil posted that.  I agree that MSFT...          1   \n",
       "14  Momentum is coming back to ETFC Broke MA200 re...          1   \n",
       "15  HA Hitting 35.65 means resume targeting 42 lev...          1   \n",
       "16  user gameplan shot for today but I liked  on t...          1   \n",
       "17  with FCX gapping well above ideal entry lookin...          1   \n",
       "18  user great list again, particularly like FISV ...          1   \n",
       "19                           ATHX upper trend line             1   \n",
       "\n",
       "                                         cleaned_text  type_encoded  \n",
       "0    Kickers watchlist XIDE TIT SOQ PNK CPW BPZ AJ...             1  \n",
       "1    user AAP MOVIE 55 % return FEA GEED indicator...             1  \n",
       "2    user 'd be afraid short AMZN be look like nea...             1  \n",
       "3                                          MNTA 12.00             1  \n",
       "4                                          OI   21.37             1  \n",
       "5                                         PGNX   3.04             1  \n",
       "6    AAP user current downtrend will break short t...             0  \n",
       "7    Monday relative weaknesses NYX WIN TIE TAP IC...             0  \n",
       "8    GOOG ower trend line channel test volume support             1  \n",
       "9                   AAP will watch tomorrow ONG entry             1  \n",
       "10   be assume FCX open tomorrow 34.25 trigger buy...             1  \n",
       "11   worry everyone expect market rally usually ex...             1  \n",
       "12   AAP GAMCO arry Haverty Apple be Extremely Che...             1  \n",
       "13   user Maykiljil post   agree MSFT be go higher...             1  \n",
       "14   Momentum be come ETFC break MA200 resistance ...             1  \n",
       "15           HA hit 35.65 mean resume target 42 level             1  \n",
       "16   user gameplan shoot today like   trend break ...             1  \n",
       "17        FCX gap ideal entry look pull 35 open entry             1  \n",
       "18   user great list particularly like FISV SYK bu...             1  \n",
       "19                              ATHX upper trend line             1  "
      ]
     },
     "execution_count": 8,
     "metadata": {},
     "output_type": "execute_result"
    }
   ],
   "source": [
    "from sklearn.preprocessing import LabelEncoder\n",
    "\n",
    "encoder = LabelEncoder()\n",
    "encoder.fit(df['Sentiment'])\n",
    "\n",
    "df['type_encoded'] = encoder.transform(df['Sentiment'])\n",
    "df.head(20)"
   ]
  },
  {
   "cell_type": "markdown",
   "metadata": {},
   "source": [
    "### Basic Analysis"
   ]
  },
  {
   "cell_type": "code",
   "execution_count": 9,
   "metadata": {},
   "outputs": [
    {
     "name": "stdout",
     "output_type": "stream",
     "text": [
      "Number of positive posts: 3685\n",
      "Number of negative posts: 2106\n"
     ]
    },
    {
     "data": {
      "text/plain": [
       "<AxesSubplot:>"
      ]
     },
     "execution_count": 9,
     "metadata": {},
     "output_type": "execute_result"
    },
    {
     "data": {
      "image/png": "[encoded data removed]",
      "text/plain": [
       "<Figure size 432x288 with 1 Axes>"
      ]
     },
     "metadata": {
      "needs_background": "light"
     },
     "output_type": "display_data"
    }
   ],
   "source": [
    "import matplotlib.pyplot as plt\n",
    "\n",
    "\n",
    "\n",
    "print(\"Number of positive posts: {}\\nNumber of negative posts: {}\".format(df['type_encoded'].value_counts()[1],df['type_encoded'].value_counts()[0]))\n",
    "df['type_encoded'].value_counts().plot.bar(color=['#6461c2', '#ee0000'])"
   ]
  },
  {
   "cell_type": "code",
   "execution_count": 10,
   "metadata": {},
   "outputs": [
    {
     "data": {
      "text/html": [
       "<div>\n",
       "<style scoped>\n",
       "    .dataframe tbody tr th:only-of-type {\n",
       "        vertical-align: middle;\n",
       "    }\n",
       "\n",
       "    .dataframe tbody tr th {\n",
       "        vertical-align: top;\n",
       "    }\n",
       "\n",
       "    .dataframe thead th {\n",
       "        text-align: right;\n",
       "    }\n",
       "</style>\n",
       "<table border=\"1\" class=\"dataframe\">\n",
       "  <thead>\n",
       "    <tr style=\"text-align: right;\">\n",
       "      <th></th>\n",
       "      <th>Text</th>\n",
       "      <th>Sentiment</th>\n",
       "      <th>cleaned_text</th>\n",
       "      <th>type_encoded</th>\n",
       "      <th>length</th>\n",
       "    </tr>\n",
       "  </thead>\n",
       "  <tbody>\n",
       "    <tr>\n",
       "      <th>0</th>\n",
       "      <td>Kickers on my watchlist XIDE TIT SOQ PNK CPW B...</td>\n",
       "      <td>1</td>\n",
       "      <td>Kickers watchlist XIDE TIT SOQ PNK CPW BPZ AJ...</td>\n",
       "      <td>1</td>\n",
       "      <td>21</td>\n",
       "    </tr>\n",
       "    <tr>\n",
       "      <th>1</th>\n",
       "      <td>user: AAP MOVIE. 55% return for the FEA/GEED i...</td>\n",
       "      <td>1</td>\n",
       "      <td>user AAP MOVIE 55 % return FEA GEED indicator...</td>\n",
       "      <td>1</td>\n",
       "      <td>19</td>\n",
       "    </tr>\n",
       "    <tr>\n",
       "      <th>2</th>\n",
       "      <td>user I'd be afraid to short AMZN - they are lo...</td>\n",
       "      <td>1</td>\n",
       "      <td>user 'd be afraid short AMZN be look like nea...</td>\n",
       "      <td>1</td>\n",
       "      <td>18</td>\n",
       "    </tr>\n",
       "    <tr>\n",
       "      <th>3</th>\n",
       "      <td>MNTA Over 12.00</td>\n",
       "      <td>1</td>\n",
       "      <td>MNTA 12.00</td>\n",
       "      <td>1</td>\n",
       "      <td>5</td>\n",
       "    </tr>\n",
       "    <tr>\n",
       "      <th>4</th>\n",
       "      <td>OI  Over 21.37</td>\n",
       "      <td>1</td>\n",
       "      <td>OI   21.37</td>\n",
       "      <td>1</td>\n",
       "      <td>6</td>\n",
       "    </tr>\n",
       "  </tbody>\n",
       "</table>\n",
       "</div>"
      ],
      "text/plain": [
       "                                                Text  Sentiment  \\\n",
       "0  Kickers on my watchlist XIDE TIT SOQ PNK CPW B...          1   \n",
       "1  user: AAP MOVIE. 55% return for the FEA/GEED i...          1   \n",
       "2  user I'd be afraid to short AMZN - they are lo...          1   \n",
       "3                                  MNTA Over 12.00            1   \n",
       "4                                   OI  Over 21.37            1   \n",
       "\n",
       "                                        cleaned_text  type_encoded  length  \n",
       "0   Kickers watchlist XIDE TIT SOQ PNK CPW BPZ AJ...             1      21  \n",
       "1   user AAP MOVIE 55 % return FEA GEED indicator...             1      19  \n",
       "2   user 'd be afraid short AMZN be look like nea...             1      18  \n",
       "3                                         MNTA 12.00             1       5  \n",
       "4                                         OI   21.37             1       6  "
      ]
     },
     "execution_count": 10,
     "metadata": {},
     "output_type": "execute_result"
    }
   ],
   "source": [
    "\n",
    "df['length'] = df['Text'].apply(lambda x: len(x.split(' ')))\n",
    "df.head()"
   ]
  },
  {
   "cell_type": "code",
   "execution_count": 11,
   "metadata": {},
   "outputs": [
    {
     "data": {
      "text/plain": [
       "Text(0.5, 0, 'Message Length')"
      ]
     },
     "execution_count": 11,
     "metadata": {},
     "output_type": "execute_result"
    },
    {
     "data": {
      "image/png": "[encoded data removed]",
      "text/plain": [
       "<Figure size 432x288 with 1 Axes>"
      ]
     },
     "metadata": {},
     "output_type": "display_data"
    }
   ],
   "source": [
    "import matplotlib.pyplot as plt\n",
    "\n",
    "\n",
    "%matplotlib inline\n",
    "\n",
    "plt.style.use(\"ggplot\")\n",
    "plt.figure(figsize=(6, 4))\n",
    "\n",
    "df[df.type_encoded==1].length.plot(\n",
    "    kind='hist', color='#6461c2',\n",
    "    label='positive posts', alpha=0.6)\n",
    "#df[df.label=='FAKE'].length.plot(\n",
    "#    kind='hist', color='#ee0000', \n",
    "#    label='Fake New', alpha=0.6)\n",
    "\n",
    "plt.legend()\n",
    "plt.xlabel(\"Message Length\")"
   ]
  },
  {
   "cell_type": "code",
   "execution_count": 12,
   "metadata": {},
   "outputs": [
    {
     "data": {
      "text/plain": [
       "Text(0.5, 0, 'Message Length')"
      ]
     },
     "execution_count": 12,
     "metadata": {},
     "output_type": "execute_result"
    },
    {
     "data": {
      "image/png": "[encoded data removed]",
      "text/plain": [
       "<Figure size 432x288 with 1 Axes>"
      ]
     },
     "metadata": {},
     "output_type": "display_data"
    }
   ],
   "source": [
    "import matplotlib.pyplot as plt\n",
    "\n",
    "\n",
    "%matplotlib inline\n",
    "\n",
    "plt.style.use(\"ggplot\")\n",
    "plt.figure(figsize=(6, 4))\n",
    "\n",
    "#df[df.label=='REAL'].length.plot(\n",
    "#    kind='hist', color='#6461c2',\n",
    "#    label='Real News', alpha=0.6)\n",
    "df[df.type_encoded==0].length.plot(\n",
    "    kind='hist', color='#ee0000', \n",
    "    label='negative posts', alpha=0.6)\n",
    "\n",
    "plt.legend()\n",
    "plt.xlabel(\"Message Length\")"
   ]
  },
  {
   "cell_type": "markdown",
   "metadata": {},
   "source": [
    "### N-Gram"
   ]
  },
  {
   "cell_type": "code",
   "execution_count": 13,
   "metadata": {},
   "outputs": [
    {
     "name": "stdout",
     "output_type": "stream",
     "text": [
      "('this', 'is')\n",
      "('is', 'a')\n",
      "('a', 'foo')\n",
      "('foo', 'bar')\n",
      "('bar', 'sentences')\n",
      "('sentences', 'and')\n",
      "('and', 'i')\n"
     ]
    }
   ],
   "source": [
    "#n grams are a combinations of n words in our specific case\n",
    "#below you can see the possible cominations of 2 words (without changing the ordering of the words)\n",
    "\n",
    "from nltk import ngrams\n",
    "sentence = 'this is a foo bar sentences and i '\n",
    "\n",
    "n = 2\n",
    "sevengrams = ngrams(sentence.split(), n)\n",
    "\n",
    "for grams in sevengrams:\n",
    "    print(grams)"
   ]
  },
  {
   "cell_type": "code",
   "execution_count": 17,
   "metadata": {},
   "outputs": [
    {
     "data": {
      "text/html": [
       "<div>\n",
       "<style scoped>\n",
       "    .dataframe tbody tr th:only-of-type {\n",
       "        vertical-align: middle;\n",
       "    }\n",
       "\n",
       "    .dataframe tbody tr th {\n",
       "        vertical-align: top;\n",
       "    }\n",
       "\n",
       "    .dataframe thead th {\n",
       "        text-align: right;\n",
       "    }\n",
       "</style>\n",
       "<table border=\"1\" class=\"dataframe\">\n",
       "  <thead>\n",
       "    <tr style=\"text-align: right;\">\n",
       "      <th></th>\n",
       "      <th>grams</th>\n",
       "    </tr>\n",
       "  </thead>\n",
       "  <tbody>\n",
       "    <tr>\n",
       "      <th>0</th>\n",
       "      <td>[Kickers watchlist, watchlist XIDE, XIDE TIT, ...</td>\n",
       "    </tr>\n",
       "    <tr>\n",
       "      <th>1</th>\n",
       "      <td>[user AAP, AAP MOVIE, MOVIE 55, 55 %, % return...</td>\n",
       "    </tr>\n",
       "    <tr>\n",
       "      <th>2</th>\n",
       "      <td>[user 'd, 'd be, be afraid, afraid short, shor...</td>\n",
       "    </tr>\n",
       "    <tr>\n",
       "      <th>3</th>\n",
       "      <td>[MNTA 12.00]</td>\n",
       "    </tr>\n",
       "    <tr>\n",
       "      <th>4</th>\n",
       "      <td>[OI 21.37]</td>\n",
       "    </tr>\n",
       "  </tbody>\n",
       "</table>\n",
       "</div>"
      ],
      "text/plain": [
       "                                               grams\n",
       "0  [Kickers watchlist, watchlist XIDE, XIDE TIT, ...\n",
       "1  [user AAP, AAP MOVIE, MOVIE 55, 55 %, % return...\n",
       "2  [user 'd, 'd be, be afraid, afraid short, shor...\n",
       "3                                       [MNTA 12.00]\n",
       "4                                         [OI 21.37]"
      ]
     },
     "execution_count": 17,
     "metadata": {},
     "output_type": "execute_result"
    }
   ],
   "source": [
    "def create_ngrams(input_text):\n",
    "    #onegrams = input_list\n",
    "    bigrams = [\" \".join(t) for t in list(zip(input_text, input_text[1:]))]\n",
    "    trigrams = [\" \".join(t) for t in list(zip(input_text, input_text[1:], input_text[2:]))]\n",
    "    return bigrams + trigrams\n",
    "\n",
    "\n",
    "df[\"grams\"] = df[\"cleaned_text\"].apply(lambda x:create_ngrams(x.split()))\n",
    "df[[\"grams\"]].head()"
   ]
  },
  {
   "cell_type": "code",
   "execution_count": 19,
   "metadata": {},
   "outputs": [
    {
     "data": {
      "text/plain": [
       "[('Weekly Triangle', 48),\n",
       " ('Green Weekly', 45),\n",
       " ('™ s', 41),\n",
       " ('Green Weekly Triangle', 38),\n",
       " ('user AAP', 31),\n",
       " ('will be', 30),\n",
       " ('be short', 30),\n",
       " ('Amid Coronavirus', 25),\n",
       " ('Sensex Nifty', 22),\n",
       " ('look like', 20)]"
      ]
     },
     "execution_count": 19,
     "metadata": {},
     "output_type": "execute_result"
    }
   ],
   "source": [
    "#seeing the most common 2 or 3 word comibnations in negative posts\n",
    "import collections\n",
    "def count_words(input_text):\n",
    "    cnt = collections.Counter()\n",
    "    for row in input_text:\n",
    "        for word in row:\n",
    "            cnt[word] += 1\n",
    "    return cnt\n",
    "\n",
    "count_words(df[(df.type_encoded == 0)][\"grams\"]).most_common(10)"
   ]
  },
  {
   "cell_type": "code",
   "execution_count": 20,
   "metadata": {},
   "outputs": [
    {
     "data": {
      "text/plain": [
       "[('user AAP', 80),\n",
       " ('watch list', 66),\n",
       " ('AAP be', 43),\n",
       " ('will be', 39),\n",
       " ('look good', 39),\n",
       " ('have be', 39),\n",
       " ('look like', 38),\n",
       " ('™ s', 35),\n",
       " ('be go', 32),\n",
       " ('new highs', 30)]"
      ]
     },
     "execution_count": 20,
     "metadata": {},
     "output_type": "execute_result"
    }
   ],
   "source": [
    "#seeing the most common 2 or 3 word comibnations in positive posts\n",
    "import collections\n",
    "def count_words(input_text):\n",
    "    cnt = collections.Counter()\n",
    "    for row in input_text:\n",
    "        for word in row:\n",
    "            cnt[word] += 1\n",
    "    return cnt\n",
    "\n",
    "count_words(df[(df.type_encoded == 1)][\"grams\"]).most_common(10)"
   ]
  },
  {
   "cell_type": "markdown",
   "metadata": {},
   "source": [
    "### Naive Bayes"
   ]
  },
  {
   "cell_type": "code",
   "execution_count": 21,
   "metadata": {},
   "outputs": [
    {
     "name": "stdout",
     "output_type": "stream",
     "text": [
      "5791 5791\n",
      "[[0 0 0 ... 0 0 0]\n",
      " [0 0 0 ... 0 0 0]\n",
      " [0 0 0 ... 0 0 0]\n",
      " ...\n",
      " [0 0 0 ... 0 0 0]\n",
      " [0 0 0 ... 0 0 0]\n",
      " [0 0 0 ... 0 0 0]]\n"
     ]
    }
   ],
   "source": [
    "# creating the feature matrix \n",
    "#define x and y axis of the matrix we build later\n",
    "X = df['cleaned_text']\n",
    "Y = df['type_encoded']\n",
    "print(len(X), len(Y))\n",
    "\n",
    "from sklearn.feature_extraction.text import CountVectorizer\n",
    "matrix = CountVectorizer(max_features=1000)\n",
    "X = matrix.fit_transform(X).toarray()\n",
    "\n",
    "\n",
    "# splitting the data into train and test sets\n",
    "from sklearn.model_selection import train_test_split\n",
    "X_train, X_test, Y_train, Y_test = train_test_split(X, Y, test_size=0.2)\n",
    "\n",
    "print(X)"
   ]
  },
  {
   "cell_type": "code",
   "execution_count": 22,
   "metadata": {},
   "outputs": [
    {
     "name": "stdout",
     "output_type": "stream",
     "text": [
      "0.5962036238136325\n"
     ]
    }
   ],
   "source": [
    "# load a Naive Bayes model from sklearn\n",
    "from sklearn.naive_bayes import GaussianNB\n",
    "classifier = GaussianNB()\n",
    "classifier.fit(X_train, Y_train)\n",
    "\n",
    "# predict the class\n",
    "Y_pred = classifier.predict(X_test)\n",
    "\n",
    "# get the accuracy\n",
    "from sklearn.metrics import accuracy_score\n",
    "accuracy = accuracy_score(Y_test, Y_pred)\n",
    "\n",
    "print(accuracy)"
   ]
  },
  {
   "cell_type": "markdown",
   "metadata": {},
   "source": [
    "## Deep Learning"
   ]
  },
  {
   "cell_type": "code",
   "execution_count": 14,
   "metadata": {},
   "outputs": [],
   "source": [
    "#importing the necessary data\n",
    "\n",
    "import tensorflow as tf\n",
    "from tensorflow.keras.models import Sequential\n",
    "from tensorflow.keras.layers import LSTM, Activation, Dense, Dropout, Input, Embedding, SimpleRNN\n",
    "from tensorflow.keras.preprocessing.text import Tokenizer\n",
    "from tensorflow.keras.preprocessing import sequence\n",
    "from tensorflow.keras.models import Model\n",
    "from tensorflow.keras.utils import to_categorical\n",
    "from tensorflow.keras.optimizers import RMSprop\n",
    "from tensorflow.keras.callbacks import EarlyStopping\n",
    "\n",
    "from sklearn.model_selection import train_test_split"
   ]
  },
  {
   "cell_type": "code",
   "execution_count": 15,
   "metadata": {},
   "outputs": [
    {
     "data": {
      "text/html": [
       "<div>\n",
       "<style scoped>\n",
       "    .dataframe tbody tr th:only-of-type {\n",
       "        vertical-align: middle;\n",
       "    }\n",
       "\n",
       "    .dataframe tbody tr th {\n",
       "        vertical-align: top;\n",
       "    }\n",
       "\n",
       "    .dataframe thead th {\n",
       "        text-align: right;\n",
       "    }\n",
       "</style>\n",
       "<table border=\"1\" class=\"dataframe\">\n",
       "  <thead>\n",
       "    <tr style=\"text-align: right;\">\n",
       "      <th></th>\n",
       "      <th>Text</th>\n",
       "      <th>Sentiment</th>\n",
       "      <th>cleaned_text</th>\n",
       "      <th>type_encoded</th>\n",
       "      <th>length</th>\n",
       "    </tr>\n",
       "  </thead>\n",
       "  <tbody>\n",
       "    <tr>\n",
       "      <th>0</th>\n",
       "      <td>Kickers on my watchlist XIDE TIT SOQ PNK CPW B...</td>\n",
       "      <td>1</td>\n",
       "      <td>Kickers watchlist XIDE TIT SOQ PNK CPW BPZ AJ...</td>\n",
       "      <td>1</td>\n",
       "      <td>21</td>\n",
       "    </tr>\n",
       "    <tr>\n",
       "      <th>1</th>\n",
       "      <td>user: AAP MOVIE. 55% return for the FEA/GEED i...</td>\n",
       "      <td>1</td>\n",
       "      <td>user AAP MOVIE 55 % return FEA GEED indicator...</td>\n",
       "      <td>1</td>\n",
       "      <td>19</td>\n",
       "    </tr>\n",
       "    <tr>\n",
       "      <th>2</th>\n",
       "      <td>user I'd be afraid to short AMZN - they are lo...</td>\n",
       "      <td>1</td>\n",
       "      <td>user 'd be afraid short AMZN be look like nea...</td>\n",
       "      <td>1</td>\n",
       "      <td>18</td>\n",
       "    </tr>\n",
       "    <tr>\n",
       "      <th>3</th>\n",
       "      <td>MNTA Over 12.00</td>\n",
       "      <td>1</td>\n",
       "      <td>MNTA 12.00</td>\n",
       "      <td>1</td>\n",
       "      <td>5</td>\n",
       "    </tr>\n",
       "    <tr>\n",
       "      <th>4</th>\n",
       "      <td>OI  Over 21.37</td>\n",
       "      <td>1</td>\n",
       "      <td>OI   21.37</td>\n",
       "      <td>1</td>\n",
       "      <td>6</td>\n",
       "    </tr>\n",
       "  </tbody>\n",
       "</table>\n",
       "</div>"
      ],
      "text/plain": [
       "                                                Text  Sentiment  \\\n",
       "0  Kickers on my watchlist XIDE TIT SOQ PNK CPW B...          1   \n",
       "1  user: AAP MOVIE. 55% return for the FEA/GEED i...          1   \n",
       "2  user I'd be afraid to short AMZN - they are lo...          1   \n",
       "3                                  MNTA Over 12.00            1   \n",
       "4                                   OI  Over 21.37            1   \n",
       "\n",
       "                                        cleaned_text  type_encoded  length  \n",
       "0   Kickers watchlist XIDE TIT SOQ PNK CPW BPZ AJ...             1      21  \n",
       "1   user AAP MOVIE 55 % return FEA GEED indicator...             1      19  \n",
       "2   user 'd be afraid short AMZN be look like nea...             1      18  \n",
       "3                                         MNTA 12.00             1       5  \n",
       "4                                         OI   21.37             1       6  "
      ]
     },
     "execution_count": 15,
     "metadata": {},
     "output_type": "execute_result"
    }
   ],
   "source": [
    "from sklearn.preprocessing import LabelEncoder\n",
    "\n",
    "encoder = LabelEncoder()\n",
    "encoder.fit(df['Sentiment'])\n",
    "\n",
    "df['type_encoded'] = encoder.transform(df['Sentiment'])\n",
    "df.head()"
   ]
  },
  {
   "cell_type": "code",
   "execution_count": 16,
   "metadata": {},
   "outputs": [
    {
     "name": "stdout",
     "output_type": "stream",
     "text": [
      "5791 5791\n"
     ]
    }
   ],
   "source": [
    "#define x and y axis of the matrix we build later\n",
    "X = df['cleaned_text']\n",
    "Y = df['type_encoded']\n",
    "print(len(X), len(Y))\n",
    "\n",
    "Y = encoder.fit_transform(Y)\n",
    "Y = Y.reshape(-1,1)\n",
    "\n",
    "#split into training and test set\n",
    "X_train,X_test,Y_train,Y_test = train_test_split(X, Y,test_size=0.20)\n",
    "\n",
    "#initialize vectorization\n",
    "max_words = 10000\n",
    "max_len = 200\n",
    "tok = Tokenizer(num_words=max_words)\n",
    "tok.fit_on_texts(X_train)\n",
    "sequences = tok.texts_to_sequences(X_train)\n",
    "sequences_matrix = sequence.pad_sequences(sequences,maxlen=max_len)"
   ]
  },
  {
   "cell_type": "markdown",
   "metadata": {},
   "source": [
    "### LSTM Model"
   ]
  },
  {
   "cell_type": "code",
   "execution_count": 24,
   "metadata": {},
   "outputs": [],
   "source": [
    "def RNN():\n",
    "    inputs = Input(name='inputs',shape=[max_len])\n",
    "    layer = Embedding(max_words, 50,input_length=max_len)(inputs)\n",
    "    layer = LSTM(64)(layer)\n",
    "    layer = Dense(256,name='FC1')(layer)\n",
    "    layer = Activation('relu')(layer)\n",
    "    layer = Dropout(0.5)(layer)\n",
    "    layer = Dense(1,name='out_layer')(layer)\n",
    "    layer = Activation('sigmoid')(layer)\n",
    "    model = Model(inputs=inputs,outputs=layer)\n",
    "    return model"
   ]
  },
  {
   "cell_type": "code",
   "execution_count": 25,
   "metadata": {},
   "outputs": [
    {
     "name": "stdout",
     "output_type": "stream",
     "text": [
      "Model: \"model\"\n",
      "_________________________________________________________________\n",
      "Layer (type)                 Output Shape              Param #   \n",
      "=================================================================\n",
      "inputs (InputLayer)          [(None, 200)]             0         \n",
      "_________________________________________________________________\n",
      "embedding (Embedding)        (None, 200, 50)           500000    \n",
      "_________________________________________________________________\n",
      "lstm (LSTM)                  (None, 64)                29440     \n",
      "_________________________________________________________________\n",
      "FC1 (Dense)                  (None, 256)               16640     \n",
      "_________________________________________________________________\n",
      "activation (Activation)      (None, 256)               0         \n",
      "_________________________________________________________________\n",
      "dropout (Dropout)            (None, 256)               0         \n",
      "_________________________________________________________________\n",
      "out_layer (Dense)            (None, 1)                 257       \n",
      "_________________________________________________________________\n",
      "activation_1 (Activation)    (None, 1)                 0         \n",
      "=================================================================\n",
      "Total params: 546,337\n",
      "Trainable params: 546,337\n",
      "Non-trainable params: 0\n",
      "_________________________________________________________________\n"
     ]
    }
   ],
   "source": [
    "model = RNN()\n",
    "model.summary()\n",
    "model.compile(loss='binary_crossentropy',optimizer=RMSprop(),metrics=['accuracy'])"
   ]
  },
  {
   "cell_type": "code",
   "execution_count": 29,
   "metadata": {},
   "outputs": [
    {
     "name": "stdout",
     "output_type": "stream",
     "text": [
      "Epoch 1/7\n",
      "29/29 [==============================] - 18s 569ms/step - loss: 0.2324 - accuracy: 0.6309 - val_loss: 0.2277 - val_accuracy: 0.6502\n",
      "Epoch 2/7\n",
      "29/29 [==============================] - 21s 731ms/step - loss: 0.2322 - accuracy: 0.6319 - val_loss: 0.2286 - val_accuracy: 0.6498\n",
      "Epoch 3/7\n",
      "29/29 [==============================] - 23s 798ms/step - loss: 0.2321 - accuracy: 0.6330 - val_loss: 0.2283 - val_accuracy: 0.6495\n",
      "Epoch 4/7\n",
      "29/29 [==============================] - 23s 795ms/step - loss: 0.2317 - accuracy: 0.6342 - val_loss: 0.2278 - val_accuracy: 0.6493\n",
      "Epoch 5/7\n",
      "29/29 [==============================] - 23s 801ms/step - loss: 0.2316 - accuracy: 0.6354 - val_loss: 0.2282 - val_accuracy: 0.6486\n",
      "Epoch 6/7\n",
      "29/29 [==============================] - 23s 810ms/step - loss: 0.2306 - accuracy: 0.6373 - val_loss: 0.2323 - val_accuracy: 0.6478\n",
      "Epoch 7/7\n",
      "29/29 [==============================] - 23s 813ms/step - loss: 0.2304 - accuracy: 0.6383 - val_loss: 0.2321 - val_accuracy: 0.6477\n"
     ]
    }
   ],
   "source": [
    "training_data = model.fit(sequences_matrix,Y_train,batch_size=128,epochs=7, validation_split=0.2)"
   ]
  },
  {
   "cell_type": "code",
   "execution_count": 30,
   "metadata": {},
   "outputs": [],
   "source": [
    "\n",
    "import matplotlib.pyplot as plt\n",
    "\n",
    "def plot_training(training_data,train,validation):\n",
    "    plt.style.use('ggplot')\n",
    "    plt.plot(training_data.history[train], color='#6461c2')\n",
    "    plt.plot(training_data.history[validation], color='#ee0000')\n",
    "    plt.title('Learning Progress')\n",
    "    plt.ylabel(train)\n",
    "    plt.xlabel('Epoch')\n",
    "    plt.legend(['train', 'validation'], loc='upper left')\n",
    "    plt.show()"
   ]
  },
  {
   "cell_type": "code",
   "execution_count": 31,
   "metadata": {},
   "outputs": [
    {
     "data": {
      "image/png": "[encoded data removed]",
      "text/plain": [
       "<Figure size 432x288 with 1 Axes>"
      ]
     },
     "metadata": {},
     "output_type": "display_data"
    }
   ],
   "source": [
    "plot_training(training_data, 'accuracy', 'val_accuracy')"
   ]
  },
  {
   "cell_type": "code",
   "execution_count": 32,
   "metadata": {},
   "outputs": [
    {
     "data": {
      "image/png": "[encoded data removed]",
      "text/plain": [
       "<Figure size 432x288 with 1 Axes>"
      ]
     },
     "metadata": {},
     "output_type": "display_data"
    }
   ],
   "source": [
    "plot_training(training_data, 'loss', 'val_loss')"
   ]
  },
  {
   "cell_type": "markdown",
   "metadata": {},
   "source": [
    "### Sequential - GRU"
   ]
  },
  {
   "cell_type": "code",
   "execution_count": 23,
   "metadata": {},
   "outputs": [],
   "source": [
    "from tensorflow.keras.layers import GRU\n",
    "\n",
    "def Sequential():\n",
    "    inputs = Input(name='inputs',shape=[max_len])\n",
    "    layer = Embedding(max_words, 50,input_length=max_len)(inputs)\n",
    "    layer = GRU(256, return_sequences=True)(layer)\n",
    "    layer = Dense(1,name='out_layer')(layer)\n",
    "    layer = Activation('sigmoid')(layer)\n",
    "    \n",
    "    model = Model(inputs=inputs,outputs=layer)\n",
    "    return model"
   ]
  },
  {
   "cell_type": "code",
   "execution_count": 24,
   "metadata": {},
   "outputs": [
    {
     "name": "stdout",
     "output_type": "stream",
     "text": [
      "Model: \"model\"\n",
      "_________________________________________________________________\n",
      "Layer (type)                 Output Shape              Param #   \n",
      "=================================================================\n",
      "inputs (InputLayer)          [(None, 200)]             0         \n",
      "_________________________________________________________________\n",
      "embedding (Embedding)        (None, 200, 50)           500000    \n",
      "_________________________________________________________________\n",
      "gru (GRU)                    (None, 200, 256)          236544    \n",
      "_________________________________________________________________\n",
      "out_layer (Dense)            (None, 200, 1)            257       \n",
      "_________________________________________________________________\n",
      "activation (Activation)      (None, 200, 1)            0         \n",
      "=================================================================\n",
      "Total params: 736,801\n",
      "Trainable params: 736,801\n",
      "Non-trainable params: 0\n",
      "_________________________________________________________________\n"
     ]
    }
   ],
   "source": [
    "model = Sequential()\n",
    "model.summary()\n",
    "model.compile(loss='mse',optimizer='adam',metrics=['accuracy'])\n"
   ]
  },
  {
   "cell_type": "code",
   "execution_count": 25,
   "metadata": {},
   "outputs": [
    {
     "name": "stdout",
     "output_type": "stream",
     "text": [
      "Epoch 1/7\n",
      "29/29 [==============================] - 20s 576ms/step - loss: 0.2353 - accuracy: 0.6300 - val_loss: 0.2293 - val_accuracy: 0.6505\n",
      "Epoch 2/7\n",
      "29/29 [==============================] - 17s 573ms/step - loss: 0.2337 - accuracy: 0.6302 - val_loss: 0.2289 - val_accuracy: 0.6505\n",
      "Epoch 3/7\n",
      "29/29 [==============================] - 17s 596ms/step - loss: 0.2333 - accuracy: 0.6302 - val_loss: 0.2288 - val_accuracy: 0.6505\n",
      "Epoch 4/7\n",
      "29/29 [==============================] - 19s 662ms/step - loss: 0.2329 - accuracy: 0.6302 - val_loss: 0.2309 - val_accuracy: 0.6505\n",
      "Epoch 5/7\n",
      "29/29 [==============================] - 21s 746ms/step - loss: 0.2342 - accuracy: 0.6302 - val_loss: 0.2274 - val_accuracy: 0.6505\n",
      "Epoch 6/7\n",
      "29/29 [==============================] - 24s 841ms/step - loss: 0.2327 - accuracy: 0.6303 - val_loss: 0.2289 - val_accuracy: 0.6505\n",
      "Epoch 7/7\n",
      "29/29 [==============================] - 24s 815ms/step - loss: 0.2328 - accuracy: 0.6304 - val_loss: 0.2277 - val_accuracy: 0.6504\n"
     ]
    }
   ],
   "source": [
    "\n",
    "training_data = model.fit(sequences_matrix,Y_train,batch_size=128,epochs=7, validation_split=0.2)"
   ]
  },
  {
   "cell_type": "code",
   "execution_count": 26,
   "metadata": {},
   "outputs": [],
   "source": [
    "import matplotlib.pyplot as plt\n",
    "\n",
    "def plot_training(training_data,train,validation):\n",
    "    plt.style.use('ggplot')\n",
    "    plt.plot(training_data.history[train], color='#6461c2')\n",
    "    plt.plot(training_data.history[validation], color='#ee0000')\n",
    "    plt.title('Learning Progress')\n",
    "    plt.ylabel(train)\n",
    "    plt.xlabel('Epoch')\n",
    "    plt.legend(['train', 'validation'], loc='upper left')\n",
    "    plt.show()"
   ]
  },
  {
   "cell_type": "code",
   "execution_count": 27,
   "metadata": {},
   "outputs": [
    {
     "data": {
      "image/png": "[encoded data removed]",
      "text/plain": [
       "<Figure size 432x288 with 1 Axes>"
      ]
     },
     "metadata": {},
     "output_type": "display_data"
    }
   ],
   "source": [
    "plot_training(training_data, 'accuracy', 'val_accuracy')"
   ]
  },
  {
   "cell_type": "code",
   "execution_count": 28,
   "metadata": {},
   "outputs": [
    {
     "data": {
      "image/png": "[encoded data removed]",
      "text/plain": [
       "<Figure size 432x288 with 1 Axes>"
      ]
     },
     "metadata": {},
     "output_type": "display_data"
    }
   ],
   "source": [
    "plot_training(training_data, 'loss', 'val_loss')"
   ]
  },
  {
   "cell_type": "code",
   "execution_count": null,
   "metadata": {},
   "outputs": [],
   "source": []
  }
 ],
 "metadata": {
  "kernelspec": {
   "display_name": "Python 3",
   "language": "python",
   "name": "python3"
  },
  "language_info": {
   "codemirror_mode": {
    "name": "ipython",
    "version": 3
   },
   "file_extension": ".py",
   "mimetype": "text/x-python",
   "name": "python",
   "nbconvert_exporter": "python",
   "pygments_lexer": "ipython3",
   "version": "3.9.2"
  }
 },
 "nbformat": 4,
 "nbformat_minor": 4
}
