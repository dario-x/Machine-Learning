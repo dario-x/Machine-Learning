{
 "cells": [
  {
   "cell_type": "markdown",
   "metadata": {},
   "source": [
    "## Importing packages and data"
   ]
  },
  {
   "cell_type": "code",
   "execution_count": 139,
   "metadata": {},
   "outputs": [],
   "source": [
    "import pandas as pd\n",
    "import matplotlib.pyplot as plt\n",
    "import warnings\n",
    "import seaborn as sns\n",
    "import numpy as np\n",
    "import yellowbrick\n",
    "from sklearn.preprocessing import StandardScaler\n",
    "from sklearn.model_selection import train_test_split\n",
    "from sklearn.tree import DecisionTreeRegressor\n",
    "from sklearn.metrics import r2_score,mean_absolute_error,mean_squared_error\n"
   ]
  },
  {
   "cell_type": "code",
   "execution_count": 140,
   "metadata": {},
   "outputs": [],
   "source": [
    "df = pd.read_csv(r\"C:\\Users\\noahw\\OneDrive\\Desktop\\machinelearning\\insurance.csv\")"
   ]
  },
  {
   "cell_type": "markdown",
   "metadata": {},
   "source": [
    "## Information about the data"
   ]
  },
  {
   "cell_type": "code",
   "execution_count": 141,
   "metadata": {},
   "outputs": [
    {
     "data": {
      "text/plain": [
       "(1338, 7)"
      ]
     },
     "execution_count": 141,
     "metadata": {},
     "output_type": "execute_result"
    }
   ],
   "source": [
    "df.shape"
   ]
  },
  {
   "cell_type": "code",
   "execution_count": 142,
   "metadata": {},
   "outputs": [
    {
     "data": {
      "text/html": [
       "<div>\n",
       "<style scoped>\n",
       "    .dataframe tbody tr th:only-of-type {\n",
       "        vertical-align: middle;\n",
       "    }\n",
       "\n",
       "    .dataframe tbody tr th {\n",
       "        vertical-align: top;\n",
       "    }\n",
       "\n",
       "    .dataframe thead th {\n",
       "        text-align: right;\n",
       "    }\n",
       "</style>\n",
       "<table border=\"1\" class=\"dataframe\">\n",
       "  <thead>\n",
       "    <tr style=\"text-align: right;\">\n",
       "      <th></th>\n",
       "      <th>age</th>\n",
       "      <th>sex</th>\n",
       "      <th>bmi</th>\n",
       "      <th>children</th>\n",
       "      <th>smoker</th>\n",
       "      <th>region</th>\n",
       "      <th>charges</th>\n",
       "    </tr>\n",
       "  </thead>\n",
       "  <tbody>\n",
       "    <tr>\n",
       "      <th>0</th>\n",
       "      <td>19</td>\n",
       "      <td>female</td>\n",
       "      <td>27.900</td>\n",
       "      <td>0</td>\n",
       "      <td>yes</td>\n",
       "      <td>southwest</td>\n",
       "      <td>16884.92400</td>\n",
       "    </tr>\n",
       "    <tr>\n",
       "      <th>1</th>\n",
       "      <td>18</td>\n",
       "      <td>male</td>\n",
       "      <td>33.770</td>\n",
       "      <td>1</td>\n",
       "      <td>no</td>\n",
       "      <td>southeast</td>\n",
       "      <td>1725.55230</td>\n",
       "    </tr>\n",
       "    <tr>\n",
       "      <th>2</th>\n",
       "      <td>28</td>\n",
       "      <td>male</td>\n",
       "      <td>33.000</td>\n",
       "      <td>3</td>\n",
       "      <td>no</td>\n",
       "      <td>southeast</td>\n",
       "      <td>4449.46200</td>\n",
       "    </tr>\n",
       "    <tr>\n",
       "      <th>3</th>\n",
       "      <td>33</td>\n",
       "      <td>male</td>\n",
       "      <td>22.705</td>\n",
       "      <td>0</td>\n",
       "      <td>no</td>\n",
       "      <td>northwest</td>\n",
       "      <td>21984.47061</td>\n",
       "    </tr>\n",
       "    <tr>\n",
       "      <th>4</th>\n",
       "      <td>32</td>\n",
       "      <td>male</td>\n",
       "      <td>28.880</td>\n",
       "      <td>0</td>\n",
       "      <td>no</td>\n",
       "      <td>northwest</td>\n",
       "      <td>3866.85520</td>\n",
       "    </tr>\n",
       "  </tbody>\n",
       "</table>\n",
       "</div>"
      ],
      "text/plain": [
       "   age     sex     bmi  children smoker     region      charges\n",
       "0   19  female  27.900         0    yes  southwest  16884.92400\n",
       "1   18    male  33.770         1     no  southeast   1725.55230\n",
       "2   28    male  33.000         3     no  southeast   4449.46200\n",
       "3   33    male  22.705         0     no  northwest  21984.47061\n",
       "4   32    male  28.880         0     no  northwest   3866.85520"
      ]
     },
     "execution_count": 142,
     "metadata": {},
     "output_type": "execute_result"
    }
   ],
   "source": [
    "df.head()"
   ]
  },
  {
   "cell_type": "code",
   "execution_count": 143,
   "metadata": {},
   "outputs": [
    {
     "name": "stdout",
     "output_type": "stream",
     "text": [
      "<class 'pandas.core.frame.DataFrame'>\n",
      "RangeIndex: 1338 entries, 0 to 1337\n",
      "Data columns (total 7 columns):\n",
      " #   Column    Non-Null Count  Dtype  \n",
      "---  ------    --------------  -----  \n",
      " 0   age       1338 non-null   int64  \n",
      " 1   sex       1338 non-null   object \n",
      " 2   bmi       1338 non-null   float64\n",
      " 3   children  1338 non-null   int64  \n",
      " 4   smoker    1338 non-null   object \n",
      " 5   region    1338 non-null   object \n",
      " 6   charges   1338 non-null   float64\n",
      "dtypes: float64(2), int64(2), object(3)\n",
      "memory usage: 73.3+ KB\n"
     ]
    }
   ],
   "source": [
    "df.info()"
   ]
  },
  {
   "cell_type": "code",
   "execution_count": 144,
   "metadata": {},
   "outputs": [
    {
     "data": {
      "text/html": [
       "<div>\n",
       "<style scoped>\n",
       "    .dataframe tbody tr th:only-of-type {\n",
       "        vertical-align: middle;\n",
       "    }\n",
       "\n",
       "    .dataframe tbody tr th {\n",
       "        vertical-align: top;\n",
       "    }\n",
       "\n",
       "    .dataframe thead th {\n",
       "        text-align: right;\n",
       "    }\n",
       "</style>\n",
       "<table border=\"1\" class=\"dataframe\">\n",
       "  <thead>\n",
       "    <tr style=\"text-align: right;\">\n",
       "      <th></th>\n",
       "      <th>age</th>\n",
       "      <th>bmi</th>\n",
       "      <th>children</th>\n",
       "      <th>charges</th>\n",
       "    </tr>\n",
       "  </thead>\n",
       "  <tbody>\n",
       "    <tr>\n",
       "      <th>count</th>\n",
       "      <td>1338.000000</td>\n",
       "      <td>1338.000000</td>\n",
       "      <td>1338.000000</td>\n",
       "      <td>1338.000000</td>\n",
       "    </tr>\n",
       "    <tr>\n",
       "      <th>mean</th>\n",
       "      <td>39.207025</td>\n",
       "      <td>30.663397</td>\n",
       "      <td>1.094918</td>\n",
       "      <td>13270.422265</td>\n",
       "    </tr>\n",
       "    <tr>\n",
       "      <th>std</th>\n",
       "      <td>14.049960</td>\n",
       "      <td>6.098187</td>\n",
       "      <td>1.205493</td>\n",
       "      <td>12110.011237</td>\n",
       "    </tr>\n",
       "    <tr>\n",
       "      <th>min</th>\n",
       "      <td>18.000000</td>\n",
       "      <td>15.960000</td>\n",
       "      <td>0.000000</td>\n",
       "      <td>1121.873900</td>\n",
       "    </tr>\n",
       "    <tr>\n",
       "      <th>25%</th>\n",
       "      <td>27.000000</td>\n",
       "      <td>26.296250</td>\n",
       "      <td>0.000000</td>\n",
       "      <td>4740.287150</td>\n",
       "    </tr>\n",
       "    <tr>\n",
       "      <th>50%</th>\n",
       "      <td>39.000000</td>\n",
       "      <td>30.400000</td>\n",
       "      <td>1.000000</td>\n",
       "      <td>9382.033000</td>\n",
       "    </tr>\n",
       "    <tr>\n",
       "      <th>75%</th>\n",
       "      <td>51.000000</td>\n",
       "      <td>34.693750</td>\n",
       "      <td>2.000000</td>\n",
       "      <td>16639.912515</td>\n",
       "    </tr>\n",
       "    <tr>\n",
       "      <th>max</th>\n",
       "      <td>64.000000</td>\n",
       "      <td>53.130000</td>\n",
       "      <td>5.000000</td>\n",
       "      <td>63770.428010</td>\n",
       "    </tr>\n",
       "  </tbody>\n",
       "</table>\n",
       "</div>"
      ],
      "text/plain": [
       "               age          bmi     children       charges\n",
       "count  1338.000000  1338.000000  1338.000000   1338.000000\n",
       "mean     39.207025    30.663397     1.094918  13270.422265\n",
       "std      14.049960     6.098187     1.205493  12110.011237\n",
       "min      18.000000    15.960000     0.000000   1121.873900\n",
       "25%      27.000000    26.296250     0.000000   4740.287150\n",
       "50%      39.000000    30.400000     1.000000   9382.033000\n",
       "75%      51.000000    34.693750     2.000000  16639.912515\n",
       "max      64.000000    53.130000     5.000000  63770.428010"
      ]
     },
     "execution_count": 144,
     "metadata": {},
     "output_type": "execute_result"
    }
   ],
   "source": [
    "df.describe()"
   ]
  },
  {
   "cell_type": "code",
   "execution_count": 145,
   "metadata": {},
   "outputs": [
    {
     "name": "stderr",
     "output_type": "stream",
     "text": [
      "<ipython-input-145-2b1315e0330e>:1: FutureWarning: Indexing with multiple keys (implicitly converted to a tuple of keys) will be deprecated, use a list instead.\n",
      "  pd.DataFrame(df.groupby(\"region\")[\"age\",\"charges\",\"bmi\",\"children\"].mean().sort_values(\"age\",ascending=False)[:10]).style.background_gradient(\"Greens\")\n"
     ]
    },
    {
     "data": {
      "text/html": [
       "<style  type=\"text/css\" >\n",
       "#T_3375f05d_bd69_11eb_b370_f8e4e3b7137frow0_col0,#T_3375f05d_bd69_11eb_b370_f8e4e3b7137frow2_col3,#T_3375f05d_bd69_11eb_b370_f8e4e3b7137frow3_col1,#T_3375f05d_bd69_11eb_b370_f8e4e3b7137frow3_col2{\n",
       "            background-color:  #00441b;\n",
       "            color:  #f1f1f1;\n",
       "        }#T_3375f05d_bd69_11eb_b370_f8e4e3b7137frow0_col1,#T_3375f05d_bd69_11eb_b370_f8e4e3b7137frow1_col2,#T_3375f05d_bd69_11eb_b370_f8e4e3b7137frow1_col3,#T_3375f05d_bd69_11eb_b370_f8e4e3b7137frow3_col0{\n",
       "            background-color:  #f7fcf5;\n",
       "            color:  #000000;\n",
       "        }#T_3375f05d_bd69_11eb_b370_f8e4e3b7137frow0_col2{\n",
       "            background-color:  #abdda5;\n",
       "            color:  #000000;\n",
       "        }#T_3375f05d_bd69_11eb_b370_f8e4e3b7137frow0_col3{\n",
       "            background-color:  #005723;\n",
       "            color:  #f1f1f1;\n",
       "        }#T_3375f05d_bd69_11eb_b370_f8e4e3b7137frow1_col0{\n",
       "            background-color:  #3ea75a;\n",
       "            color:  #000000;\n",
       "        }#T_3375f05d_bd69_11eb_b370_f8e4e3b7137frow1_col1{\n",
       "            background-color:  #88ce87;\n",
       "            color:  #000000;\n",
       "        }#T_3375f05d_bd69_11eb_b370_f8e4e3b7137frow2_col0{\n",
       "            background-color:  #75c477;\n",
       "            color:  #000000;\n",
       "        }#T_3375f05d_bd69_11eb_b370_f8e4e3b7137frow2_col1,#T_3375f05d_bd69_11eb_b370_f8e4e3b7137frow3_col3{\n",
       "            background-color:  #f3faf0;\n",
       "            color:  #000000;\n",
       "        }#T_3375f05d_bd69_11eb_b370_f8e4e3b7137frow2_col2{\n",
       "            background-color:  #f6fcf4;\n",
       "            color:  #000000;\n",
       "        }</style><table id=\"T_3375f05d_bd69_11eb_b370_f8e4e3b7137f\" ><thead>    <tr>        <th class=\"blank level0\" ></th>        <th class=\"col_heading level0 col0\" >age</th>        <th class=\"col_heading level0 col1\" >charges</th>        <th class=\"col_heading level0 col2\" >bmi</th>        <th class=\"col_heading level0 col3\" >children</th>    </tr>    <tr>        <th class=\"index_name level0\" >region</th>        <th class=\"blank\" ></th>        <th class=\"blank\" ></th>        <th class=\"blank\" ></th>        <th class=\"blank\" ></th>    </tr></thead><tbody>\n",
       "                <tr>\n",
       "                        <th id=\"T_3375f05d_bd69_11eb_b370_f8e4e3b7137flevel0_row0\" class=\"row_heading level0 row0\" >southwest</th>\n",
       "                        <td id=\"T_3375f05d_bd69_11eb_b370_f8e4e3b7137frow0_col0\" class=\"data row0 col0\" >39.455385</td>\n",
       "                        <td id=\"T_3375f05d_bd69_11eb_b370_f8e4e3b7137frow0_col1\" class=\"data row0 col1\" >12346.937377</td>\n",
       "                        <td id=\"T_3375f05d_bd69_11eb_b370_f8e4e3b7137frow0_col2\" class=\"data row0 col2\" >30.596615</td>\n",
       "                        <td id=\"T_3375f05d_bd69_11eb_b370_f8e4e3b7137frow0_col3\" class=\"data row0 col3\" >1.141538</td>\n",
       "            </tr>\n",
       "            <tr>\n",
       "                        <th id=\"T_3375f05d_bd69_11eb_b370_f8e4e3b7137flevel0_row1\" class=\"row_heading level0 row1\" >northeast</th>\n",
       "                        <td id=\"T_3375f05d_bd69_11eb_b370_f8e4e3b7137frow1_col0\" class=\"data row1 col0\" >39.268519</td>\n",
       "                        <td id=\"T_3375f05d_bd69_11eb_b370_f8e4e3b7137frow1_col1\" class=\"data row1 col1\" >13406.384516</td>\n",
       "                        <td id=\"T_3375f05d_bd69_11eb_b370_f8e4e3b7137frow1_col2\" class=\"data row1 col2\" >29.173503</td>\n",
       "                        <td id=\"T_3375f05d_bd69_11eb_b370_f8e4e3b7137frow1_col3\" class=\"data row1 col3\" >1.046296</td>\n",
       "            </tr>\n",
       "            <tr>\n",
       "                        <th id=\"T_3375f05d_bd69_11eb_b370_f8e4e3b7137flevel0_row2\" class=\"row_heading level0 row2\" >northwest</th>\n",
       "                        <td id=\"T_3375f05d_bd69_11eb_b370_f8e4e3b7137frow2_col0\" class=\"data row2 col0\" >39.196923</td>\n",
       "                        <td id=\"T_3375f05d_bd69_11eb_b370_f8e4e3b7137frow2_col1\" class=\"data row2 col1\" >12417.575374</td>\n",
       "                        <td id=\"T_3375f05d_bd69_11eb_b370_f8e4e3b7137frow2_col2\" class=\"data row2 col2\" >29.199785</td>\n",
       "                        <td id=\"T_3375f05d_bd69_11eb_b370_f8e4e3b7137frow2_col3\" class=\"data row2 col3\" >1.147692</td>\n",
       "            </tr>\n",
       "            <tr>\n",
       "                        <th id=\"T_3375f05d_bd69_11eb_b370_f8e4e3b7137flevel0_row3\" class=\"row_heading level0 row3\" >southeast</th>\n",
       "                        <td id=\"T_3375f05d_bd69_11eb_b370_f8e4e3b7137frow3_col0\" class=\"data row3 col0\" >38.939560</td>\n",
       "                        <td id=\"T_3375f05d_bd69_11eb_b370_f8e4e3b7137frow3_col1\" class=\"data row3 col1\" >14735.411438</td>\n",
       "                        <td id=\"T_3375f05d_bd69_11eb_b370_f8e4e3b7137frow3_col2\" class=\"data row3 col2\" >33.355989</td>\n",
       "                        <td id=\"T_3375f05d_bd69_11eb_b370_f8e4e3b7137frow3_col3\" class=\"data row3 col3\" >1.049451</td>\n",
       "            </tr>\n",
       "    </tbody></table>"
      ],
      "text/plain": [
       "<pandas.io.formats.style.Styler at 0x1ecb20f9fd0>"
      ]
     },
     "execution_count": 145,
     "metadata": {},
     "output_type": "execute_result"
    }
   ],
   "source": [
    "pd.DataFrame(df.groupby(\"region\")[\"age\",\"charges\",\"bmi\",\"children\"].mean().sort_values(\"age\",ascending=False)[:10]).style.background_gradient(\"Greens\")"
   ]
  },
  {
   "cell_type": "code",
   "execution_count": 146,
   "metadata": {},
   "outputs": [
    {
     "name": "stderr",
     "output_type": "stream",
     "text": [
      "<ipython-input-146-a2e2464afedf>:1: FutureWarning: Indexing with multiple keys (implicitly converted to a tuple of keys) will be deprecated, use a list instead.\n",
      "  pd.DataFrame(df.groupby(\"sex\")[\"age\",\"charges\",\"bmi\",\"children\"].mean().sort_values(\"age\",ascending=False)[:10]).style.background_gradient(\"Greens\")\n"
     ]
    },
    {
     "data": {
      "text/html": [
       "<style  type=\"text/css\" >\n",
       "#T_33d8d2a3_bd69_11eb_b55a_f8e4e3b7137frow0_col0,#T_33d8d2a3_bd69_11eb_b55a_f8e4e3b7137frow1_col1,#T_33d8d2a3_bd69_11eb_b55a_f8e4e3b7137frow1_col2,#T_33d8d2a3_bd69_11eb_b55a_f8e4e3b7137frow1_col3{\n",
       "            background-color:  #00441b;\n",
       "            color:  #f1f1f1;\n",
       "        }#T_33d8d2a3_bd69_11eb_b55a_f8e4e3b7137frow0_col1,#T_33d8d2a3_bd69_11eb_b55a_f8e4e3b7137frow0_col2,#T_33d8d2a3_bd69_11eb_b55a_f8e4e3b7137frow0_col3,#T_33d8d2a3_bd69_11eb_b55a_f8e4e3b7137frow1_col0{\n",
       "            background-color:  #f7fcf5;\n",
       "            color:  #000000;\n",
       "        }</style><table id=\"T_33d8d2a3_bd69_11eb_b55a_f8e4e3b7137f\" ><thead>    <tr>        <th class=\"blank level0\" ></th>        <th class=\"col_heading level0 col0\" >age</th>        <th class=\"col_heading level0 col1\" >charges</th>        <th class=\"col_heading level0 col2\" >bmi</th>        <th class=\"col_heading level0 col3\" >children</th>    </tr>    <tr>        <th class=\"index_name level0\" >sex</th>        <th class=\"blank\" ></th>        <th class=\"blank\" ></th>        <th class=\"blank\" ></th>        <th class=\"blank\" ></th>    </tr></thead><tbody>\n",
       "                <tr>\n",
       "                        <th id=\"T_33d8d2a3_bd69_11eb_b55a_f8e4e3b7137flevel0_row0\" class=\"row_heading level0 row0\" >female</th>\n",
       "                        <td id=\"T_33d8d2a3_bd69_11eb_b55a_f8e4e3b7137frow0_col0\" class=\"data row0 col0\" >39.503021</td>\n",
       "                        <td id=\"T_33d8d2a3_bd69_11eb_b55a_f8e4e3b7137frow0_col1\" class=\"data row0 col1\" >12569.578844</td>\n",
       "                        <td id=\"T_33d8d2a3_bd69_11eb_b55a_f8e4e3b7137frow0_col2\" class=\"data row0 col2\" >30.377749</td>\n",
       "                        <td id=\"T_33d8d2a3_bd69_11eb_b55a_f8e4e3b7137frow0_col3\" class=\"data row0 col3\" >1.074018</td>\n",
       "            </tr>\n",
       "            <tr>\n",
       "                        <th id=\"T_33d8d2a3_bd69_11eb_b55a_f8e4e3b7137flevel0_row1\" class=\"row_heading level0 row1\" >male</th>\n",
       "                        <td id=\"T_33d8d2a3_bd69_11eb_b55a_f8e4e3b7137frow1_col0\" class=\"data row1 col0\" >38.917160</td>\n",
       "                        <td id=\"T_33d8d2a3_bd69_11eb_b55a_f8e4e3b7137frow1_col1\" class=\"data row1 col1\" >13956.751178</td>\n",
       "                        <td id=\"T_33d8d2a3_bd69_11eb_b55a_f8e4e3b7137frow1_col2\" class=\"data row1 col2\" >30.943129</td>\n",
       "                        <td id=\"T_33d8d2a3_bd69_11eb_b55a_f8e4e3b7137frow1_col3\" class=\"data row1 col3\" >1.115385</td>\n",
       "            </tr>\n",
       "    </tbody></table>"
      ],
      "text/plain": [
       "<pandas.io.formats.style.Styler at 0x1ecb1fe8880>"
      ]
     },
     "execution_count": 146,
     "metadata": {},
     "output_type": "execute_result"
    }
   ],
   "source": [
    "pd.DataFrame(df.groupby(\"sex\")[\"age\",\"charges\",\"bmi\",\"children\"].mean().sort_values(\"age\",ascending=False)[:10]).style.background_gradient(\"Greens\")"
   ]
  },
  {
   "cell_type": "code",
   "execution_count": 147,
   "metadata": {},
   "outputs": [
    {
     "name": "stderr",
     "output_type": "stream",
     "text": [
      "<ipython-input-147-4d3c42fd7e15>:1: FutureWarning: Indexing with multiple keys (implicitly converted to a tuple of keys) will be deprecated, use a list instead.\n",
      "  pd.DataFrame(df.groupby(\"children\")[\"age\",\"charges\",\"bmi\"].mean().sort_values(\"age\",ascending=False)[:10]).style.background_gradient(\"Greens\")\n"
     ]
    },
    {
     "data": {
      "text/html": [
       "<style  type=\"text/css\" >\n",
       "#T_34684eec_bd69_11eb_bb84_f8e4e3b7137frow0_col0,#T_34684eec_bd69_11eb_bb84_f8e4e3b7137frow0_col1,#T_34684eec_bd69_11eb_bb84_f8e4e3b7137frow3_col2{\n",
       "            background-color:  #00441b;\n",
       "            color:  #f1f1f1;\n",
       "        }#T_34684eec_bd69_11eb_bb84_f8e4e3b7137frow0_col2{\n",
       "            background-color:  #4aaf61;\n",
       "            color:  #000000;\n",
       "        }#T_34684eec_bd69_11eb_bb84_f8e4e3b7137frow1_col0{\n",
       "            background-color:  #3ca559;\n",
       "            color:  #000000;\n",
       "        }#T_34684eec_bd69_11eb_bb84_f8e4e3b7137frow1_col1{\n",
       "            background-color:  #4bb062;\n",
       "            color:  #000000;\n",
       "        }#T_34684eec_bd69_11eb_bb84_f8e4e3b7137frow1_col2,#T_34684eec_bd69_11eb_bb84_f8e4e3b7137frow3_col0{\n",
       "            background-color:  #58b668;\n",
       "            color:  #000000;\n",
       "        }#T_34684eec_bd69_11eb_bb84_f8e4e3b7137frow2_col0{\n",
       "            background-color:  #3da65a;\n",
       "            color:  #000000;\n",
       "        }#T_34684eec_bd69_11eb_bb84_f8e4e3b7137frow2_col1{\n",
       "            background-color:  #005120;\n",
       "            color:  #f1f1f1;\n",
       "        }#T_34684eec_bd69_11eb_bb84_f8e4e3b7137frow2_col2{\n",
       "            background-color:  #1e8741;\n",
       "            color:  #000000;\n",
       "        }#T_34684eec_bd69_11eb_bb84_f8e4e3b7137frow3_col1{\n",
       "            background-color:  #1d8640;\n",
       "            color:  #000000;\n",
       "        }#T_34684eec_bd69_11eb_bb84_f8e4e3b7137frow4_col0{\n",
       "            background-color:  #7dc87e;\n",
       "            color:  #000000;\n",
       "        }#T_34684eec_bd69_11eb_bb84_f8e4e3b7137frow4_col1{\n",
       "            background-color:  #62bb6d;\n",
       "            color:  #000000;\n",
       "        }#T_34684eec_bd69_11eb_bb84_f8e4e3b7137frow4_col2{\n",
       "            background-color:  #68be70;\n",
       "            color:  #000000;\n",
       "        }#T_34684eec_bd69_11eb_bb84_f8e4e3b7137frow5_col0,#T_34684eec_bd69_11eb_bb84_f8e4e3b7137frow5_col1,#T_34684eec_bd69_11eb_bb84_f8e4e3b7137frow5_col2{\n",
       "            background-color:  #f7fcf5;\n",
       "            color:  #000000;\n",
       "        }</style><table id=\"T_34684eec_bd69_11eb_bb84_f8e4e3b7137f\" ><thead>    <tr>        <th class=\"blank level0\" ></th>        <th class=\"col_heading level0 col0\" >age</th>        <th class=\"col_heading level0 col1\" >charges</th>        <th class=\"col_heading level0 col2\" >bmi</th>    </tr>    <tr>        <th class=\"index_name level0\" >children</th>        <th class=\"blank\" ></th>        <th class=\"blank\" ></th>        <th class=\"blank\" ></th>    </tr></thead><tbody>\n",
       "                <tr>\n",
       "                        <th id=\"T_34684eec_bd69_11eb_bb84_f8e4e3b7137flevel0_row0\" class=\"row_heading level0 row0\" >3</th>\n",
       "                        <td id=\"T_34684eec_bd69_11eb_bb84_f8e4e3b7137frow0_col0\" class=\"data row0 col0\" >41.566879</td>\n",
       "                        <td id=\"T_34684eec_bd69_11eb_bb84_f8e4e3b7137frow0_col1\" class=\"data row0 col1\" >15355.318367</td>\n",
       "                        <td id=\"T_34684eec_bd69_11eb_bb84_f8e4e3b7137frow0_col2\" class=\"data row0 col2\" >30.684331</td>\n",
       "            </tr>\n",
       "            <tr>\n",
       "                        <th id=\"T_34684eec_bd69_11eb_bb84_f8e4e3b7137flevel0_row1\" class=\"row_heading level0 row1\" >1</th>\n",
       "                        <td id=\"T_34684eec_bd69_11eb_bb84_f8e4e3b7137frow1_col0\" class=\"data row1 col0\" >39.453704</td>\n",
       "                        <td id=\"T_34684eec_bd69_11eb_bb84_f8e4e3b7137frow1_col1\" class=\"data row1 col1\" >12731.171832</td>\n",
       "                        <td id=\"T_34684eec_bd69_11eb_bb84_f8e4e3b7137frow1_col2\" class=\"data row1 col2\" >30.623148</td>\n",
       "            </tr>\n",
       "            <tr>\n",
       "                        <th id=\"T_34684eec_bd69_11eb_bb84_f8e4e3b7137flevel0_row2\" class=\"row_heading level0 row2\" >2</th>\n",
       "                        <td id=\"T_34684eec_bd69_11eb_bb84_f8e4e3b7137frow2_col0\" class=\"data row2 col0\" >39.445833</td>\n",
       "                        <td id=\"T_34684eec_bd69_11eb_bb84_f8e4e3b7137frow2_col1\" class=\"data row2 col1\" >15073.563734</td>\n",
       "                        <td id=\"T_34684eec_bd69_11eb_bb84_f8e4e3b7137frow2_col2\" class=\"data row2 col2\" >30.978104</td>\n",
       "            </tr>\n",
       "            <tr>\n",
       "                        <th id=\"T_34684eec_bd69_11eb_bb84_f8e4e3b7137flevel0_row3\" class=\"row_heading level0 row3\" >4</th>\n",
       "                        <td id=\"T_34684eec_bd69_11eb_bb84_f8e4e3b7137frow3_col0\" class=\"data row3 col0\" >39.000000</td>\n",
       "                        <td id=\"T_34684eec_bd69_11eb_bb84_f8e4e3b7137frow3_col1\" class=\"data row3 col1\" >13850.656311</td>\n",
       "                        <td id=\"T_34684eec_bd69_11eb_bb84_f8e4e3b7137frow3_col2\" class=\"data row3 col2\" >31.391200</td>\n",
       "            </tr>\n",
       "            <tr>\n",
       "                        <th id=\"T_34684eec_bd69_11eb_bb84_f8e4e3b7137flevel0_row4\" class=\"row_heading level0 row4\" >0</th>\n",
       "                        <td id=\"T_34684eec_bd69_11eb_bb84_f8e4e3b7137frow4_col0\" class=\"data row4 col0\" >38.444251</td>\n",
       "                        <td id=\"T_34684eec_bd69_11eb_bb84_f8e4e3b7137frow4_col1\" class=\"data row4 col1\" >12365.975602</td>\n",
       "                        <td id=\"T_34684eec_bd69_11eb_bb84_f8e4e3b7137frow4_col2\" class=\"data row4 col2\" >30.550296</td>\n",
       "            </tr>\n",
       "            <tr>\n",
       "                        <th id=\"T_34684eec_bd69_11eb_bb84_f8e4e3b7137flevel0_row5\" class=\"row_heading level0 row5\" >5</th>\n",
       "                        <td id=\"T_34684eec_bd69_11eb_bb84_f8e4e3b7137frow5_col0\" class=\"data row5 col0\" >35.611111</td>\n",
       "                        <td id=\"T_34684eec_bd69_11eb_bb84_f8e4e3b7137frow5_col1\" class=\"data row5 col1\" >8786.035247</td>\n",
       "                        <td id=\"T_34684eec_bd69_11eb_bb84_f8e4e3b7137frow5_col2\" class=\"data row5 col2\" >29.605000</td>\n",
       "            </tr>\n",
       "    </tbody></table>"
      ],
      "text/plain": [
       "<pandas.io.formats.style.Styler at 0x1ecb1fe86d0>"
      ]
     },
     "execution_count": 147,
     "metadata": {},
     "output_type": "execute_result"
    }
   ],
   "source": [
    "pd.DataFrame(df.groupby(\"children\")[\"age\",\"charges\",\"bmi\"].mean().sort_values(\"age\",ascending=False)[:10]).style.background_gradient(\"Greens\")"
   ]
  },
  {
   "cell_type": "code",
   "execution_count": 148,
   "metadata": {},
   "outputs": [
    {
     "name": "stderr",
     "output_type": "stream",
     "text": [
      "<ipython-input-148-522051e3c882>:1: FutureWarning: Indexing with multiple keys (implicitly converted to a tuple of keys) will be deprecated, use a list instead.\n",
      "  pd.DataFrame(df.groupby(\"smoker\")[\"age\",\"charges\",\"bmi\",\"children\"].mean().sort_values(\"age\",ascending=False)[:10]).style.background_gradient(\"Greens\")\n"
     ]
    },
    {
     "data": {
      "text/html": [
       "<style  type=\"text/css\" >\n",
       "#T_34c3ee6d_bd69_11eb_a720_f8e4e3b7137frow0_col0,#T_34c3ee6d_bd69_11eb_a720_f8e4e3b7137frow1_col1,#T_34c3ee6d_bd69_11eb_a720_f8e4e3b7137frow1_col2,#T_34c3ee6d_bd69_11eb_a720_f8e4e3b7137frow1_col3{\n",
       "            background-color:  #00441b;\n",
       "            color:  #f1f1f1;\n",
       "        }#T_34c3ee6d_bd69_11eb_a720_f8e4e3b7137frow0_col1,#T_34c3ee6d_bd69_11eb_a720_f8e4e3b7137frow0_col2,#T_34c3ee6d_bd69_11eb_a720_f8e4e3b7137frow0_col3,#T_34c3ee6d_bd69_11eb_a720_f8e4e3b7137frow1_col0{\n",
       "            background-color:  #f7fcf5;\n",
       "            color:  #000000;\n",
       "        }</style><table id=\"T_34c3ee6d_bd69_11eb_a720_f8e4e3b7137f\" ><thead>    <tr>        <th class=\"blank level0\" ></th>        <th class=\"col_heading level0 col0\" >age</th>        <th class=\"col_heading level0 col1\" >charges</th>        <th class=\"col_heading level0 col2\" >bmi</th>        <th class=\"col_heading level0 col3\" >children</th>    </tr>    <tr>        <th class=\"index_name level0\" >smoker</th>        <th class=\"blank\" ></th>        <th class=\"blank\" ></th>        <th class=\"blank\" ></th>        <th class=\"blank\" ></th>    </tr></thead><tbody>\n",
       "                <tr>\n",
       "                        <th id=\"T_34c3ee6d_bd69_11eb_a720_f8e4e3b7137flevel0_row0\" class=\"row_heading level0 row0\" >no</th>\n",
       "                        <td id=\"T_34c3ee6d_bd69_11eb_a720_f8e4e3b7137frow0_col0\" class=\"data row0 col0\" >39.385338</td>\n",
       "                        <td id=\"T_34c3ee6d_bd69_11eb_a720_f8e4e3b7137frow0_col1\" class=\"data row0 col1\" >8434.268298</td>\n",
       "                        <td id=\"T_34c3ee6d_bd69_11eb_a720_f8e4e3b7137frow0_col2\" class=\"data row0 col2\" >30.651795</td>\n",
       "                        <td id=\"T_34c3ee6d_bd69_11eb_a720_f8e4e3b7137frow0_col3\" class=\"data row0 col3\" >1.090226</td>\n",
       "            </tr>\n",
       "            <tr>\n",
       "                        <th id=\"T_34c3ee6d_bd69_11eb_a720_f8e4e3b7137flevel0_row1\" class=\"row_heading level0 row1\" >yes</th>\n",
       "                        <td id=\"T_34c3ee6d_bd69_11eb_a720_f8e4e3b7137frow1_col0\" class=\"data row1 col0\" >38.514599</td>\n",
       "                        <td id=\"T_34c3ee6d_bd69_11eb_a720_f8e4e3b7137frow1_col1\" class=\"data row1 col1\" >32050.231832</td>\n",
       "                        <td id=\"T_34c3ee6d_bd69_11eb_a720_f8e4e3b7137frow1_col2\" class=\"data row1 col2\" >30.708449</td>\n",
       "                        <td id=\"T_34c3ee6d_bd69_11eb_a720_f8e4e3b7137frow1_col3\" class=\"data row1 col3\" >1.113139</td>\n",
       "            </tr>\n",
       "    </tbody></table>"
      ],
      "text/plain": [
       "<pandas.io.formats.style.Styler at 0x1ecb3055b50>"
      ]
     },
     "execution_count": 148,
     "metadata": {},
     "output_type": "execute_result"
    }
   ],
   "source": [
    "pd.DataFrame(df.groupby(\"smoker\")[\"age\",\"charges\",\"bmi\",\"children\"].mean().sort_values(\"age\",ascending=False)[:10]).style.background_gradient(\"Greens\")"
   ]
  },
  {
   "cell_type": "markdown",
   "metadata": {},
   "source": [
    "## Data Visualisation "
   ]
  },
  {
   "cell_type": "code",
   "execution_count": 149,
   "metadata": {
    "scrolled": true
   },
   "outputs": [
    {
     "data": {
      "image/png": "[encoded data removed]",
      "text/plain": [
       "<Figure size 4320x1440 with 1 Axes>"
      ]
     },
     "metadata": {},
     "output_type": "display_data"
    }
   ],
   "source": [
    "plt.figure(figsize = (60,20))\n",
    "sns.set(style=\"darkgrid\")\n",
    "ax = sns.countplot(x='sex',data=df, palette='RdBu')\n",
    "ax.set_xticklabels(ax.get_xticklabels(), fontsize = 30)\n",
    "plt.tight_layout()\n"
   ]
  },
  {
   "cell_type": "code",
   "execution_count": 150,
   "metadata": {},
   "outputs": [
    {
     "data": {
      "image/png": "[encoded data removed]",
      "text/plain": [
       "<Figure size 360x216 with 1 Axes>"
      ]
     },
     "metadata": {},
     "output_type": "display_data"
    }
   ],
   "source": [
    "plt.figure(figsize=(5,3))\n",
    "sns.countplot(x=\"smoker\", data = df)\n",
    "plt.xticks(rotation = 60)\n",
    "plt.show()"
   ]
  },
  {
   "cell_type": "code",
   "execution_count": 151,
   "metadata": {},
   "outputs": [
    {
     "data": {
      "image/png": "[encoded data removed]",
      "text/plain": [
       "<Figure size 360x216 with 1 Axes>"
      ]
     },
     "metadata": {},
     "output_type": "display_data"
    }
   ],
   "source": [
    "plt.figure(figsize=(5,3))\n",
    "sns.barplot(x=\"region\", y=\"charges\", data = df)\n",
    "plt.xticks(rotation = 60)\n",
    "plt.show()"
   ]
  },
  {
   "cell_type": "code",
   "execution_count": 152,
   "metadata": {},
   "outputs": [
    {
     "data": {
      "text/html": [
       "<div>\n",
       "<style scoped>\n",
       "    .dataframe tbody tr th:only-of-type {\n",
       "        vertical-align: middle;\n",
       "    }\n",
       "\n",
       "    .dataframe tbody tr th {\n",
       "        vertical-align: top;\n",
       "    }\n",
       "\n",
       "    .dataframe thead th {\n",
       "        text-align: right;\n",
       "    }\n",
       "</style>\n",
       "<table border=\"1\" class=\"dataframe\">\n",
       "  <thead>\n",
       "    <tr style=\"text-align: right;\">\n",
       "      <th></th>\n",
       "      <th>age</th>\n",
       "      <th>bmi</th>\n",
       "      <th>children</th>\n",
       "      <th>charges</th>\n",
       "    </tr>\n",
       "  </thead>\n",
       "  <tbody>\n",
       "    <tr>\n",
       "      <th>age</th>\n",
       "      <td>1.000000</td>\n",
       "      <td>0.109272</td>\n",
       "      <td>0.042469</td>\n",
       "      <td>0.299008</td>\n",
       "    </tr>\n",
       "    <tr>\n",
       "      <th>bmi</th>\n",
       "      <td>0.109272</td>\n",
       "      <td>1.000000</td>\n",
       "      <td>0.012759</td>\n",
       "      <td>0.198341</td>\n",
       "    </tr>\n",
       "    <tr>\n",
       "      <th>children</th>\n",
       "      <td>0.042469</td>\n",
       "      <td>0.012759</td>\n",
       "      <td>1.000000</td>\n",
       "      <td>0.067998</td>\n",
       "    </tr>\n",
       "    <tr>\n",
       "      <th>charges</th>\n",
       "      <td>0.299008</td>\n",
       "      <td>0.198341</td>\n",
       "      <td>0.067998</td>\n",
       "      <td>1.000000</td>\n",
       "    </tr>\n",
       "  </tbody>\n",
       "</table>\n",
       "</div>"
      ],
      "text/plain": [
       "               age       bmi  children   charges\n",
       "age       1.000000  0.109272  0.042469  0.299008\n",
       "bmi       0.109272  1.000000  0.012759  0.198341\n",
       "children  0.042469  0.012759  1.000000  0.067998\n",
       "charges   0.299008  0.198341  0.067998  1.000000"
      ]
     },
     "execution_count": 152,
     "metadata": {},
     "output_type": "execute_result"
    }
   ],
   "source": [
    "df.corr()"
   ]
  },
  {
   "cell_type": "code",
   "execution_count": 153,
   "metadata": {},
   "outputs": [],
   "source": [
    "df.sex = df.sex.replace(['male','female'],[1,0])\n",
    "df.smoker = df.smoker.replace(['yes','no'],[1,0])"
   ]
  },
  {
   "cell_type": "code",
   "execution_count": 154,
   "metadata": {},
   "outputs": [
    {
     "data": {
      "text/plain": [
       "<AxesSubplot:>"
      ]
     },
     "execution_count": 154,
     "metadata": {},
     "output_type": "execute_result"
    },
    {
     "data": {
      "image/png": "[encoded data removed]",
      "text/plain": [
       "<Figure size 576x396 with 2 Axes>"
      ]
     },
     "metadata": {},
     "output_type": "display_data"
    }
   ],
   "source": [
    "corr=df.corr()\n",
    "sns.heatmap(corr,vmax=1,annot=True,cmap=\"coolwarm\")"
   ]
  },
  {
   "cell_type": "code",
   "execution_count": 155,
   "metadata": {},
   "outputs": [
    {
     "name": "stderr",
     "output_type": "stream",
     "text": [
      "<ipython-input-155-62870b3d53ca>:3: UserWarning: To output multiple subplots, the figure containing the passed axes is being cleared\n",
      "  df.hist(ax=ax)\n"
     ]
    },
    {
     "data": {
      "image/png": "[encoded data removed]",
      "text/plain": [
       "<Figure size 1440x1080 with 6 Axes>"
      ]
     },
     "metadata": {},
     "output_type": "display_data"
    }
   ],
   "source": [
    "\n",
    "fig = plt.figure(figsize = (20,15))\n",
    "ax = fig.gca()\n",
    "df.hist(ax=ax)\n",
    "plt.show()"
   ]
  },
  {
   "cell_type": "markdown",
   "metadata": {},
   "source": [
    "## Preprocessing "
   ]
  },
  {
   "cell_type": "code",
   "execution_count": 156,
   "metadata": {},
   "outputs": [
    {
     "name": "stderr",
     "output_type": "stream",
     "text": [
      "C:\\Users\\noahw\\anaconda3\\lib\\site-packages\\seaborn\\distributions.py:2551: FutureWarning: `distplot` is a deprecated function and will be removed in a future version. Please adapt your code to use either `displot` (a figure-level function with similar flexibility) or `histplot` (an axes-level function for histograms).\n",
      "  warnings.warn(msg, FutureWarning)\n"
     ]
    },
    {
     "data": {
      "image/png": "[encoded data removed]",
      "text/plain": [
       "<Figure size 720x288 with 2 Axes>"
      ]
     },
     "metadata": {},
     "output_type": "display_data"
    }
   ],
   "source": [
    "from scipy.stats import norm\n",
    "from scipy import stats\n",
    "\n",
    "plt.figure(figsize=(10,4))\n",
    "plt.subplot(1,2,1)\n",
    "sns.distplot(df[\"charges\"], fit=norm)\n",
    "plt.title(\"charges Distplot\")\n",
    "plt.subplot(1,2,2)\n",
    "stats.probplot(df[\"charges\"], plot = plt)\n",
    "plt.show()"
   ]
  },
  {
   "cell_type": "code",
   "execution_count": 157,
   "metadata": {},
   "outputs": [],
   "source": [
    "df[\"charges\"] = np.log1p(df[\"charges\"])"
   ]
  },
  {
   "cell_type": "code",
   "execution_count": 158,
   "metadata": {},
   "outputs": [
    {
     "name": "stderr",
     "output_type": "stream",
     "text": [
      "C:\\Users\\noahw\\anaconda3\\lib\\site-packages\\seaborn\\distributions.py:2551: FutureWarning: `distplot` is a deprecated function and will be removed in a future version. Please adapt your code to use either `displot` (a figure-level function with similar flexibility) or `histplot` (an axes-level function for histograms).\n",
      "  warnings.warn(msg, FutureWarning)\n"
     ]
    },
    {
     "data": {
      "image/png": "[encoded data removed]",
      "text/plain": [
       "<Figure size 720x288 with 2 Axes>"
      ]
     },
     "metadata": {},
     "output_type": "display_data"
    }
   ],
   "source": [
    "from scipy.stats import norm\n",
    "from scipy import stats\n",
    "\n",
    "plt.figure(figsize=(10,4))\n",
    "plt.subplot(1,2,1)\n",
    "sns.distplot(df[\"charges\"], fit=norm)\n",
    "plt.title(\"charges Distplot\")\n",
    "plt.subplot(1,2,2)\n",
    "stats.probplot(df[\"charges\"], plot = plt)\n",
    "plt.show()"
   ]
  },
  {
   "cell_type": "code",
   "execution_count": 159,
   "metadata": {},
   "outputs": [
    {
     "data": {
      "text/html": [
       "<div>\n",
       "<style scoped>\n",
       "    .dataframe tbody tr th:only-of-type {\n",
       "        vertical-align: middle;\n",
       "    }\n",
       "\n",
       "    .dataframe tbody tr th {\n",
       "        vertical-align: top;\n",
       "    }\n",
       "\n",
       "    .dataframe thead th {\n",
       "        text-align: right;\n",
       "    }\n",
       "</style>\n",
       "<table border=\"1\" class=\"dataframe\">\n",
       "  <thead>\n",
       "    <tr style=\"text-align: right;\">\n",
       "      <th></th>\n",
       "      <th>age</th>\n",
       "      <th>sex</th>\n",
       "      <th>bmi</th>\n",
       "      <th>children</th>\n",
       "      <th>smoker</th>\n",
       "      <th>region</th>\n",
       "      <th>charges</th>\n",
       "    </tr>\n",
       "  </thead>\n",
       "  <tbody>\n",
       "    <tr>\n",
       "      <th>0</th>\n",
       "      <td>19</td>\n",
       "      <td>0</td>\n",
       "      <td>27.900</td>\n",
       "      <td>0</td>\n",
       "      <td>1</td>\n",
       "      <td>southwest</td>\n",
       "      <td>9.734236</td>\n",
       "    </tr>\n",
       "    <tr>\n",
       "      <th>1</th>\n",
       "      <td>18</td>\n",
       "      <td>1</td>\n",
       "      <td>33.770</td>\n",
       "      <td>1</td>\n",
       "      <td>0</td>\n",
       "      <td>southeast</td>\n",
       "      <td>7.453882</td>\n",
       "    </tr>\n",
       "    <tr>\n",
       "      <th>2</th>\n",
       "      <td>28</td>\n",
       "      <td>1</td>\n",
       "      <td>33.000</td>\n",
       "      <td>3</td>\n",
       "      <td>0</td>\n",
       "      <td>southeast</td>\n",
       "      <td>8.400763</td>\n",
       "    </tr>\n",
       "    <tr>\n",
       "      <th>3</th>\n",
       "      <td>33</td>\n",
       "      <td>1</td>\n",
       "      <td>22.705</td>\n",
       "      <td>0</td>\n",
       "      <td>0</td>\n",
       "      <td>northwest</td>\n",
       "      <td>9.998137</td>\n",
       "    </tr>\n",
       "    <tr>\n",
       "      <th>4</th>\n",
       "      <td>32</td>\n",
       "      <td>1</td>\n",
       "      <td>28.880</td>\n",
       "      <td>0</td>\n",
       "      <td>0</td>\n",
       "      <td>northwest</td>\n",
       "      <td>8.260455</td>\n",
       "    </tr>\n",
       "  </tbody>\n",
       "</table>\n",
       "</div>"
      ],
      "text/plain": [
       "   age  sex     bmi  children  smoker     region   charges\n",
       "0   19    0  27.900         0       1  southwest  9.734236\n",
       "1   18    1  33.770         1       0  southeast  7.453882\n",
       "2   28    1  33.000         3       0  southeast  8.400763\n",
       "3   33    1  22.705         0       0  northwest  9.998137\n",
       "4   32    1  28.880         0       0  northwest  8.260455"
      ]
     },
     "execution_count": 159,
     "metadata": {},
     "output_type": "execute_result"
    }
   ],
   "source": [
    "df.head()"
   ]
  },
  {
   "cell_type": "markdown",
   "metadata": {},
   "source": [
    "## Modeling"
   ]
  },
  {
   "cell_type": "markdown",
   "metadata": {},
   "source": [
    "### Regression Tree"
   ]
  },
  {
   "cell_type": "code",
   "execution_count": 160,
   "metadata": {},
   "outputs": [],
   "source": [
    "\n",
    "# definition of leaf nodes and decision nodes : feature index, threshold, left, right and variance reduction variables are only for\n",
    "# decision nodes. value variable is for leaf nodes. \n",
    "\n",
    "class Node():\n",
    "    def __init__(self, feature_index=None, threshold_value=None, left_child=None, right_child=None, variance_reduction=None, value=None):\n",
    "        self.feature_index=feature_index\n",
    "        self.threshold_value=threshold_value\n",
    "        self.left_child=left_child\n",
    "        self.right_child=right_child\n",
    "        self.variance_reduction=variance_reduction\n",
    "        self.value=value"
   ]
  },
  {
   "cell_type": "code",
   "execution_count": 161,
   "metadata": {},
   "outputs": [],
   "source": [
    "class RegressionTree():\n",
    "    def __init__(self,min_samples_in_split=2,max_tree_depth=2):  # for the stopping criteria to avoid overfitting problem\n",
    "        self.root=None \n",
    "        self.min_samples_in_split=min_samples_in_split\n",
    "        self.max_tree_depth=max_tree_depth\n",
    "        \n",
    "        \n",
    "        \n",
    "    def variance_reduction(self,parent_node,left_child,right_child):\n",
    "        weight_left_child=len(left_child)/len(parent_node) # is used for scaling\n",
    "        weight_right_child=len(right_child)/len(parent_node)\n",
    "        variance_reduction=np.var(parent_node) - (weight_left_child*np.var(left_child) + weight_right_child*np.var(right_child))  \n",
    "        return variance_reduction\n",
    "            \n",
    "    \n",
    "#define the tree building method\n",
    " \n",
    "    def build_tree(self,dataset,current_depth=0):\n",
    "        X,Y = dataset[:,:-1], dataset[:,-1]  #seperate the variables from the target variable\n",
    "        num_samples,num_features=np.shape(X)\n",
    "        best_split_pool={}\n",
    "        if num_samples>=self.min_samples_in_split and current_depth<=self.max_tree_depth:\n",
    "            best_split_pool=self.find_best_split(dataset,num_samples,num_features)\n",
    "            if best_split_pool[\"variance_reduction\"]>0: \n",
    "                left_subtree=self.build_tree(best_split_pool[\"left_data\"],current_depth+1)\n",
    "                right_subtree=self.build_tree(best_split_pool[\"right_data\"],current_depth+1)\n",
    "                \n",
    "                #create the decision node\n",
    "                return Node(best_split_pool[\"feature_index\"],best_split_pool[\"threshold_value\"], left_subtree,right_subtree,best_split_pool[\"variance_reduction\"])\n",
    "\n",
    "        \n",
    "        leaf_value=self.leaf_node_value(Y) #  we use the calculate_leaf_value function to calculate leaf node value\n",
    "        return Node(value=leaf_value)   \n",
    "    \n",
    "    def split(self, dataset,feature_index, threshold_value):\n",
    "        left_data= np.array([row for row in dataset if row[feature_index]<=threshold_value])\n",
    "        right_data= np.array([row for row in dataset if row[feature_index]>threshold_value])\n",
    "        return left_data, right_data\n",
    "    \n",
    "    \n",
    "    def find_best_split(self,dataset,num_samples,num_features):\n",
    "        best_split_pool={} \n",
    "        max_variance_reduction=-float(\"inf\")\n",
    "        \n",
    "        for feature_index in range(num_features): #loop through all features and all possible threshold values for that feature\n",
    "            feature_values=dataset[:,feature_index]\n",
    "            possible_thresholds=np.unique(feature_values)  \n",
    "            \n",
    "            for threshold_value in possible_thresholds:\n",
    "                left_data, right_data=self.split(dataset, feature_index,threshold_value)\n",
    "                if len(left_data)>0 and len(right_data)>0: \n",
    "                    Y,left_Y,right_Y=dataset[:,-1], left_data[:,-1],right_data[:,-1] \n",
    "                    curr_variance_reduction=self.variance_reduction(Y,left_Y,right_Y)  #to calculate the IG or reduction in impurity, use variance reduction\n",
    "                    \n",
    "                    if curr_variance_reduction>max_variance_reduction: # if this IG is greater than the max IG then update best split \n",
    "                        best_split_pool[\"feature_index\"]=feature_index\n",
    "                        best_split_pool[\"threshold_value\"]=threshold_value\n",
    "                        best_split_pool[\"left_data\"]=left_data\n",
    "                        best_split_pool[\"right_data\"]=right_data\n",
    "                        best_split_pool[\"variance_reduction\"]=curr_variance_reduction\n",
    "                        max_variance_reduction=curr_variance_reduction\n",
    "                    \n",
    "        return best_split_pool\n",
    "    \n",
    "    \n",
    "    def leaf_node_value(self,Y):\n",
    "        leaf_val=np.mean(Y)\n",
    "        return leaf_val\n",
    "    \n",
    "\n",
    "    #to print the decision tree     \n",
    "    \n",
    "    def print_tree(self, tree=None, indent=\" \"):\n",
    "        if not tree:\n",
    "            tree=self.root\n",
    "            \n",
    "        \n",
    "        if tree.value is not None:\n",
    "            print(tree.value)\n",
    "            \n",
    "        else:\n",
    "            print(\"X_\"+str(tree.feature_index), \"<=\", tree.threshold_value, \"?\", tree.variance_reduction)\n",
    "            print(\"%sleft:\" % (indent), end=\"\")\n",
    "            self.print_tree(tree.left_child, indent + indent)\n",
    "            print(\"%sright:\" % (indent), end=\"\")\n",
    "            self.print_tree(tree.right_child, indent +  indent)\n",
    "            \n",
    "    \n",
    "    def fit(self, X,Y):\n",
    "        \n",
    "        dataset=np.concatenate((X,Y), axis=1)\n",
    "        self.root= self.build_tree(dataset)  #build the tree to train the model\n",
    "        \n",
    "    \n",
    "    def make_prediction(self,x,tree): # take a single data point and find the corresponding y value\n",
    "        # start with root node, if it meets the conditions, then it goes to left child else moves to the right node. repeat \n",
    "        # till you reach to the leaf node\n",
    "        \n",
    "        if tree.value!=None: \n",
    "            return tree.value\n",
    "        feature_val=x[tree.feature_index]\n",
    "        if feature_val<= tree.threshold_value:\n",
    "            return self.make_prediction(x,tree.left_child)\n",
    "        else:\n",
    "            return self.make_prediction(x,tree.right_child)\n",
    "        \n",
    "        \n",
    "        \n",
    "    def predict(self,X):\n",
    "        predictions=[self.make_prediction(x,self.root) for x in X]\n",
    "        return predictions  #an array of target valuess"
   ]
  },
  {
   "cell_type": "code",
   "execution_count": 162,
   "metadata": {},
   "outputs": [
    {
     "data": {
      "text/plain": [
       "(268, 5)"
      ]
     },
     "execution_count": 162,
     "metadata": {},
     "output_type": "execute_result"
    }
   ],
   "source": [
    "\n",
    "df = df.drop(['region'],axis=1)\n",
    "# Training and test split\n",
    "\n",
    "X=df.iloc[:,:-1].values\n",
    "Y= df.iloc[:,-1].values.reshape(-1,1)\n",
    "\n",
    "from sklearn.model_selection import train_test_split\n",
    "X_train, X_test,Y_train,Y_test=train_test_split(X,Y, test_size=0.20, random_state=41)\n",
    "\n",
    "\n",
    "X_train.shape\n",
    "X_test.shape"
   ]
  },
  {
   "cell_type": "code",
   "execution_count": 163,
   "metadata": {},
   "outputs": [
    {
     "name": "stdout",
     "output_type": "stream",
     "text": [
      "X_4 <= 0.0 ? 0.39536310185783663\n",
      " left:X_0 <= 32.0 ? 0.2724638255166991\n",
      "  left:X_0 <= 22.0 ? 0.08842685281604723\n",
      "    left:X_3 <= 1.0 ? 0.07360201840329311\n",
      "        left:7.670508806314007\n",
      "        right:8.50366930549674\n",
      "    right:X_3 <= 0.0 ? 0.04603989347654197\n",
      "        left:8.110961298224673\n",
      "        right:8.547109708773528\n",
      "  right:X_0 <= 46.0 ? 0.06918938219983459\n",
      "    left:X_0 <= 42.0 ? 0.016357307408069593\n",
      "        left:8.799968797305931\n",
      "        right:9.082896926750461\n",
      "    right:X_0 <= 51.0 ? 0.016073351169119426\n",
      "        left:9.221974503468873\n",
      "        right:9.49609898566572\n",
      " right:X_2 <= 30.0 ? 0.12003980284062135\n",
      "  left:X_0 <= 40.0 ? 0.020499877453310195\n",
      "    left:X_2 <= 22.895 ? 0.004401488316124379\n",
      "        left:9.72003952252185\n",
      "        right:9.859618809061244\n",
      "    right:X_2 <= 25.85 ? 0.01007006155353738\n",
      "        left:9.995560024639294\n",
      "        right:10.196467073219088\n",
      "  right:X_0 <= 41.0 ? 0.008116093627620925\n",
      "    left:X_0 <= 27.0 ? 0.0031453720436654536\n",
      "        left:10.495267225741035\n",
      "        right:10.607547070262331\n",
      "    right:X_2 <= 46.2 ? 0.001951496153304381\n",
      "        left:10.723689776497249\n",
      "        right:11.063060532190162\n"
     ]
    }
   ],
   "source": [
    "# now fit the model\n",
    "\n",
    "regressor= RegressionTree(min_samples_in_split=3,max_tree_depth=3)\n",
    "regressor.fit(X_train,Y_train)\n",
    "regressor.print_tree()"
   ]
  },
  {
   "cell_type": "code",
   "execution_count": 164,
   "metadata": {},
   "outputs": [
    {
     "name": "stdout",
     "output_type": "stream",
     "text": [
      "0.1506934377988294\n",
      "0.38819252671687204\n",
      "0.8058824873386409\n",
      "0.23209563699469216\n"
     ]
    }
   ],
   "source": [
    "# Test the model by calculating MSE, RMSE,R^2\n",
    "Y_pred=regressor.predict(X_test)\n",
    "from sklearn.metrics import mean_squared_error\n",
    "from sklearn.metrics import r2_score\n",
    "from sklearn.metrics import mean_absolute_error\n",
    "print(mean_squared_error(Y_test,Y_pred))\n",
    "print(np.sqrt(mean_squared_error(Y_test,Y_pred)))\n",
    "print(r2_score(Y_test, Y_pred))\n",
    "print(mean_absolute_error(Y_test, Y_pred))"
   ]
  },
  {
   "cell_type": "code",
   "execution_count": 165,
   "metadata": {},
   "outputs": [
    {
     "data": {
      "text/html": [
       "<div>\n",
       "<style scoped>\n",
       "    .dataframe tbody tr th:only-of-type {\n",
       "        vertical-align: middle;\n",
       "    }\n",
       "\n",
       "    .dataframe tbody tr th {\n",
       "        vertical-align: top;\n",
       "    }\n",
       "\n",
       "    .dataframe thead th {\n",
       "        text-align: right;\n",
       "    }\n",
       "</style>\n",
       "<table border=\"1\" class=\"dataframe\">\n",
       "  <thead>\n",
       "    <tr style=\"text-align: right;\">\n",
       "      <th></th>\n",
       "      <th>Reg. Model</th>\n",
       "      <th>MAE</th>\n",
       "      <th>MSE</th>\n",
       "      <th>RMSE</th>\n",
       "      <th>R^2</th>\n",
       "    </tr>\n",
       "  </thead>\n",
       "  <tbody>\n",
       "    <tr>\n",
       "      <th>0</th>\n",
       "      <td>Regression Tree</td>\n",
       "      <td>0.232096</td>\n",
       "      <td>0.150693</td>\n",
       "      <td>0.388193</td>\n",
       "      <td>0.805882</td>\n",
       "    </tr>\n",
       "  </tbody>\n",
       "</table>\n",
       "</div>"
      ],
      "text/plain": [
       "        Reg. Model       MAE       MSE      RMSE       R^2\n",
       "0  Regression Tree  0.232096  0.150693  0.388193  0.805882"
      ]
     },
     "execution_count": 165,
     "metadata": {},
     "output_type": "execute_result"
    }
   ],
   "source": [
    "\n",
    "reg_tree_results = pd.DataFrame(data=[[\"Regression Tree\",mean_absolute_error(Y_test, Y_pred),mean_squared_error(Y_test,Y_pred),np.sqrt(mean_squared_error(Y_test,Y_pred)),r2_score(Y_test, Y_pred)]], \n",
    "                          columns=[\"Reg. Model\", 'MAE', 'MSE', 'RMSE', 'R^2'])\n",
    "reg_tree_results"
   ]
  },
  {
   "cell_type": "markdown",
   "metadata": {},
   "source": [
    "### scikit-learn Decision Tree Regression"
   ]
  },
  {
   "cell_type": "code",
   "execution_count": 168,
   "metadata": {},
   "outputs": [
    {
     "name": "stdout",
     "output_type": "stream",
     "text": [
      "Performance metrics for test set:\n",
      "\n",
      "Mean absolute error is: 0.23899037780995833\n",
      "Mean squared error is: 0.24688849231998658\n",
      "Root mean squared error is: 0.496878750119168\n",
      "R-Square is: 0.6819677038767434\n",
      "\n",
      "\n",
      "Performance metrics for training set:\n",
      "\n",
      "Mean absolute error is: 0.002121840402237128\n",
      "Mean squared error is: 0.0024086805805227118\n",
      "Root mean squared error is: 0.049078310693449013\n",
      "R-Square is: 0.9972034913239788\n"
     ]
    }
   ],
   "source": [
    "from sklearn.tree import DecisionTreeRegressor\n",
    "\n",
    "regr = DecisionTreeRegressor(random_state = 0)\n",
    "regr.fit(X_train, Y_train)\n",
    "\n",
    "test_set_predictions = regr.predict(X_test)\n",
    "train_set_predictions = regr.predict(X_train)\n",
    "\n",
    "\n",
    "print(\"Performance metrics for test set:\\n\")\n",
    "print_evaluate(Y_test, test_set_predictions)\n",
    "\n",
    "print(\"\\n\")\n",
    "\n",
    "print(\"Performance metrics for training set:\\n\")\n",
    "print_evaluate(Y_train, train_set_predictions)\n",
    "\n"
   ]
  },
  {
   "cell_type": "code",
   "execution_count": 169,
   "metadata": {},
   "outputs": [
    {
     "data": {
      "text/html": [
       "<div>\n",
       "<style scoped>\n",
       "    .dataframe tbody tr th:only-of-type {\n",
       "        vertical-align: middle;\n",
       "    }\n",
       "\n",
       "    .dataframe tbody tr th {\n",
       "        vertical-align: top;\n",
       "    }\n",
       "\n",
       "    .dataframe thead th {\n",
       "        text-align: right;\n",
       "    }\n",
       "</style>\n",
       "<table border=\"1\" class=\"dataframe\">\n",
       "  <thead>\n",
       "    <tr style=\"text-align: right;\">\n",
       "      <th></th>\n",
       "      <th>Reg. Model</th>\n",
       "      <th>MAE</th>\n",
       "      <th>MSE</th>\n",
       "      <th>RMSE</th>\n",
       "      <th>R^2</th>\n",
       "      <th>CV</th>\n",
       "    </tr>\n",
       "  </thead>\n",
       "  <tbody>\n",
       "    <tr>\n",
       "      <th>0</th>\n",
       "      <td>DecisionTreeRegressor</td>\n",
       "      <td>0.23899</td>\n",
       "      <td>0.246888</td>\n",
       "      <td>0.496879</td>\n",
       "      <td>0.681968</td>\n",
       "      <td>0.683532</td>\n",
       "    </tr>\n",
       "  </tbody>\n",
       "</table>\n",
       "</div>"
      ],
      "text/plain": [
       "              Reg. Model      MAE       MSE      RMSE       R^2        CV\n",
       "0  DecisionTreeRegressor  0.23899  0.246888  0.496879  0.681968  0.683532"
      ]
     },
     "execution_count": 169,
     "metadata": {},
     "output_type": "execute_result"
    }
   ],
   "source": [
    "dec_tree_results = pd.DataFrame(data=[[\"DecisionTreeRegressor\", *evaluate(Y_test, test_set_predictions) , cross_val(DecisionTreeRegressor())]], \n",
    "                          columns=['Reg. Model', 'MAE', 'MSE', 'RMSE', 'R^2', \"CV\"])\n",
    "dec_tree_results"
   ]
  },
  {
   "cell_type": "markdown",
   "metadata": {},
   "source": [
    "### Linear Regression"
   ]
  },
  {
   "cell_type": "code",
   "execution_count": 170,
   "metadata": {},
   "outputs": [],
   "source": [
    "\n",
    "# k=10 fold cross validation is used for models\n",
    "from sklearn import metrics\n",
    "from sklearn.model_selection import cross_val_score\n",
    "\n",
    "\n",
    "def cross_val(model):\n",
    "    pred = cross_val_score(model, X, Y, cv=10)\n",
    "    return pred.mean()\n",
    "\n",
    "def evaluate(actual, predicted):\n",
    "    mae = metrics.mean_absolute_error(actual, predicted)\n",
    "    mse = metrics.mean_squared_error(actual, predicted)\n",
    "    rmse = np.sqrt(metrics.mean_squared_error(actual, predicted))\n",
    "    r_square = metrics.r2_score(actual, predicted)\n",
    "    return mae, mse, rmse, r_square\n",
    "\n",
    "def print_evaluate(actual, predicted):  \n",
    "    mae = metrics.mean_absolute_error(actual, predicted)\n",
    "    mse = metrics.mean_squared_error(actual, predicted)\n",
    "    rmse = np.sqrt(metrics.mean_squared_error(actual, predicted))\n",
    "    r_square = metrics.r2_score(actual, predicted)\n",
    "    print('Mean absolute error is:', mae)\n",
    "    print('Mean squared error is:', mse)\n",
    "    print('Root mean squared error is:', rmse)\n",
    "    print('R-Square is:', r_square)"
   ]
  },
  {
   "cell_type": "code",
   "execution_count": 171,
   "metadata": {},
   "outputs": [],
   "source": [
    "\n",
    "# Training and test split\n",
    "X = df.drop('charges', axis =1)\n",
    "#X=df.iloc[:,:-1].values\n",
    "\n",
    "Y= df['charges']\n",
    "#Y= df.iloc[:,-1].values.reshape(-1,1)\n",
    "\n",
    "X_train, X_test,Y_train,Y_test=train_test_split(X,Y, test_size=0.20, random_state=41)"
   ]
  },
  {
   "cell_type": "code",
   "execution_count": 172,
   "metadata": {},
   "outputs": [],
   "source": [
    "scaler = StandardScaler()\n",
    "X_train = scaler.fit_transform(X_train) \n",
    "X_test = scaler.transform(X_test) \n"
   ]
  },
  {
   "cell_type": "code",
   "execution_count": 173,
   "metadata": {},
   "outputs": [
    {
     "data": {
      "text/plain": [
       "LinearRegression()"
      ]
     },
     "execution_count": 173,
     "metadata": {},
     "output_type": "execute_result"
    }
   ],
   "source": [
    "from sklearn.linear_model import LinearRegression\n",
    "\n",
    "lm = LinearRegression() \n",
    "lm.fit(X_train,Y_train)"
   ]
  },
  {
   "cell_type": "code",
   "execution_count": 174,
   "metadata": {},
   "outputs": [
    {
     "name": "stdout",
     "output_type": "stream",
     "text": [
      "[ 0.48212056 -0.02915202  0.06664161  0.11746868  0.64270273]\n",
      "9.108029633979754\n"
     ]
    }
   ],
   "source": [
    "print(lm.coef_)\n",
    "print(lm.intercept_)"
   ]
  },
  {
   "cell_type": "code",
   "execution_count": 175,
   "metadata": {},
   "outputs": [],
   "source": [
    "\n",
    "# Making the predictions\n",
    "predictions = lm.predict(X_test)"
   ]
  },
  {
   "cell_type": "code",
   "execution_count": 176,
   "metadata": {},
   "outputs": [
    {
     "name": "stdout",
     "output_type": "stream",
     "text": [
      "Performance metrics for test set:\n",
      "\n",
      "Mean absolute error is: 0.2811662069050891\n",
      "Mean squared error is: 0.20656420720123597\n",
      "Root mean squared error is: 0.45449335220796794\n",
      "R-Square is: 0.7339119029171088\n",
      "\n",
      "\n",
      "Performance metrics for training set:\n",
      "\n",
      "Mean absolute error is: 0.2800226140406663\n",
      "Mean squared error is: 0.19795984426614752\n",
      "Root mean squared error is: 0.44492678528736335\n",
      "R-Square is: 0.7701661123228037\n"
     ]
    }
   ],
   "source": [
    "test_predictions = lm.predict(X_test)\n",
    "train_predictions = lm.predict(X_train)\n",
    "\n",
    "print(\"Performance metrics for test set:\\n\")\n",
    "print_evaluate(Y_test, test_predictions)\n",
    "\n",
    "print(\"\\n\")\n",
    "\n",
    "print(\"Performance metrics for training set:\\n\")\n",
    "print_evaluate(Y_train, train_predictions)"
   ]
  },
  {
   "cell_type": "code",
   "execution_count": 177,
   "metadata": {},
   "outputs": [
    {
     "data": {
      "text/html": [
       "<div>\n",
       "<style scoped>\n",
       "    .dataframe tbody tr th:only-of-type {\n",
       "        vertical-align: middle;\n",
       "    }\n",
       "\n",
       "    .dataframe tbody tr th {\n",
       "        vertical-align: top;\n",
       "    }\n",
       "\n",
       "    .dataframe thead th {\n",
       "        text-align: right;\n",
       "    }\n",
       "</style>\n",
       "<table border=\"1\" class=\"dataframe\">\n",
       "  <thead>\n",
       "    <tr style=\"text-align: right;\">\n",
       "      <th></th>\n",
       "      <th>Reg. Model</th>\n",
       "      <th>MAE</th>\n",
       "      <th>MSE</th>\n",
       "      <th>RMSE</th>\n",
       "      <th>R^2</th>\n",
       "      <th>CV</th>\n",
       "    </tr>\n",
       "  </thead>\n",
       "  <tbody>\n",
       "    <tr>\n",
       "      <th>0</th>\n",
       "      <td>Linear Regression</td>\n",
       "      <td>0.281166</td>\n",
       "      <td>0.206564</td>\n",
       "      <td>0.454493</td>\n",
       "      <td>0.733912</td>\n",
       "      <td>0.758268</td>\n",
       "    </tr>\n",
       "  </tbody>\n",
       "</table>\n",
       "</div>"
      ],
      "text/plain": [
       "          Reg. Model       MAE       MSE      RMSE       R^2        CV\n",
       "0  Linear Regression  0.281166  0.206564  0.454493  0.733912  0.758268"
      ]
     },
     "execution_count": 177,
     "metadata": {},
     "output_type": "execute_result"
    }
   ],
   "source": [
    "lm_results = pd.DataFrame(data=[[\"Linear Regression\", *evaluate(Y_test, test_predictions) , cross_val(LinearRegression())]], \n",
    "                          columns=['Reg. Model', 'MAE', 'MSE', 'RMSE', 'R^2', \"CV\"])\n",
    "lm_results"
   ]
  },
  {
   "cell_type": "code",
   "execution_count": 178,
   "metadata": {},
   "outputs": [
    {
     "data": {
      "image/png": "[encoded data removed]",
      "text/plain": [
       "<Figure size 576x396 with 1 Axes>"
      ]
     },
     "metadata": {},
     "output_type": "display_data"
    }
   ],
   "source": [
    "from yellowbrick.regressor import PredictionError\n",
    "\n",
    "visualizer = PredictionError(lm)\n",
    "visualizer.fit(X_train, Y_train)  \n",
    "visualizer.score(X_test, Y_test)        \n",
    "visualizer.show();"
   ]
  },
  {
   "cell_type": "code",
   "execution_count": 179,
   "metadata": {},
   "outputs": [
    {
     "data": {
      "text/html": [
       "<div>\n",
       "<style scoped>\n",
       "    .dataframe tbody tr th:only-of-type {\n",
       "        vertical-align: middle;\n",
       "    }\n",
       "\n",
       "    .dataframe tbody tr th {\n",
       "        vertical-align: top;\n",
       "    }\n",
       "\n",
       "    .dataframe thead th {\n",
       "        text-align: right;\n",
       "    }\n",
       "</style>\n",
       "<table border=\"1\" class=\"dataframe\">\n",
       "  <thead>\n",
       "    <tr style=\"text-align: right;\">\n",
       "      <th></th>\n",
       "      <th>Actual</th>\n",
       "      <th>Predicted</th>\n",
       "    </tr>\n",
       "  </thead>\n",
       "  <tbody>\n",
       "    <tr>\n",
       "      <th>1083</th>\n",
       "      <td>8.313239</td>\n",
       "      <td>8.501874</td>\n",
       "    </tr>\n",
       "    <tr>\n",
       "      <th>1237</th>\n",
       "      <td>9.411267</td>\n",
       "      <td>9.324649</td>\n",
       "    </tr>\n",
       "    <tr>\n",
       "      <th>519</th>\n",
       "      <td>8.258101</td>\n",
       "      <td>8.362872</td>\n",
       "    </tr>\n",
       "    <tr>\n",
       "      <th>79</th>\n",
       "      <td>8.790577</td>\n",
       "      <td>8.789087</td>\n",
       "    </tr>\n",
       "    <tr>\n",
       "      <th>930</th>\n",
       "      <td>7.982097</td>\n",
       "      <td>8.457398</td>\n",
       "    </tr>\n",
       "  </tbody>\n",
       "</table>\n",
       "</div>"
      ],
      "text/plain": [
       "        Actual  Predicted\n",
       "1083  8.313239   8.501874\n",
       "1237  9.411267   9.324649\n",
       "519   8.258101   8.362872\n",
       "79    8.790577   8.789087\n",
       "930   7.982097   8.457398"
      ]
     },
     "execution_count": 179,
     "metadata": {},
     "output_type": "execute_result"
    }
   ],
   "source": [
    "df_linearRegression = pd.DataFrame({'Actual': Y_test, 'Predicted': predictions})\n",
    "df_linearRegression.head()"
   ]
  },
  {
   "cell_type": "markdown",
   "metadata": {},
   "source": [
    "### Random Forrest"
   ]
  },
  {
   "cell_type": "code",
   "execution_count": 180,
   "metadata": {},
   "outputs": [],
   "source": [
    "from sklearn.ensemble import RandomForestRegressor\n",
    "\n",
    "\n"
   ]
  },
  {
   "cell_type": "code",
   "execution_count": 181,
   "metadata": {},
   "outputs": [
    {
     "name": "stdout",
     "output_type": "stream",
     "text": [
      "Performance metrics for test set:\n",
      "\n",
      "Mean absolute error is: 0.21404194154641612\n",
      "Mean squared error is: 0.1554509399489247\n",
      "Root mean squared error is: 0.3942726720797736\n",
      "R-Square is: 0.7997540553554883\n",
      "\n",
      "\n",
      "Performance metrics for training set:\n",
      "\n",
      "Mean absolute error is: 0.08082493617365409\n",
      "Mean squared error is: 0.025181869784669676\n",
      "Root mean squared error is: 0.15868796357843173\n",
      "R-Square is: 0.9707635300833519\n"
     ]
    },
    {
     "data": {
      "text/html": [
       "<div>\n",
       "<style scoped>\n",
       "    .dataframe tbody tr th:only-of-type {\n",
       "        vertical-align: middle;\n",
       "    }\n",
       "\n",
       "    .dataframe tbody tr th {\n",
       "        vertical-align: top;\n",
       "    }\n",
       "\n",
       "    .dataframe thead th {\n",
       "        text-align: right;\n",
       "    }\n",
       "</style>\n",
       "<table border=\"1\" class=\"dataframe\">\n",
       "  <thead>\n",
       "    <tr style=\"text-align: right;\">\n",
       "      <th></th>\n",
       "      <th>Reg. Model</th>\n",
       "      <th>MAE</th>\n",
       "      <th>MSE</th>\n",
       "      <th>RMSE</th>\n",
       "      <th>R^2</th>\n",
       "      <th>CV</th>\n",
       "    </tr>\n",
       "  </thead>\n",
       "  <tbody>\n",
       "    <tr>\n",
       "      <th>0</th>\n",
       "      <td>Random Forest Regressor</td>\n",
       "      <td>0.214042</td>\n",
       "      <td>0.155451</td>\n",
       "      <td>0.394273</td>\n",
       "      <td>0.799754</td>\n",
       "      <td>0.788958</td>\n",
       "    </tr>\n",
       "  </tbody>\n",
       "</table>\n",
       "</div>"
      ],
      "text/plain": [
       "                Reg. Model       MAE       MSE      RMSE       R^2        CV\n",
       "0  Random Forest Regressor  0.214042  0.155451  0.394273  0.799754  0.788958"
      ]
     },
     "execution_count": 181,
     "metadata": {},
     "output_type": "execute_result"
    }
   ],
   "source": [
    "\n",
    "random_forest = RandomForestRegressor(n_estimators=500)\n",
    "random_forest.fit(X_train, Y_train)\n",
    "\n",
    "test_predictions = random_forest.predict(X_test)\n",
    "train_predictions = random_forest.predict(X_train)\n",
    "\n",
    "\n",
    "\n",
    "print(\"Performance metrics for test set:\\n\")\n",
    "print_evaluate(Y_test, test_predictions)\n",
    "\n",
    "print(\"\\n\")\n",
    "print(\"Performance metrics for training set:\\n\")\n",
    "print_evaluate(Y_train, train_predictions)\n",
    "\n",
    "\n",
    "\n",
    "random_forest_results = pd.DataFrame(data=[[\"Random Forest Regressor\", *evaluate(Y_test, test_predictions), cross_val(RandomForestRegressor())]], \n",
    "                            columns=['Reg. Model', 'MAE', 'MSE', 'RMSE', 'R^2', 'CV'])\n",
    "\n",
    "\n",
    "random_forest_results"
   ]
  },
  {
   "cell_type": "code",
   "execution_count": 184,
   "metadata": {},
   "outputs": [
    {
     "data": {
      "text/html": [
       "<div>\n",
       "<style scoped>\n",
       "    .dataframe tbody tr th:only-of-type {\n",
       "        vertical-align: middle;\n",
       "    }\n",
       "\n",
       "    .dataframe tbody tr th {\n",
       "        vertical-align: top;\n",
       "    }\n",
       "\n",
       "    .dataframe thead th {\n",
       "        text-align: right;\n",
       "    }\n",
       "</style>\n",
       "<table border=\"1\" class=\"dataframe\">\n",
       "  <thead>\n",
       "    <tr style=\"text-align: right;\">\n",
       "      <th></th>\n",
       "      <th>Reg. Model</th>\n",
       "      <th>MAE</th>\n",
       "      <th>MSE</th>\n",
       "      <th>RMSE</th>\n",
       "      <th>R^2</th>\n",
       "      <th>CV</th>\n",
       "    </tr>\n",
       "  </thead>\n",
       "  <tbody>\n",
       "    <tr>\n",
       "      <th>0</th>\n",
       "      <td>Regression Tree</td>\n",
       "      <td>0.232096</td>\n",
       "      <td>0.150693</td>\n",
       "      <td>0.388193</td>\n",
       "      <td>0.805882</td>\n",
       "      <td>NaN</td>\n",
       "    </tr>\n",
       "    <tr>\n",
       "      <th>1</th>\n",
       "      <td>Linear Regression</td>\n",
       "      <td>0.281166</td>\n",
       "      <td>0.206564</td>\n",
       "      <td>0.454493</td>\n",
       "      <td>0.733912</td>\n",
       "      <td>0.758268</td>\n",
       "    </tr>\n",
       "    <tr>\n",
       "      <th>2</th>\n",
       "      <td>Random Forest Regressor</td>\n",
       "      <td>0.214042</td>\n",
       "      <td>0.155451</td>\n",
       "      <td>0.394273</td>\n",
       "      <td>0.799754</td>\n",
       "      <td>0.788958</td>\n",
       "    </tr>\n",
       "    <tr>\n",
       "      <th>3</th>\n",
       "      <td>DecisionTreeRegressor</td>\n",
       "      <td>0.238990</td>\n",
       "      <td>0.246888</td>\n",
       "      <td>0.496879</td>\n",
       "      <td>0.681968</td>\n",
       "      <td>0.683532</td>\n",
       "    </tr>\n",
       "  </tbody>\n",
       "</table>\n",
       "</div>"
      ],
      "text/plain": [
       "                Reg. Model       MAE       MSE      RMSE       R^2        CV\n",
       "0          Regression Tree  0.232096  0.150693  0.388193  0.805882       NaN\n",
       "1        Linear Regression  0.281166  0.206564  0.454493  0.733912  0.758268\n",
       "2  Random Forest Regressor  0.214042  0.155451  0.394273  0.799754  0.788958\n",
       "3    DecisionTreeRegressor  0.238990  0.246888  0.496879  0.681968  0.683532"
      ]
     },
     "execution_count": 184,
     "metadata": {},
     "output_type": "execute_result"
    }
   ],
   "source": [
    "# Performance metrics together\n",
    "\n",
    "perf_metrics = reg_tree_results.append(lm_results, ignore_index=True)\n",
    "perf_metrics = perf_metrics.append(random_forest_results, ignore_index=True)\n",
    "perf_metrics = perf_metrics.append(dec_tree_results, ignore_index=True)\n",
    "perf_metrics\n",
    "\n"
   ]
  },
  {
   "cell_type": "code",
   "execution_count": null,
   "metadata": {},
   "outputs": [],
   "source": []
  },
  {
   "cell_type": "code",
   "execution_count": null,
   "metadata": {},
   "outputs": [],
   "source": []
  },
  {
   "cell_type": "code",
   "execution_count": null,
   "metadata": {},
   "outputs": [],
   "source": []
  }
 ],
 "metadata": {
  "kernelspec": {
   "display_name": "Python 3",
   "language": "python",
   "name": "python3"
  },
  "language_info": {
   "codemirror_mode": {
    "name": "ipython",
    "version": 3
   },
   "file_extension": ".py",
   "mimetype": "text/x-python",
   "name": "python",
   "nbconvert_exporter": "python",
   "pygments_lexer": "ipython3",
   "version": "3.8.5"
  }
 },
 "nbformat": 4,
 "nbformat_minor": 5
}
