{
 "cells": [
  {
   "cell_type": "code",
   "execution_count": 360,
   "metadata": {},
   "outputs": [],
   "source": [
    "import pandas as pd"
   ]
  },
  {
   "cell_type": "code",
   "execution_count": 361,
   "metadata": {},
   "outputs": [
    {
     "name": "stdout",
     "output_type": "stream",
     "text": [
      "(750, 10002)\n"
     ]
    }
   ],
   "source": [
    "df_train = pd.read_csv(\"amazon_review_ID.shuf.lrn.csv\")\n",
    "\n",
    "print(df_train.shape)"
   ]
  },
  {
   "cell_type": "code",
   "execution_count": null,
   "metadata": {},
   "outputs": [],
   "source": []
  },
  {
   "cell_type": "code",
   "execution_count": 362,
   "metadata": {},
   "outputs": [],
   "source": [
    "from sklearn.ensemble import RandomForestClassifier\n",
    "from sklearn.datasets import make_classification\n",
    "from sklearn.model_selection import train_test_split"
   ]
  },
  {
   "cell_type": "code",
   "execution_count": 363,
   "metadata": {},
   "outputs": [],
   "source": [
    "X = df_train.iloc[:, 1:10001].values\n",
    "y = df_train.iloc[:,-1:].values\n",
    "\n",
    "from sklearn.preprocessing import LabelEncoder\n",
    "enc = LabelEncoder().fit(y.ravel())\n",
    "y_enc = enc.transform(y.ravel())"
   ]
  },
  {
   "cell_type": "code",
   "execution_count": 364,
   "metadata": {},
   "outputs": [],
   "source": [
    "X_train, X_test, y_train, y_test = train_test_split(X, y_enc, test_size=0.1, random_state=0)\n"
   ]
  },
  {
   "cell_type": "code",
   "execution_count": 365,
   "metadata": {},
   "outputs": [],
   "source": [
    "#from sklearn.preprocessing import StandardScaler\n",
    "\n",
    "#sc = StandardScaler()\n",
    "#X_train = sc.fit_transform(X_train)\n",
    "#X_test = sc.transform(X_test)"
   ]
  },
  {
   "cell_type": "code",
   "execution_count": 366,
   "metadata": {},
   "outputs": [],
   "source": [
    "#from sklearn.decomposition import PCA\n",
    "\n",
    "#pca = PCA()\n",
    "#X_train = pca.fit_transform(X_train)\n",
    "#X_test = pca.transform(X_test)"
   ]
  },
  {
   "cell_type": "code",
   "execution_count": 367,
   "metadata": {},
   "outputs": [
    {
     "name": "stdout",
     "output_type": "stream",
     "text": [
      "1.0\n",
      "0.56\n"
     ]
    }
   ],
   "source": [
    "classifier = RandomForestClassifier(n_estimators=400, random_state=0)\n",
    "classifier.fit(X_train, y_train.ravel())\n",
    "y_pred = classifier.predict(X_test)\n",
    "\n",
    "\n",
    "\n",
    "accuracy_training_set = classifier.score(X_train, y_train)\n",
    "print(accuracy_training_set)\n",
    "\n",
    "accuracy_testing_set = classifier.score(X_test, y_test)\n",
    "print(accuracy_testing_set)"
   ]
  },
  {
   "cell_type": "code",
   "execution_count": 368,
   "metadata": {},
   "outputs": [
    {
     "name": "stdout",
     "output_type": "stream",
     "text": [
      "[[1 0 0 ... 0 0 0]\n",
      " [0 0 0 ... 0 0 0]\n",
      " [0 0 2 ... 0 0 0]\n",
      " ...\n",
      " [0 0 0 ... 1 0 0]\n",
      " [0 0 0 ... 0 0 0]\n",
      " [0 0 0 ... 0 0 2]]\n",
      "              precision    recall  f1-score   support\n",
      "\n",
      "           1       0.33      1.00      0.50         1\n",
      "           2       0.00      0.00      0.00         2\n",
      "           3       1.00      1.00      1.00         2\n",
      "           4       0.00      0.00      0.00         0\n",
      "           5       0.00      0.00      0.00         0\n",
      "           6       1.00      0.25      0.40         4\n",
      "           7       0.50      0.50      0.50         2\n",
      "           8       0.00      0.00      0.00         1\n",
      "           9       0.00      0.00      0.00         1\n",
      "          10       0.50      1.00      0.67         1\n",
      "          11       1.00      1.00      1.00         1\n",
      "          12       1.00      0.50      0.67         2\n",
      "          13       0.00      0.00      0.00         2\n",
      "          14       0.00      0.00      0.00         4\n",
      "          15       0.50      0.50      0.50         2\n",
      "          16       1.00      0.25      0.40         4\n",
      "          18       1.00      1.00      1.00         4\n",
      "          19       0.00      0.00      0.00         0\n",
      "          20       1.00      1.00      1.00         1\n",
      "          21       1.00      1.00      1.00         2\n",
      "          22       0.00      0.00      0.00         1\n",
      "          23       0.00      0.00      0.00         2\n",
      "          24       1.00      1.00      1.00         1\n",
      "          25       1.00      0.67      0.80         3\n",
      "          26       0.17      1.00      0.29         1\n",
      "          27       1.00      0.50      0.67         2\n",
      "          28       0.00      0.00      0.00         1\n",
      "          30       0.14      1.00      0.25         1\n",
      "          31       0.67      1.00      0.80         2\n",
      "          32       0.00      0.00      0.00         0\n",
      "          33       1.00      1.00      1.00         3\n",
      "          34       0.00      0.00      0.00         1\n",
      "          35       1.00      1.00      1.00         1\n",
      "          36       1.00      1.00      1.00         3\n",
      "          37       0.50      1.00      0.67         1\n",
      "          38       0.00      0.00      0.00         5\n",
      "          39       0.00      0.00      0.00         0\n",
      "          41       1.00      1.00      1.00         1\n",
      "          43       0.00      0.00      0.00         1\n",
      "          44       1.00      1.00      1.00         1\n",
      "          45       1.00      1.00      1.00         2\n",
      "          46       1.00      1.00      1.00         2\n",
      "          47       0.50      1.00      0.67         1\n",
      "          48       0.00      0.00      0.00         1\n",
      "          49       0.67      1.00      0.80         2\n",
      "\n",
      "    accuracy                           0.56        75\n",
      "   macro avg       0.50      0.54      0.48        75\n",
      "weighted avg       0.61      0.56      0.54        75\n",
      "\n",
      "0.56\n"
     ]
    },
    {
     "name": "stderr",
     "output_type": "stream",
     "text": [
      "C:\\ProgramData\\Anaconda3\\lib\\site-packages\\sklearn\\metrics\\_classification.py:1221: UndefinedMetricWarning: Precision and F-score are ill-defined and being set to 0.0 in labels with no predicted samples. Use `zero_division` parameter to control this behavior.\n",
      "  _warn_prf(average, modifier, msg_start, len(result))\n",
      "C:\\ProgramData\\Anaconda3\\lib\\site-packages\\sklearn\\metrics\\_classification.py:1221: UndefinedMetricWarning: Recall and F-score are ill-defined and being set to 0.0 in labels with no true samples. Use `zero_division` parameter to control this behavior.\n",
      "  _warn_prf(average, modifier, msg_start, len(result))\n"
     ]
    }
   ],
   "source": [
    "from sklearn.metrics import classification_report, confusion_matrix, accuracy_score\n",
    "\n",
    "print(confusion_matrix(y_test,y_pred))\n",
    "print(classification_report(y_test,y_pred))\n",
    "print(accuracy_score(y_test, y_pred))"
   ]
  },
  {
   "cell_type": "code",
   "execution_count": 369,
   "metadata": {},
   "outputs": [],
   "source": [
    "df_test = pd.read_csv(\"amazon_review_ID.shuf.tes.csv\")\n",
    "df_result = pd.read_csv(\"amazon_review_ID.shuf.tes.csv\", usecols=['ID'])"
   ]
  },
  {
   "cell_type": "code",
   "execution_count": 370,
   "metadata": {},
   "outputs": [],
   "source": [
    "X_result = df_test.iloc[:, 1:10001].values\n",
    "y_result = classifier.predict(X_result)\n",
    "\n",
    "result_enc = enc.inverse_transform(y_result)\n",
    "df_result[\"Class\"] = pd.Series(result_enc, index=df_result.index)\n",
    "df_result.to_csv(\"result.csv\", index=False)"
   ]
  },
  {
   "cell_type": "code",
   "execution_count": 371,
   "metadata": {},
   "outputs": [
    {
     "data": {
      "text/html": [
       "<div>\n",
       "<style scoped>\n",
       "    .dataframe tbody tr th:only-of-type {\n",
       "        vertical-align: middle;\n",
       "    }\n",
       "\n",
       "    .dataframe tbody tr th {\n",
       "        vertical-align: top;\n",
       "    }\n",
       "\n",
       "    .dataframe thead th {\n",
       "        text-align: right;\n",
       "    }\n",
       "</style>\n",
       "<table border=\"1\" class=\"dataframe\">\n",
       "  <thead>\n",
       "    <tr style=\"text-align: right;\">\n",
       "      <th></th>\n",
       "      <th>ID</th>\n",
       "      <th>Class</th>\n",
       "    </tr>\n",
       "  </thead>\n",
       "  <tbody>\n",
       "    <tr>\n",
       "      <th>0</th>\n",
       "      <td>750</td>\n",
       "      <td>Power</td>\n",
       "    </tr>\n",
       "    <tr>\n",
       "      <th>1</th>\n",
       "      <td>751</td>\n",
       "      <td>Corn</td>\n",
       "    </tr>\n",
       "    <tr>\n",
       "      <th>2</th>\n",
       "      <td>752</td>\n",
       "      <td>Comdet</td>\n",
       "    </tr>\n",
       "    <tr>\n",
       "      <th>3</th>\n",
       "      <td>753</td>\n",
       "      <td>Johnson</td>\n",
       "    </tr>\n",
       "    <tr>\n",
       "      <th>4</th>\n",
       "      <td>754</td>\n",
       "      <td>Cholette</td>\n",
       "    </tr>\n",
       "    <tr>\n",
       "      <th>...</th>\n",
       "      <td>...</td>\n",
       "      <td>...</td>\n",
       "    </tr>\n",
       "    <tr>\n",
       "      <th>745</th>\n",
       "      <td>1495</td>\n",
       "      <td>Shea</td>\n",
       "    </tr>\n",
       "    <tr>\n",
       "      <th>746</th>\n",
       "      <td>1496</td>\n",
       "      <td>Chandler</td>\n",
       "    </tr>\n",
       "    <tr>\n",
       "      <th>747</th>\n",
       "      <td>1497</td>\n",
       "      <td>Power</td>\n",
       "    </tr>\n",
       "    <tr>\n",
       "      <th>748</th>\n",
       "      <td>1498</td>\n",
       "      <td>Grove</td>\n",
       "    </tr>\n",
       "    <tr>\n",
       "      <th>749</th>\n",
       "      <td>1499</td>\n",
       "      <td>Koenig</td>\n",
       "    </tr>\n",
       "  </tbody>\n",
       "</table>\n",
       "<p>750 rows × 2 columns</p>\n",
       "</div>"
      ],
      "text/plain": [
       "       ID     Class\n",
       "0     750     Power\n",
       "1     751      Corn\n",
       "2     752    Comdet\n",
       "3     753   Johnson\n",
       "4     754  Cholette\n",
       "..    ...       ...\n",
       "745  1495      Shea\n",
       "746  1496  Chandler\n",
       "747  1497     Power\n",
       "748  1498     Grove\n",
       "749  1499    Koenig\n",
       "\n",
       "[750 rows x 2 columns]"
      ]
     },
     "execution_count": 371,
     "metadata": {},
     "output_type": "execute_result"
    }
   ],
   "source": [
    "df_result"
   ]
  },
  {
   "cell_type": "code",
   "execution_count": null,
   "metadata": {},
   "outputs": [],
   "source": []
  },
  {
   "cell_type": "code",
   "execution_count": null,
   "metadata": {},
   "outputs": [],
   "source": []
  },
  {
   "cell_type": "code",
   "execution_count": 17,
   "metadata": {},
   "outputs": [
    {
     "name": "stdout",
     "output_type": "stream",
     "text": [
      "hey\n"
     ]
    }
   ],
   "source": [
    "print('hey')"
   ]
  },
  {
   "cell_type": "markdown",
   "metadata": {},
   "source": [
    "## Logistic Regression"
   ]
  },
  {
   "cell_type": "code",
   "execution_count": null,
   "metadata": {},
   "outputs": [],
   "source": [
    "#df_train = pd.read_csv(\"amazon_review_ID.shuf.tes.csv\")\n",
    "\n",
    "\n",
    "\n",
    "from sklearn.linear_model import LogisticRegression\n",
    "#creating the model\n",
    "#model = LogisticRegression(random_state=42, solver='newton-cg',multi_class='ovr', warm_start=True, class_weight='dict', max_iter=50000)\n",
    "model = LogisticRegression(solver='saga', penalty='elasticnet', l1_ratio = 0.5, max_iter=200)\n",
    "#fitting data to the model\n",
    "model.fit(X_train, y_train)\n",
    "\n",
    "\n",
    "\n",
    "#calculating the probabilities\n",
    "y_pred_proba = model.predict_proba(X_test)\n",
    "\n",
    "\n",
    "\n",
    "#printing the accuarcy\n",
    "\n",
    "accuracy_training_set = model.score(X_train, y_train)\n",
    "print(accuracy_training_set)\n",
    "\n",
    "accuracy_testing_set = model.score(X_test, y_test)\n",
    "print(accuracy_testing_set)"
   ]
  },
  {
   "cell_type": "markdown",
   "metadata": {},
   "source": [
    "## Random Forest"
   ]
  },
  {
   "cell_type": "code",
   "execution_count": 374,
   "metadata": {},
   "outputs": [
    {
     "name": "stdout",
     "output_type": "stream",
     "text": [
      "1.0\n",
      "0.6266666666666667\n"
     ]
    }
   ],
   "source": [
    "#df_train = pd.read_csv(\"amazon_review_ID.shuf.tes.csv\")\n",
    "\n",
    "\n",
    "\n",
    "from sklearn.ensemble import RandomForestClassifier\n",
    "#creating the model\n",
    "#model = LogisticRegression(random_state=42, solver='newton-cg',multi_class='ovr', warm_start=True, class_weight='dict', max_iter=50000)\n",
    "model = RandomForestClassifier(min_samples_split=4, min_samples_leaf=3, min_weight_fraction_leaf = 0.000000000000000001, bootstrap=False, n_estimators=5000)\n",
    "#fitting data to the model\n",
    "model.fit(X_train, y_train)\n",
    "\n",
    "#calculating the probabilities\n",
    "y_pred_proba = model.predict_proba(X_test)\n",
    "\n",
    "\n",
    "#printing the accuarcy\n",
    "accuracy_training_set = model.score(X_train, y_train)\n",
    "print(accuracy_training_set)\n",
    "\n",
    "accuracy_testing_set = model.score(X_test, y_test)\n",
    "print(accuracy_testing_set)"
   ]
  },
  {
   "cell_type": "code",
   "execution_count": 375,
   "metadata": {},
   "outputs": [],
   "source": [
    "#loading the test data\n",
    "df_test = pd.read_csv(\"amazon_review_ID.shuf.tes.csv\")\n",
    "df_result = pd.read_csv(\"amazon_review_ID.shuf.tes.csv\", usecols=['ID'])\n",
    "\n",
    "\n",
    "#making a prediction for the test data\n",
    "X_result = df_test.iloc[:, 1:10001].values\n",
    "y_result = model.predict(X_result)\n",
    "\n",
    "#storing the results\n",
    "result_enc = enc.inverse_transform(y_result)\n",
    "df_result[\"Class\"] = pd.Series(result_enc, index=df_result.index)\n",
    "df_result.to_csv(\"result.csv\", index=False)"
   ]
  },
  {
   "cell_type": "code",
   "execution_count": 376,
   "metadata": {},
   "outputs": [
    {
     "data": {
      "text/html": [
       "<div>\n",
       "<style scoped>\n",
       "    .dataframe tbody tr th:only-of-type {\n",
       "        vertical-align: middle;\n",
       "    }\n",
       "\n",
       "    .dataframe tbody tr th {\n",
       "        vertical-align: top;\n",
       "    }\n",
       "\n",
       "    .dataframe thead th {\n",
       "        text-align: right;\n",
       "    }\n",
       "</style>\n",
       "<table border=\"1\" class=\"dataframe\">\n",
       "  <thead>\n",
       "    <tr style=\"text-align: right;\">\n",
       "      <th></th>\n",
       "      <th>ID</th>\n",
       "      <th>Class</th>\n",
       "    </tr>\n",
       "  </thead>\n",
       "  <tbody>\n",
       "    <tr>\n",
       "      <th>0</th>\n",
       "      <td>750</td>\n",
       "      <td>Power</td>\n",
       "    </tr>\n",
       "    <tr>\n",
       "      <th>1</th>\n",
       "      <td>751</td>\n",
       "      <td>Koenig</td>\n",
       "    </tr>\n",
       "    <tr>\n",
       "      <th>2</th>\n",
       "      <td>752</td>\n",
       "      <td>Comdet</td>\n",
       "    </tr>\n",
       "    <tr>\n",
       "      <th>3</th>\n",
       "      <td>753</td>\n",
       "      <td>Johnson</td>\n",
       "    </tr>\n",
       "    <tr>\n",
       "      <th>4</th>\n",
       "      <td>754</td>\n",
       "      <td>Cholette</td>\n",
       "    </tr>\n",
       "    <tr>\n",
       "      <th>...</th>\n",
       "      <td>...</td>\n",
       "      <td>...</td>\n",
       "    </tr>\n",
       "    <tr>\n",
       "      <th>745</th>\n",
       "      <td>1495</td>\n",
       "      <td>Shea</td>\n",
       "    </tr>\n",
       "    <tr>\n",
       "      <th>746</th>\n",
       "      <td>1496</td>\n",
       "      <td>Chandler</td>\n",
       "    </tr>\n",
       "    <tr>\n",
       "      <th>747</th>\n",
       "      <td>1497</td>\n",
       "      <td>Power</td>\n",
       "    </tr>\n",
       "    <tr>\n",
       "      <th>748</th>\n",
       "      <td>1498</td>\n",
       "      <td>Grove</td>\n",
       "    </tr>\n",
       "    <tr>\n",
       "      <th>749</th>\n",
       "      <td>1499</td>\n",
       "      <td>Koenig</td>\n",
       "    </tr>\n",
       "  </tbody>\n",
       "</table>\n",
       "<p>750 rows × 2 columns</p>\n",
       "</div>"
      ],
      "text/plain": [
       "       ID     Class\n",
       "0     750     Power\n",
       "1     751    Koenig\n",
       "2     752    Comdet\n",
       "3     753   Johnson\n",
       "4     754  Cholette\n",
       "..    ...       ...\n",
       "745  1495      Shea\n",
       "746  1496  Chandler\n",
       "747  1497     Power\n",
       "748  1498     Grove\n",
       "749  1499    Koenig\n",
       "\n",
       "[750 rows x 2 columns]"
      ]
     },
     "execution_count": 376,
     "metadata": {},
     "output_type": "execute_result"
    }
   ],
   "source": [
    "df_result"
   ]
  },
  {
   "cell_type": "code",
   "execution_count": null,
   "metadata": {},
   "outputs": [],
   "source": []
  },
  {
   "cell_type": "markdown",
   "metadata": {},
   "source": [
    "# Keras RNN"
   ]
  },
  {
   "cell_type": "code",
   "execution_count": 377,
   "metadata": {},
   "outputs": [
    {
     "data": {
      "text/plain": [
       "50"
      ]
     },
     "execution_count": 377,
     "metadata": {},
     "output_type": "execute_result"
    }
   ],
   "source": [
    "#see how many classes (persons) we have\n",
    "\n",
    "len(df_train['Class'].unique())"
   ]
  },
  {
   "cell_type": "code",
   "execution_count": 354,
   "metadata": {},
   "outputs": [],
   "source": [
    "from keras.models import Sequential\n",
    "from keras.layers import Dense\n",
    "from keras.optimizers import RMSprop\n",
    "from keras.layers import LSTM, Activation, Dense, Dropout, Input, Embedding, SimpleRNN"
   ]
  },
  {
   "cell_type": "code",
   "execution_count": 355,
   "metadata": {},
   "outputs": [],
   "source": [
    "from sklearn.preprocessing import StandardScaler\n",
    "sc = StandardScaler()\n",
    "X_train = sc.fit_transform(X_train)\n",
    "X_test = sc.transform(X_test)"
   ]
  },
  {
   "cell_type": "code",
   "execution_count": 356,
   "metadata": {},
   "outputs": [],
   "source": [
    "\n",
    "model = Sequential()\n",
    "\n",
    "model.add(Dense(30, input_dim=10000, activation='tanh'))\n",
    "model.add(Dense(20, activation='tanh'))\n",
    "model.add(Dense(1, activation='sigmoid'))\n",
    "\n",
    "\n",
    "#model.add(Dense(50, input_dim=10000, activation='softmax', name='FC1', input_shape=(10000,)))\n",
    "#model.add(Activation('relu'))\n",
    "#model.add(Dense(50,name='out_layer'))\n",
    "#model.add(Activation('sigmoid'))\n",
    "#model.add(Dropout(0.5))\n"
   ]
  },
  {
   "cell_type": "code",
   "execution_count": 357,
   "metadata": {},
   "outputs": [
    {
     "name": "stdout",
     "output_type": "stream",
     "text": [
      "Epoch 1/100\n",
      "13/13 [==============================] - 1s 14ms/step - loss: 7.2963 - accuracy: 0.0241 - val_loss: 12.3410 - val_accuracy: 0.0147\n",
      "Epoch 2/100\n",
      "13/13 [==============================] - 0s 5ms/step - loss: -17.5717 - accuracy: 0.0192 - val_loss: 14.3527 - val_accuracy: 0.0294\n",
      "Epoch 3/100\n",
      "13/13 [==============================] - 0s 5ms/step - loss: -26.8219 - accuracy: 0.0243 - val_loss: 20.4577 - val_accuracy: 0.0294\n",
      "Epoch 4/100\n",
      "13/13 [==============================] - 0s 5ms/step - loss: -38.9514 - accuracy: 0.0170 - val_loss: 27.4828 - val_accuracy: 0.0294\n",
      "Epoch 5/100\n",
      "13/13 [==============================] - 0s 5ms/step - loss: -46.0932 - accuracy: 0.0225 - val_loss: 34.4271 - val_accuracy: 0.0294\n",
      "Epoch 6/100\n",
      "13/13 [==============================] - 0s 5ms/step - loss: -54.1333 - accuracy: 0.0173 - val_loss: 41.5074 - val_accuracy: 0.0294\n",
      "Epoch 7/100\n",
      "13/13 [==============================] - 0s 5ms/step - loss: -63.8602 - accuracy: 0.0234 - val_loss: 49.4201 - val_accuracy: 0.0294\n",
      "Epoch 8/100\n",
      "13/13 [==============================] - 0s 5ms/step - loss: -69.5076 - accuracy: 0.0247 - val_loss: 58.1145 - val_accuracy: 0.0294\n",
      "Epoch 9/100\n",
      "13/13 [==============================] - 0s 5ms/step - loss: -79.9693 - accuracy: 0.0262 - val_loss: 66.8319 - val_accuracy: 0.0294\n",
      "Epoch 10/100\n",
      "13/13 [==============================] - 0s 5ms/step - loss: -90.8133 - accuracy: 0.0217 - val_loss: 75.2797 - val_accuracy: 0.0294\n",
      "Epoch 11/100\n",
      "13/13 [==============================] - 0s 5ms/step - loss: -108.9211 - accuracy: 0.0286 - val_loss: 83.3479 - val_accuracy: 0.0294\n",
      "Epoch 12/100\n",
      "13/13 [==============================] - 0s 5ms/step - loss: -107.2824 - accuracy: 0.0222 - val_loss: 91.7628 - val_accuracy: 0.0294\n",
      "Epoch 13/100\n",
      "13/13 [==============================] - 0s 5ms/step - loss: -121.3924 - accuracy: 0.0394 - val_loss: 102.1387 - val_accuracy: 0.0294\n",
      "Epoch 14/100\n",
      "13/13 [==============================] - 0s 5ms/step - loss: -131.1978 - accuracy: 0.0245 - val_loss: 110.1541 - val_accuracy: 0.0294\n",
      "Epoch 15/100\n",
      "13/13 [==============================] - 0s 5ms/step - loss: -136.7043 - accuracy: 0.0284 - val_loss: 117.6917 - val_accuracy: 0.0294\n",
      "Epoch 16/100\n",
      "13/13 [==============================] - 0s 5ms/step - loss: -144.2521 - accuracy: 0.0303 - val_loss: 126.9639 - val_accuracy: 0.0294\n",
      "Epoch 17/100\n",
      "13/13 [==============================] - 0s 5ms/step - loss: -152.1300 - accuracy: 0.0321 - val_loss: 137.4114 - val_accuracy: 0.0294\n",
      "Epoch 18/100\n",
      "13/13 [==============================] - 0s 5ms/step - loss: -159.9763 - accuracy: 0.0413 - val_loss: 146.0433 - val_accuracy: 0.0294\n",
      "Epoch 19/100\n",
      "13/13 [==============================] - 0s 5ms/step - loss: -176.2688 - accuracy: 0.0317 - val_loss: 157.9039 - val_accuracy: 0.0294\n",
      "Epoch 20/100\n",
      "13/13 [==============================] - 0s 5ms/step - loss: -186.0860 - accuracy: 0.0336 - val_loss: 166.8689 - val_accuracy: 0.0294\n",
      "Epoch 21/100\n",
      "13/13 [==============================] - 0s 5ms/step - loss: -193.5633 - accuracy: 0.0294 - val_loss: 174.1649 - val_accuracy: 0.0294\n",
      "Epoch 22/100\n",
      "13/13 [==============================] - 0s 5ms/step - loss: -209.4804 - accuracy: 0.0307 - val_loss: 181.2433 - val_accuracy: 0.0294\n",
      "Epoch 23/100\n",
      "13/13 [==============================] - 0s 5ms/step - loss: -200.8187 - accuracy: 0.0416 - val_loss: 187.7963 - val_accuracy: 0.0294\n",
      "Epoch 24/100\n",
      "13/13 [==============================] - 0s 5ms/step - loss: -225.3351 - accuracy: 0.0343 - val_loss: 193.9215 - val_accuracy: 0.0294\n",
      "Epoch 25/100\n",
      "13/13 [==============================] - 0s 5ms/step - loss: -220.9910 - accuracy: 0.0341 - val_loss: 204.1644 - val_accuracy: 0.0294\n",
      "Epoch 26/100\n",
      "13/13 [==============================] - 0s 5ms/step - loss: -226.3386 - accuracy: 0.0342 - val_loss: 212.4916 - val_accuracy: 0.0294\n",
      "Epoch 27/100\n",
      "13/13 [==============================] - 0s 6ms/step - loss: -240.9504 - accuracy: 0.0291 - val_loss: 220.2815 - val_accuracy: 0.0294\n",
      "Epoch 28/100\n",
      "13/13 [==============================] - 0s 5ms/step - loss: -262.6670 - accuracy: 0.0359 - val_loss: 229.3798 - val_accuracy: 0.0294\n",
      "Epoch 29/100\n",
      "13/13 [==============================] - 0s 5ms/step - loss: -269.8682 - accuracy: 0.0397 - val_loss: 240.1502 - val_accuracy: 0.0294\n",
      "Epoch 30/100\n",
      "13/13 [==============================] - 0s 5ms/step - loss: -270.4569 - accuracy: 0.0395 - val_loss: 245.7512 - val_accuracy: 0.0294\n",
      "Epoch 31/100\n",
      "13/13 [==============================] - 0s 5ms/step - loss: -286.7955 - accuracy: 0.0442 - val_loss: 251.0336 - val_accuracy: 0.0294\n",
      "Epoch 32/100\n",
      "13/13 [==============================] - 0s 4ms/step - loss: -308.5629 - accuracy: 0.0274 - val_loss: 257.5016 - val_accuracy: 0.0294\n",
      "Epoch 33/100\n",
      "13/13 [==============================] - 0s 5ms/step - loss: -305.2198 - accuracy: 0.0455 - val_loss: 264.4870 - val_accuracy: 0.0294\n",
      "Epoch 34/100\n",
      "13/13 [==============================] - 0s 5ms/step - loss: -320.7435 - accuracy: 0.0406 - val_loss: 272.2868 - val_accuracy: 0.0294\n",
      "Epoch 35/100\n",
      "13/13 [==============================] - 0s 5ms/step - loss: -339.3176 - accuracy: 0.0370 - val_loss: 282.3965 - val_accuracy: 0.0294\n",
      "Epoch 36/100\n",
      "13/13 [==============================] - 0s 5ms/step - loss: -357.2262 - accuracy: 0.0334 - val_loss: 291.6430 - val_accuracy: 0.0294\n",
      "Epoch 37/100\n",
      "13/13 [==============================] - 0s 5ms/step - loss: -370.8518 - accuracy: 0.0331 - val_loss: 299.6046 - val_accuracy: 0.0294\n",
      "Epoch 38/100\n",
      "13/13 [==============================] - 0s 5ms/step - loss: -360.5835 - accuracy: 0.0379 - val_loss: 305.1521 - val_accuracy: 0.0294\n",
      "Epoch 39/100\n",
      "13/13 [==============================] - 0s 5ms/step - loss: -377.9931 - accuracy: 0.0384 - val_loss: 310.9568 - val_accuracy: 0.0294\n",
      "Epoch 40/100\n",
      "13/13 [==============================] - 0s 4ms/step - loss: -389.8578 - accuracy: 0.0373 - val_loss: 317.9644 - val_accuracy: 0.0294\n",
      "Epoch 41/100\n",
      "13/13 [==============================] - 0s 5ms/step - loss: -402.6528 - accuracy: 0.0314 - val_loss: 325.4768 - val_accuracy: 0.0294\n",
      "Epoch 42/100\n",
      "13/13 [==============================] - 0s 5ms/step - loss: -414.3935 - accuracy: 0.0307 - val_loss: 332.2941 - val_accuracy: 0.0294\n",
      "Epoch 43/100\n",
      "13/13 [==============================] - 0s 5ms/step - loss: -418.9636 - accuracy: 0.0314 - val_loss: 338.4089 - val_accuracy: 0.0294\n",
      "Epoch 44/100\n",
      "13/13 [==============================] - 0s 5ms/step - loss: -428.0032 - accuracy: 0.0317 - val_loss: 344.8755 - val_accuracy: 0.0294\n",
      "Epoch 45/100\n",
      "13/13 [==============================] - 0s 5ms/step - loss: -427.3239 - accuracy: 0.0348 - val_loss: 350.7838 - val_accuracy: 0.0294\n",
      "Epoch 46/100\n",
      "13/13 [==============================] - 0s 5ms/step - loss: -441.0133 - accuracy: 0.0453 - val_loss: 357.6647 - val_accuracy: 0.0294\n",
      "Epoch 47/100\n",
      "13/13 [==============================] - 0s 5ms/step - loss: -456.0553 - accuracy: 0.0241 - val_loss: 364.2937 - val_accuracy: 0.0294\n",
      "Epoch 48/100\n",
      "13/13 [==============================] - 0s 5ms/step - loss: -473.8709 - accuracy: 0.0320 - val_loss: 369.3721 - val_accuracy: 0.0294\n",
      "Epoch 49/100\n",
      "13/13 [==============================] - 0s 5ms/step - loss: -476.1711 - accuracy: 0.0457 - val_loss: 373.2467 - val_accuracy: 0.0294\n",
      "Epoch 50/100\n",
      "13/13 [==============================] - 0s 5ms/step - loss: -472.1642 - accuracy: 0.0421 - val_loss: 376.9856 - val_accuracy: 0.0294\n",
      "Epoch 51/100\n",
      "13/13 [==============================] - 0s 5ms/step - loss: -486.6577 - accuracy: 0.0270 - val_loss: 383.5345 - val_accuracy: 0.0294\n",
      "Epoch 52/100\n",
      "13/13 [==============================] - 0s 5ms/step - loss: -509.9000 - accuracy: 0.0333 - val_loss: 389.0930 - val_accuracy: 0.0294\n",
      "Epoch 53/100\n",
      "13/13 [==============================] - 0s 5ms/step - loss: -497.1810 - accuracy: 0.0318 - val_loss: 394.5211 - val_accuracy: 0.0294\n",
      "Epoch 54/100\n",
      "13/13 [==============================] - 0s 5ms/step - loss: -506.9892 - accuracy: 0.0359 - val_loss: 401.3367 - val_accuracy: 0.0294\n",
      "Epoch 55/100\n",
      "13/13 [==============================] - 0s 5ms/step - loss: -516.3989 - accuracy: 0.0347 - val_loss: 408.4741 - val_accuracy: 0.0294\n",
      "Epoch 56/100\n",
      "13/13 [==============================] - 0s 4ms/step - loss: -529.1582 - accuracy: 0.0260 - val_loss: 414.7880 - val_accuracy: 0.0294\n"
     ]
    },
    {
     "name": "stdout",
     "output_type": "stream",
     "text": [
      "Epoch 57/100\n",
      "13/13 [==============================] - 0s 5ms/step - loss: -531.1629 - accuracy: 0.0416 - val_loss: 421.2285 - val_accuracy: 0.0294\n",
      "Epoch 58/100\n",
      "13/13 [==============================] - 0s 5ms/step - loss: -557.6689 - accuracy: 0.0323 - val_loss: 427.3514 - val_accuracy: 0.0294\n",
      "Epoch 59/100\n",
      "13/13 [==============================] - 0s 5ms/step - loss: -556.8923 - accuracy: 0.0306 - val_loss: 432.9836 - val_accuracy: 0.0294\n",
      "Epoch 60/100\n",
      "13/13 [==============================] - 0s 5ms/step - loss: -558.8313 - accuracy: 0.0439 - val_loss: 438.5273 - val_accuracy: 0.0294\n",
      "Epoch 61/100\n",
      "13/13 [==============================] - 0s 5ms/step - loss: -558.0595 - accuracy: 0.0378 - val_loss: 444.4057 - val_accuracy: 0.0294\n",
      "Epoch 62/100\n",
      "13/13 [==============================] - 0s 4ms/step - loss: -594.7969 - accuracy: 0.0325 - val_loss: 450.2054 - val_accuracy: 0.0294\n",
      "Epoch 63/100\n",
      "13/13 [==============================] - 0s 5ms/step - loss: -590.8483 - accuracy: 0.0322 - val_loss: 455.6589 - val_accuracy: 0.0294\n",
      "Epoch 64/100\n",
      "13/13 [==============================] - 0s 5ms/step - loss: -578.3681 - accuracy: 0.0349 - val_loss: 461.3091 - val_accuracy: 0.0294\n",
      "Epoch 65/100\n",
      "13/13 [==============================] - 0s 5ms/step - loss: -604.7906 - accuracy: 0.0384 - val_loss: 466.9470 - val_accuracy: 0.0294\n",
      "Epoch 66/100\n",
      "13/13 [==============================] - 0s 5ms/step - loss: -624.3945 - accuracy: 0.0263 - val_loss: 473.2427 - val_accuracy: 0.0294\n",
      "Epoch 67/100\n",
      "13/13 [==============================] - 0s 5ms/step - loss: -605.1307 - accuracy: 0.0350 - val_loss: 478.8810 - val_accuracy: 0.0294\n",
      "Epoch 68/100\n",
      "13/13 [==============================] - 0s 5ms/step - loss: -634.5896 - accuracy: 0.0291 - val_loss: 484.2003 - val_accuracy: 0.0294\n",
      "Epoch 69/100\n",
      "13/13 [==============================] - 0s 4ms/step - loss: -633.6753 - accuracy: 0.0358 - val_loss: 490.1478 - val_accuracy: 0.0294\n",
      "Epoch 70/100\n",
      "13/13 [==============================] - 0s 5ms/step - loss: -645.3430 - accuracy: 0.0431 - val_loss: 496.2159 - val_accuracy: 0.0294\n",
      "Epoch 71/100\n",
      "13/13 [==============================] - 0s 5ms/step - loss: -648.8544 - accuracy: 0.0390 - val_loss: 501.6160 - val_accuracy: 0.0294\n",
      "Epoch 72/100\n",
      "13/13 [==============================] - 0s 5ms/step - loss: -640.0146 - accuracy: 0.0411 - val_loss: 506.9519 - val_accuracy: 0.0294\n",
      "Epoch 73/100\n",
      "13/13 [==============================] - 0s 5ms/step - loss: -653.5980 - accuracy: 0.0421 - val_loss: 512.3414 - val_accuracy: 0.0294\n",
      "Epoch 74/100\n",
      "13/13 [==============================] - 0s 4ms/step - loss: -679.1659 - accuracy: 0.0438 - val_loss: 517.5253 - val_accuracy: 0.0294\n",
      "Epoch 75/100\n",
      "13/13 [==============================] - 0s 5ms/step - loss: -688.7020 - accuracy: 0.0380 - val_loss: 522.6266 - val_accuracy: 0.0294\n",
      "Epoch 76/100\n",
      "13/13 [==============================] - 0s 4ms/step - loss: -680.4748 - accuracy: 0.0363 - val_loss: 528.1580 - val_accuracy: 0.0294\n",
      "Epoch 77/100\n",
      "13/13 [==============================] - 0s 5ms/step - loss: -681.4031 - accuracy: 0.0251 - val_loss: 533.8516 - val_accuracy: 0.0294\n",
      "Epoch 78/100\n",
      "13/13 [==============================] - 0s 5ms/step - loss: -683.4946 - accuracy: 0.0422 - val_loss: 539.4614 - val_accuracy: 0.0294\n",
      "Epoch 79/100\n",
      "13/13 [==============================] - 0s 4ms/step - loss: -699.4812 - accuracy: 0.0281 - val_loss: 545.3917 - val_accuracy: 0.0294\n",
      "Epoch 80/100\n",
      "13/13 [==============================] - 0s 5ms/step - loss: -738.6997 - accuracy: 0.0402 - val_loss: 551.2984 - val_accuracy: 0.0294\n",
      "Epoch 81/100\n",
      "13/13 [==============================] - 0s 5ms/step - loss: -711.0343 - accuracy: 0.0358 - val_loss: 556.7709 - val_accuracy: 0.0294\n",
      "Epoch 82/100\n",
      "13/13 [==============================] - 0s 5ms/step - loss: -721.1881 - accuracy: 0.0444 - val_loss: 562.2020 - val_accuracy: 0.0294\n",
      "Epoch 83/100\n",
      "13/13 [==============================] - 0s 5ms/step - loss: -743.1887 - accuracy: 0.0297 - val_loss: 567.1326 - val_accuracy: 0.0294\n",
      "Epoch 84/100\n",
      "13/13 [==============================] - 0s 4ms/step - loss: -750.1657 - accuracy: 0.0274 - val_loss: 572.0391 - val_accuracy: 0.0294\n",
      "Epoch 85/100\n",
      "13/13 [==============================] - 0s 5ms/step - loss: -733.0617 - accuracy: 0.0461 - val_loss: 576.7466 - val_accuracy: 0.0294\n",
      "Epoch 86/100\n",
      "13/13 [==============================] - 0s 4ms/step - loss: -769.7349 - accuracy: 0.0460 - val_loss: 581.7906 - val_accuracy: 0.0294\n",
      "Epoch 87/100\n",
      "13/13 [==============================] - 0s 5ms/step - loss: -801.9777 - accuracy: 0.0266 - val_loss: 586.9946 - val_accuracy: 0.0294\n",
      "Epoch 88/100\n",
      "13/13 [==============================] - 0s 4ms/step - loss: -783.8306 - accuracy: 0.0428 - val_loss: 592.1909 - val_accuracy: 0.0294\n",
      "Epoch 89/100\n",
      "13/13 [==============================] - 0s 5ms/step - loss: -789.2307 - accuracy: 0.0400 - val_loss: 597.0010 - val_accuracy: 0.0294\n",
      "Epoch 90/100\n",
      "13/13 [==============================] - 0s 4ms/step - loss: -806.1555 - accuracy: 0.0351 - val_loss: 601.7460 - val_accuracy: 0.0294\n",
      "Epoch 91/100\n",
      "13/13 [==============================] - 0s 5ms/step - loss: -787.0418 - accuracy: 0.0421 - val_loss: 606.0546 - val_accuracy: 0.0294\n",
      "Epoch 92/100\n",
      "13/13 [==============================] - 0s 5ms/step - loss: -828.0443 - accuracy: 0.0273 - val_loss: 610.6424 - val_accuracy: 0.0294\n",
      "Epoch 93/100\n",
      "13/13 [==============================] - 0s 5ms/step - loss: -809.6453 - accuracy: 0.0303 - val_loss: 616.1734 - val_accuracy: 0.0294\n",
      "Epoch 94/100\n",
      "13/13 [==============================] - 0s 4ms/step - loss: -819.2481 - accuracy: 0.0402 - val_loss: 621.4581 - val_accuracy: 0.0294\n",
      "Epoch 95/100\n",
      "13/13 [==============================] - 0s 5ms/step - loss: -838.6376 - accuracy: 0.0349 - val_loss: 626.6302 - val_accuracy: 0.0294\n",
      "Epoch 96/100\n",
      "13/13 [==============================] - 0s 5ms/step - loss: -792.8285 - accuracy: 0.0476 - val_loss: 632.0362 - val_accuracy: 0.0294\n",
      "Epoch 97/100\n",
      "13/13 [==============================] - 0s 5ms/step - loss: -843.4231 - accuracy: 0.0233 - val_loss: 637.2899 - val_accuracy: 0.0294\n",
      "Epoch 98/100\n",
      "13/13 [==============================] - 0s 5ms/step - loss: -838.2801 - accuracy: 0.0343 - val_loss: 642.3456 - val_accuracy: 0.0294\n",
      "Epoch 99/100\n",
      "13/13 [==============================] - 0s 5ms/step - loss: -848.2525 - accuracy: 0.0369 - val_loss: 650.5017 - val_accuracy: 0.0294\n",
      "Epoch 100/100\n",
      "13/13 [==============================] - 0s 4ms/step - loss: -859.7199 - accuracy: 0.0432 - val_loss: 656.0575 - val_accuracy: 0.0294\n"
     ]
    },
    {
     "data": {
      "text/plain": [
       "<tensorflow.python.keras.callbacks.History at 0x1cf4ecb4bb0>"
      ]
     },
     "execution_count": 357,
     "metadata": {},
     "output_type": "execute_result"
    }
   ],
   "source": [
    "model.compile(optimizer='Adamax', loss='binary_crossentropy', metrics=['accuracy'])\n",
    "#model.fit(X_train, y_train, epochs=10, verbose=1)\n",
    "\n",
    "model.compile(optimizer='adam',loss='binary_crossentropy',metrics=['accuracy'])\n",
    "#model.fit(X_train, y_train, epochs=100, verbose=1)\n",
    "\n",
    "\n",
    "model.fit(X_train,y_train.ravel(),batch_size=50,epochs=100, validation_split=0.1)"
   ]
  },
  {
   "cell_type": "code",
   "execution_count": null,
   "metadata": {},
   "outputs": [],
   "source": []
  }
 ],
 "metadata": {
  "kernelspec": {
   "display_name": "Python 3",
   "language": "python",
   "name": "python3"
  },
  "language_info": {
   "codemirror_mode": {
    "name": "ipython",
    "version": 3
   },
   "file_extension": ".py",
   "mimetype": "text/x-python",
   "name": "python",
   "nbconvert_exporter": "python",
   "pygments_lexer": "ipython3",
   "version": "3.8.5"
  }
 },
 "nbformat": 4,
 "nbformat_minor": 2
}
