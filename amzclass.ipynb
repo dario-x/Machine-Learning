{
 "cells": [
  {
   "cell_type": "markdown",
   "metadata": {},
   "source": [
    "# Preprocessing "
   ]
  },
  {
   "cell_type": "markdown",
   "metadata": {},
   "source": [
    "- loading in the data\n",
    "- transforming the target variable into a numeric form\n",
    "- doing a feature selection based on variance\n"
   ]
  },
  {
   "cell_type": "code",
   "execution_count": 288,
   "metadata": {},
   "outputs": [],
   "source": [
    "import pandas as pd"
   ]
  },
  {
   "cell_type": "code",
   "execution_count": 289,
   "metadata": {},
   "outputs": [
    {
     "name": "stdout",
     "output_type": "stream",
     "text": [
      "(750, 10002)\n"
     ]
    }
   ],
   "source": [
    "df_train = pd.read_csv(\"amazon_review_ID.shuf.lrn.csv\")\n",
    "\n",
    "print(df_train.shape)"
   ]
  },
  {
   "cell_type": "code",
   "execution_count": 290,
   "metadata": {},
   "outputs": [],
   "source": [
    "X = df_train.iloc[:, 1:10001].values\n",
    "y = df_train.iloc[:,-1:].values\n",
    "\n",
    "from sklearn.preprocessing import LabelEncoder\n",
    "enc = LabelEncoder().fit(y.ravel())\n",
    "y_enc = enc.transform(y.ravel())\n"
   ]
  },
  {
   "cell_type": "code",
   "execution_count": 291,
   "metadata": {},
   "outputs": [
    {
     "name": "stdout",
     "output_type": "stream",
     "text": [
      "length of features before reduction\n",
      "10000\n",
      "length of features before reduction\n",
      "8425\n"
     ]
    }
   ],
   "source": [
    "\n",
    "import numpy as np\n",
    "from sklearn.feature_selection import VarianceThreshold\n",
    "sel = VarianceThreshold(threshold=(0.01 * (1 - 0.001)))\n",
    "sel.fit_transform(X)\n",
    "\n",
    "print('length of features before reduction')\n",
    "print(len(X[1]))\n",
    "\n",
    "selection = sel.get_support(indices=True)\n",
    "\n",
    "print('length of features before reduction')\n",
    "X = np.array(X)[:, selection]\n",
    "print(len(X[1]))"
   ]
  },
  {
   "cell_type": "markdown",
   "metadata": {},
   "source": [
    "#### doing a train test split"
   ]
  },
  {
   "cell_type": "code",
   "execution_count": 292,
   "metadata": {},
   "outputs": [],
   "source": [
    "X_train, X_test, y_train, y_test = train_test_split(X, y_enc, test_size=0.1, random_state=0)\n"
   ]
  },
  {
   "cell_type": "markdown",
   "metadata": {},
   "source": [
    "##### normalizing the features"
   ]
  },
  {
   "cell_type": "code",
   "execution_count": 209,
   "metadata": {},
   "outputs": [],
   "source": [
    "#normalizing the features\n",
    "\n",
    "from sklearn.preprocessing import StandardScaler\n",
    "sc = StandardScaler()\n",
    "X_train = sc.fit_transform(X_train)\n",
    "X_test = sc.transform(X_test)"
   ]
  },
  {
   "cell_type": "markdown",
   "metadata": {},
   "source": [
    "## Logistic Regression"
   ]
  },
  {
   "cell_type": "code",
   "execution_count": 250,
   "metadata": {},
   "outputs": [
    {
     "name": "stdout",
     "output_type": "stream",
     "text": [
      "1.0\n",
      "0.48\n"
     ]
    }
   ],
   "source": [
    "\n",
    "\n",
    "from sklearn.linear_model import LogisticRegression\n",
    "#creating the model\n",
    "model = LogisticRegression(random_state=42, solver='newton-cg', warm_start=True, class_weight='balanced', intercept_scaling= 10, max_iter=300)\n",
    "#model = LogisticRegression(solver='saga', penalty='elasticnet', l1_ratio = 0.5, max_iter=200)\n",
    "#fitting data to the model\n",
    "model.fit(X_train, y_train)\n",
    "\n",
    "\n",
    "\n",
    "#calculating the probabilities\n",
    "y_pred_proba = model.predict_proba(X_test)\n",
    "\n",
    "\n",
    "\n",
    "#printing the accuarcy\n",
    "\n",
    "accuracy_training_set = model.score(X_train, y_train)\n",
    "print(accuracy_training_set)\n",
    "\n",
    "accuracy_testing_set = model.score(X_test, y_test)\n",
    "print(accuracy_testing_set)"
   ]
  },
  {
   "cell_type": "code",
   "execution_count": 322,
   "metadata": {},
   "outputs": [
    {
     "name": "stderr",
     "output_type": "stream",
     "text": [
      "C:\\ProgramData\\Anaconda3\\lib\\site-packages\\sklearn\\utils\\optimize.py:211: ConvergenceWarning: newton-cg failed to converge. Increase the number of iterations.\n",
      "  warnings.warn(\"newton-cg failed to converge. Increase the \"\n",
      "C:\\ProgramData\\Anaconda3\\lib\\site-packages\\sklearn\\utils\\optimize.py:211: ConvergenceWarning: newton-cg failed to converge. Increase the number of iterations.\n",
      "  warnings.warn(\"newton-cg failed to converge. Increase the \"\n",
      "C:\\ProgramData\\Anaconda3\\lib\\site-packages\\sklearn\\utils\\optimize.py:211: ConvergenceWarning: newton-cg failed to converge. Increase the number of iterations.\n",
      "  warnings.warn(\"newton-cg failed to converge. Increase the \"\n"
     ]
    },
    {
     "data": {
      "text/plain": [
       "[<matplotlib.lines.Line2D at 0x16a188cdf10>]"
      ]
     },
     "execution_count": 322,
     "metadata": {},
     "output_type": "execute_result"
    },
    {
     "data": {
      "image/png": "[encoded data removed]",
      "text/plain": [
       "<Figure size 432x288 with 1 Axes>"
      ]
     },
     "metadata": {
      "needs_background": "light"
     },
     "output_type": "display_data"
    }
   ],
   "source": [
    "#trying to find the right number of iterations\n",
    "\n",
    "import matplotlib.pyplot as plt\n",
    "\n",
    "interations = [5, 10, 25, 50, 100, 500, 1000, 2000]\n",
    "scores = []\n",
    "for interation in interations:\n",
    "    model =  LogisticRegression(random_state=42, solver='newton-cg', warm_start=True, class_weight='balanced', intercept_scaling= 10, max_iter=interation)\n",
    "    model.fit(X_train, y_train)\n",
    "    scores.append(model.score(X_test, y_test))\n",
    "  \n",
    "plt.title(\"Effect of the Number of Iterations\")\n",
    "plt.xlabel(\"Number of terations\")\n",
    "plt.ylabel(\"Accurary Score on Test Dataset\")\n",
    "plt.plot(interations, scores) "
   ]
  },
  {
   "cell_type": "code",
   "execution_count": 129,
   "metadata": {},
   "outputs": [],
   "source": [
    "#loading the test data\n",
    "df_test = pd.read_csv(\"amazon_review_ID.shuf.tes.csv\")\n",
    "df_result = pd.read_csv(\"amazon_review_ID.shuf.tes.csv\", usecols=['ID'])\n",
    "\n",
    "\n",
    "#making a prediction for the test data\n",
    "X_result = df_test.iloc[:, 1:10001].values\n",
    "X_result = sc.transform(X_result)\n",
    "\n",
    "y_result = model.predict(X_result)\n",
    "\n",
    "#storing the results\n",
    "result_enc = enc.inverse_transform(y_result)\n",
    "df_result[\"Class\"] = pd.Series(result_enc, index=df_result.index)\n",
    "df_result.to_csv(\"result.csv\", index=False)"
   ]
  },
  {
   "cell_type": "code",
   "execution_count": 130,
   "metadata": {
    "scrolled": true
   },
   "outputs": [
    {
     "data": {
      "text/html": [
       "<div>\n",
       "<style scoped>\n",
       "    .dataframe tbody tr th:only-of-type {\n",
       "        vertical-align: middle;\n",
       "    }\n",
       "\n",
       "    .dataframe tbody tr th {\n",
       "        vertical-align: top;\n",
       "    }\n",
       "\n",
       "    .dataframe thead th {\n",
       "        text-align: right;\n",
       "    }\n",
       "</style>\n",
       "<table border=\"1\" class=\"dataframe\">\n",
       "  <thead>\n",
       "    <tr style=\"text-align: right;\">\n",
       "      <th></th>\n",
       "      <th>ID</th>\n",
       "      <th>Class</th>\n",
       "    </tr>\n",
       "  </thead>\n",
       "  <tbody>\n",
       "    <tr>\n",
       "      <th>0</th>\n",
       "      <td>750</td>\n",
       "      <td>Power</td>\n",
       "    </tr>\n",
       "    <tr>\n",
       "      <th>1</th>\n",
       "      <td>751</td>\n",
       "      <td>Goonan</td>\n",
       "    </tr>\n",
       "    <tr>\n",
       "      <th>2</th>\n",
       "      <td>752</td>\n",
       "      <td>Comdet</td>\n",
       "    </tr>\n",
       "    <tr>\n",
       "      <th>3</th>\n",
       "      <td>753</td>\n",
       "      <td>Mahlers2nd</td>\n",
       "    </tr>\n",
       "    <tr>\n",
       "      <th>4</th>\n",
       "      <td>754</td>\n",
       "      <td>Cholette</td>\n",
       "    </tr>\n",
       "    <tr>\n",
       "      <th>...</th>\n",
       "      <td>...</td>\n",
       "      <td>...</td>\n",
       "    </tr>\n",
       "    <tr>\n",
       "      <th>745</th>\n",
       "      <td>1495</td>\n",
       "      <td>Brody</td>\n",
       "    </tr>\n",
       "    <tr>\n",
       "      <th>746</th>\n",
       "      <td>1496</td>\n",
       "      <td>Chandler</td>\n",
       "    </tr>\n",
       "    <tr>\n",
       "      <th>747</th>\n",
       "      <td>1497</td>\n",
       "      <td>Power</td>\n",
       "    </tr>\n",
       "    <tr>\n",
       "      <th>748</th>\n",
       "      <td>1498</td>\n",
       "      <td>Chandler</td>\n",
       "    </tr>\n",
       "    <tr>\n",
       "      <th>749</th>\n",
       "      <td>1499</td>\n",
       "      <td>Koenig</td>\n",
       "    </tr>\n",
       "  </tbody>\n",
       "</table>\n",
       "<p>750 rows × 2 columns</p>\n",
       "</div>"
      ],
      "text/plain": [
       "       ID       Class\n",
       "0     750       Power\n",
       "1     751      Goonan\n",
       "2     752      Comdet\n",
       "3     753  Mahlers2nd\n",
       "4     754    Cholette\n",
       "..    ...         ...\n",
       "745  1495       Brody\n",
       "746  1496    Chandler\n",
       "747  1497       Power\n",
       "748  1498    Chandler\n",
       "749  1499      Koenig\n",
       "\n",
       "[750 rows x 2 columns]"
      ]
     },
     "execution_count": 130,
     "metadata": {},
     "output_type": "execute_result"
    }
   ],
   "source": [
    "df_result"
   ]
  },
  {
   "cell_type": "markdown",
   "metadata": {},
   "source": [
    "# SGD Classifier"
   ]
  },
  {
   "cell_type": "code",
   "execution_count": 85,
   "metadata": {},
   "outputs": [
    {
     "data": {
      "text/plain": [
       "Pipeline(steps=[('standardscaler', StandardScaler()),\n",
       "                ('sgdclassifier', SGDClassifier())])"
      ]
     },
     "execution_count": 85,
     "metadata": {},
     "output_type": "execute_result"
    }
   ],
   "source": [
    "from sklearn.linear_model import SGDClassifier\n",
    "from sklearn.preprocessing import StandardScaler\n",
    "from sklearn.pipeline import make_pipeline\n",
    "\n",
    "model = make_pipeline(StandardScaler(), SGDClassifier(loss='hinge', penalty='l2',max_iter=1000, tol=1e-3))\n",
    "model.fit(X_train, y_train)\n",
    "\n"
   ]
  },
  {
   "cell_type": "code",
   "execution_count": 323,
   "metadata": {},
   "outputs": [
    {
     "name": "stderr",
     "output_type": "stream",
     "text": [
      "C:\\ProgramData\\Anaconda3\\lib\\site-packages\\sklearn\\linear_model\\_stochastic_gradient.py:570: ConvergenceWarning: Maximum number of iteration reached before convergence. Consider increasing max_iter to improve the fit.\n",
      "  warnings.warn(\"Maximum number of iteration reached before \"\n",
      "C:\\ProgramData\\Anaconda3\\lib\\site-packages\\sklearn\\linear_model\\_stochastic_gradient.py:570: ConvergenceWarning: Maximum number of iteration reached before convergence. Consider increasing max_iter to improve the fit.\n",
      "  warnings.warn(\"Maximum number of iteration reached before \"\n",
      "C:\\ProgramData\\Anaconda3\\lib\\site-packages\\sklearn\\linear_model\\_stochastic_gradient.py:570: ConvergenceWarning: Maximum number of iteration reached before convergence. Consider increasing max_iter to improve the fit.\n",
      "  warnings.warn(\"Maximum number of iteration reached before \"\n"
     ]
    },
    {
     "data": {
      "text/plain": [
       "[<matplotlib.lines.Line2D at 0x16a0048f910>]"
      ]
     },
     "execution_count": 323,
     "metadata": {},
     "output_type": "execute_result"
    },
    {
     "data": {
      "image/png": "[encoded data removed]",
      "text/plain": [
       "<Figure size 432x288 with 1 Axes>"
      ]
     },
     "metadata": {
      "needs_background": "light"
     },
     "output_type": "display_data"
    }
   ],
   "source": [
    "#trying to find the right number of iterations\n",
    "\n",
    "import matplotlib.pyplot as plt\n",
    "\n",
    "interations = [5, 10, 25, 50, 100, 500, 1000, 2000]\n",
    "scores = []\n",
    "for interation in interations:\n",
    "    model = SGDClassifier(loss=\"log\", penalty=\"l2\", max_iter=interation)\n",
    "    model.fit(X_train, y_train)\n",
    "    scores.append(model.score(X_test, y_test))\n",
    "  \n",
    "plt.title(\"Effect of the Number of Iterations\")\n",
    "plt.xlabel(\"Number of terations\")\n",
    "plt.ylabel(\"Accurary Score on Test Dataset\")\n",
    "plt.plot(interations, scores) \n"
   ]
  },
  {
   "cell_type": "code",
   "execution_count": 87,
   "metadata": {},
   "outputs": [
    {
     "name": "stdout",
     "output_type": "stream",
     "text": [
      "1.0\n",
      "0.48\n"
     ]
    }
   ],
   "source": [
    "#calculating the probabilities\n",
    "y_pred_proba = model.decision_function(X_test)\n",
    "\n",
    "#printing the accuarcy\n",
    "accuracy_training_set = model.score(X_train, y_train)\n",
    "print(accuracy_training_set)\n",
    "\n",
    "accuracy_testing_set = model.score(X_test, y_test)\n",
    "print(accuracy_testing_set)"
   ]
  },
  {
   "cell_type": "markdown",
   "metadata": {},
   "source": [
    "## K Nearest neighbor"
   ]
  },
  {
   "cell_type": "code",
   "execution_count": 319,
   "metadata": {},
   "outputs": [
    {
     "name": "stdout",
     "output_type": "stream",
     "text": [
      "1.0\n",
      "0.24\n"
     ]
    }
   ],
   "source": [
    "\n",
    "\n",
    "\n",
    "#creating the model\n",
    "from sklearn.neighbors import KNeighborsClassifier\n",
    "model = KNeighborsClassifier(n_neighbors=3, weights='distance', algorithm = 'ball_tree', leaf_size=2)\n",
    "#fitting data to the model\n",
    "model.fit(X_train, y_train)\n",
    "\n",
    "#calculating the probabilities\n",
    "y_pred_proba = model.predict(X_test)\n",
    "\n",
    "\n",
    "#printing the accuarcy\n",
    "accuracy_training_set = model.score(X_train, y_train)\n",
    "print(accuracy_training_set)\n",
    "\n",
    "accuracy_testing_set = model.score(X_test, y_test)\n",
    "print(accuracy_testing_set)\n"
   ]
  },
  {
   "cell_type": "code",
   "execution_count": 320,
   "metadata": {},
   "outputs": [
    {
     "data": {
      "text/plain": [
       "[<matplotlib.lines.Line2D at 0x16a0224d490>]"
      ]
     },
     "execution_count": 320,
     "metadata": {},
     "output_type": "execute_result"
    },
    {
     "data": {
      "image/png": "[encoded data removed]",
      "text/plain": [
       "<Figure size 432x288 with 1 Axes>"
      ]
     },
     "metadata": {
      "needs_background": "light"
     },
     "output_type": "display_data"
    }
   ],
   "source": [
    "#trying to find the right number of neighbours\n",
    "\n",
    "import matplotlib.pyplot as plt\n",
    "\n",
    "neighbours = [2, 3, 5, 10, 25, 50,60, 100]\n",
    "scores = []\n",
    "for neighbour in neighbours:\n",
    "    model = KNeighborsClassifier(n_neighbors=neighbour, weights='uniform')\n",
    "    model.fit(X_train, y_train)\n",
    "    scores.append(model.score(X_test, y_test))\n",
    "  \n",
    "plt.title(\"Effect of the Number of Neighbours\")\n",
    "plt.xlabel(\"Number of neighbours\")\n",
    "plt.ylabel(\"Accurary Score on Test Dataset\")\n",
    "plt.plot(interations, scores) "
   ]
  },
  {
   "cell_type": "markdown",
   "metadata": {},
   "source": [
    "### Support Vector Machine"
   ]
  },
  {
   "cell_type": "code",
   "execution_count": 304,
   "metadata": {},
   "outputs": [
    {
     "name": "stdout",
     "output_type": "stream",
     "text": [
      "1.0\n",
      "0.44\n"
     ]
    }
   ],
   "source": [
    "from sklearn import svm\n",
    "\n",
    "\n",
    "#creating the model\n",
    "model = svm.SVC(decision_function_shape='ovo', kernel='linear')\n",
    "#fitting data to the model\n",
    "model.fit(X_train, y_train)\n",
    "\n",
    "#calculating the probabilities\n",
    "y_pred_proba = model.predict(X_test)\n",
    "\n",
    "\n",
    "#printing the accuarcy\n",
    "accuracy_training_set = model.score(X_train, y_train)\n",
    "print(accuracy_training_set)\n",
    "\n",
    "accuracy_testing_set = model.score(X_test, y_test)\n",
    "print(accuracy_testing_set)\n",
    "\n"
   ]
  },
  {
   "cell_type": "markdown",
   "metadata": {},
   "source": [
    "## Random Forest"
   ]
  },
  {
   "cell_type": "code",
   "execution_count": null,
   "metadata": {},
   "outputs": [],
   "source": [
    "#importing the necessary libraries\n",
    "from sklearn.ensemble import RandomForestClassifier\n",
    "\n",
    "#creating the model\n",
    "model = RandomForestClassifier(min_samples_split=4, min_samples_leaf=3, min_weight_fraction_leaf = 0.000000000000000001, bootstrap=True, n_estimators=7000)\n",
    "#fitting data to the model\n",
    "model.fit(X_train, y_train)\n",
    "\n",
    "#calculating the probabilities\n",
    "y_pred_proba = model.predict_proba(X_test)\n",
    "\n",
    "\n",
    "#printing the accuarcy\n",
    "accuracy_training_set = model.score(X_train, y_train)\n",
    "print(accuracy_training_set)\n",
    "\n",
    "accuracy_testing_set = model.score(X_test, y_test)\n",
    "print(accuracy_testing_set)"
   ]
  },
  {
   "cell_type": "code",
   "execution_count": 324,
   "metadata": {},
   "outputs": [
    {
     "data": {
      "text/plain": [
       "[<matplotlib.lines.Line2D at 0x16a02057760>]"
      ]
     },
     "execution_count": 324,
     "metadata": {},
     "output_type": "execute_result"
    },
    {
     "data": {
      "image/png": "[encoded data removed]",
      "text/plain": [
       "<Figure size 432x288 with 1 Axes>"
      ]
     },
     "metadata": {
      "needs_background": "light"
     },
     "output_type": "display_data"
    }
   ],
   "source": [
    "#trying to find the right number of iterations\n",
    "\n",
    "import matplotlib.pyplot as plt\n",
    "\n",
    "trees = [5, 10, 100, 1000, 2000, 3000, 5000, 10000]\n",
    "scores = []\n",
    "for tree in trees:\n",
    "    model = RandomForestClassifier(min_samples_split=4, min_samples_leaf=3, min_weight_fraction_leaf = 0.000000000000000001, bootstrap=True, n_estimators=tree)\n",
    "    model.fit(X_train, y_train)\n",
    "    scores.append(model.score(X_test, y_test))\n",
    "  \n",
    "plt.title(\"Effect of the Number of Trees\")\n",
    "plt.xlabel(\"Number of trees\")\n",
    "plt.ylabel(\"Accurary Score on Test Dataset\")\n",
    "plt.plot(interations, scores) \n"
   ]
  },
  {
   "cell_type": "markdown",
   "metadata": {},
   "source": [
    "#### Grid Search\n",
    "\n",
    "another approach for finding the right estimatiors for our random forest"
   ]
  },
  {
   "cell_type": "code",
   "execution_count": 321,
   "metadata": {},
   "outputs": [
    {
     "name": "stdout",
     "output_type": "stream",
     "text": [
      "{'max_features': 'auto', 'n_estimators': 300}\n"
     ]
    }
   ],
   "source": [
    "from sklearn.model_selection import GridSearchCV\n",
    "from sklearn.datasets import make_classification\n",
    "\n",
    "\n",
    "# Build a classification task using 3 informative features\n",
    "X, y = make_classification(n_samples=753,\n",
    "                           n_features=10000,\n",
    "                           n_informative=753,\n",
    "                           n_redundant=0,\n",
    "                           n_repeated=0,\n",
    "                           n_classes=5,\n",
    "                           random_state=0,\n",
    "                           shuffle=False)\n",
    "\n",
    "\n",
    "rfc = RandomForestClassifier(n_jobs=-1,max_features= 'sqrt' ,n_estimators=50, oob_score = True) \n",
    "\n",
    "param_grid = { \n",
    "    'n_estimators': [100, 200, 300],\n",
    "    'max_features': ['auto', 'sqrt', 'log2']\n",
    "}\n",
    "\n",
    "CV_rfc = GridSearchCV(estimator=rfc, param_grid=param_grid, cv= 5)\n",
    "CV_rfc.fit(X, y)\n",
    "print(CV_rfc.best_params_)"
   ]
  },
  {
   "cell_type": "code",
   "execution_count": 168,
   "metadata": {},
   "outputs": [],
   "source": [
    "#loading the test data\n",
    "df_test = pd.read_csv(\"amazon_review_ID.shuf.tes.csv\")\n",
    "df_result = pd.read_csv(\"amazon_review_ID.shuf.tes.csv\", usecols=['ID'])\n",
    "\n",
    "\n",
    "#making a prediction for the test data\n",
    "X_result = df_test.iloc[:, 1:10001].values\n",
    "X_result = sc.transform(X_result)\n",
    "\n",
    "y_result = model.predict(X_result)\n",
    "\n",
    "#storing the results\n",
    "result_enc = enc.inverse_transform(y_result)\n",
    "df_result[\"Class\"] = pd.Series(result_enc, index=df_result.index)\n",
    "df_result.to_csv(\"result.csv\", index=False)"
   ]
  },
  {
   "cell_type": "code",
   "execution_count": 169,
   "metadata": {
    "scrolled": true
   },
   "outputs": [
    {
     "data": {
      "text/html": [
       "<div>\n",
       "<style scoped>\n",
       "    .dataframe tbody tr th:only-of-type {\n",
       "        vertical-align: middle;\n",
       "    }\n",
       "\n",
       "    .dataframe tbody tr th {\n",
       "        vertical-align: top;\n",
       "    }\n",
       "\n",
       "    .dataframe thead th {\n",
       "        text-align: right;\n",
       "    }\n",
       "</style>\n",
       "<table border=\"1\" class=\"dataframe\">\n",
       "  <thead>\n",
       "    <tr style=\"text-align: right;\">\n",
       "      <th></th>\n",
       "      <th>ID</th>\n",
       "      <th>Class</th>\n",
       "    </tr>\n",
       "  </thead>\n",
       "  <tbody>\n",
       "    <tr>\n",
       "      <th>0</th>\n",
       "      <td>750</td>\n",
       "      <td>Power</td>\n",
       "    </tr>\n",
       "    <tr>\n",
       "      <th>1</th>\n",
       "      <td>751</td>\n",
       "      <td>Koenig</td>\n",
       "    </tr>\n",
       "    <tr>\n",
       "      <th>2</th>\n",
       "      <td>752</td>\n",
       "      <td>Comdet</td>\n",
       "    </tr>\n",
       "    <tr>\n",
       "      <th>3</th>\n",
       "      <td>753</td>\n",
       "      <td>Johnson</td>\n",
       "    </tr>\n",
       "    <tr>\n",
       "      <th>4</th>\n",
       "      <td>754</td>\n",
       "      <td>Cholette</td>\n",
       "    </tr>\n",
       "    <tr>\n",
       "      <th>...</th>\n",
       "      <td>...</td>\n",
       "      <td>...</td>\n",
       "    </tr>\n",
       "    <tr>\n",
       "      <th>745</th>\n",
       "      <td>1495</td>\n",
       "      <td>Shea</td>\n",
       "    </tr>\n",
       "    <tr>\n",
       "      <th>746</th>\n",
       "      <td>1496</td>\n",
       "      <td>Chandler</td>\n",
       "    </tr>\n",
       "    <tr>\n",
       "      <th>747</th>\n",
       "      <td>1497</td>\n",
       "      <td>Power</td>\n",
       "    </tr>\n",
       "    <tr>\n",
       "      <th>748</th>\n",
       "      <td>1498</td>\n",
       "      <td>Grove</td>\n",
       "    </tr>\n",
       "    <tr>\n",
       "      <th>749</th>\n",
       "      <td>1499</td>\n",
       "      <td>Koenig</td>\n",
       "    </tr>\n",
       "  </tbody>\n",
       "</table>\n",
       "<p>750 rows × 2 columns</p>\n",
       "</div>"
      ],
      "text/plain": [
       "       ID     Class\n",
       "0     750     Power\n",
       "1     751    Koenig\n",
       "2     752    Comdet\n",
       "3     753   Johnson\n",
       "4     754  Cholette\n",
       "..    ...       ...\n",
       "745  1495      Shea\n",
       "746  1496  Chandler\n",
       "747  1497     Power\n",
       "748  1498     Grove\n",
       "749  1499    Koenig\n",
       "\n",
       "[750 rows x 2 columns]"
      ]
     },
     "execution_count": 169,
     "metadata": {},
     "output_type": "execute_result"
    }
   ],
   "source": [
    "df_result"
   ]
  },
  {
   "cell_type": "code",
   "execution_count": null,
   "metadata": {},
   "outputs": [],
   "source": []
  },
  {
   "cell_type": "markdown",
   "metadata": {},
   "source": [
    "# Keras RNN"
   ]
  },
  {
   "cell_type": "code",
   "execution_count": 93,
   "metadata": {},
   "outputs": [
    {
     "data": {
      "text/plain": [
       "50"
      ]
     },
     "execution_count": 93,
     "metadata": {},
     "output_type": "execute_result"
    }
   ],
   "source": [
    "#see how many classes (persons) we have\n",
    "\n",
    "len(df_train['Class'].unique())"
   ]
  },
  {
   "cell_type": "code",
   "execution_count": 94,
   "metadata": {},
   "outputs": [],
   "source": [
    "from keras.models import Sequential\n",
    "from keras.layers import Dense\n",
    "from keras.optimizers import RMSprop\n",
    "from keras.layers import LSTM, Activation, Dense, Dropout, Input, Embedding, SimpleRNN"
   ]
  },
  {
   "cell_type": "code",
   "execution_count": null,
   "metadata": {},
   "outputs": [],
   "source": []
  },
  {
   "cell_type": "code",
   "execution_count": 96,
   "metadata": {},
   "outputs": [],
   "source": [
    "\n",
    "model = Sequential()\n",
    "\n",
    "model.add(Dense(30, input_dim=10000, activation='tanh'))\n",
    "model.add(Dense(20, activation='tanh'))\n",
    "model.add(Dense(1, activation='sigmoid'))\n",
    "\n",
    "\n",
    "#model.add(Dense(50, input_dim=10000, activation='softmax', name='FC1', input_shape=(10000,)))\n",
    "#model.add(Activation('relu'))\n",
    "#model.add(Dense(50,name='out_layer'))\n",
    "#model.add(Activation('sigmoid'))\n",
    "#model.add(Dropout(0.5))\n"
   ]
  },
  {
   "cell_type": "code",
   "execution_count": 97,
   "metadata": {},
   "outputs": [
    {
     "name": "stdout",
     "output_type": "stream",
     "text": [
      "Epoch 1/100\n",
      "11/11 [==============================] - 1s 17ms/step - loss: 7.7677 - accuracy: 0.0260 - val_loss: 18.0635 - val_accuracy: 0.0167\n",
      "Epoch 2/100\n",
      "11/11 [==============================] - 0s 5ms/step - loss: -20.7570 - accuracy: 0.0320 - val_loss: 22.1808 - val_accuracy: 0.0167\n",
      "Epoch 3/100\n",
      "11/11 [==============================] - 0s 6ms/step - loss: -38.9395 - accuracy: 0.0246 - val_loss: 30.7377 - val_accuracy: 0.0167\n",
      "Epoch 4/100\n",
      "11/11 [==============================] - 0s 5ms/step - loss: -48.9276 - accuracy: 0.0299 - val_loss: 40.8105 - val_accuracy: 0.0167\n",
      "Epoch 5/100\n",
      "11/11 [==============================] - 0s 6ms/step - loss: -60.3047 - accuracy: 0.0340 - val_loss: 50.9088 - val_accuracy: 0.0167\n",
      "Epoch 6/100\n",
      "11/11 [==============================] - 0s 5ms/step - loss: -73.6418 - accuracy: 0.0295 - val_loss: 60.8815 - val_accuracy: 0.0167\n",
      "Epoch 7/100\n",
      "11/11 [==============================] - 0s 5ms/step - loss: -81.2514 - accuracy: 0.0278 - val_loss: 69.4360 - val_accuracy: 0.0167\n",
      "Epoch 8/100\n",
      "11/11 [==============================] - 0s 5ms/step - loss: -83.5293 - accuracy: 0.0246 - val_loss: 77.1387 - val_accuracy: 0.0167\n",
      "Epoch 9/100\n",
      "11/11 [==============================] - 0s 5ms/step - loss: -96.1537 - accuracy: 0.0272 - val_loss: 85.3018 - val_accuracy: 0.0167\n",
      "Epoch 10/100\n",
      "11/11 [==============================] - 0s 5ms/step - loss: -109.1682 - accuracy: 0.0457 - val_loss: 93.6686 - val_accuracy: 0.0167\n",
      "Epoch 11/100\n",
      "11/11 [==============================] - 0s 6ms/step - loss: -109.6415 - accuracy: 0.0353 - val_loss: 101.3505 - val_accuracy: 0.0167\n",
      "Epoch 12/100\n",
      "11/11 [==============================] - 0s 5ms/step - loss: -118.5676 - accuracy: 0.0353 - val_loss: 108.8677 - val_accuracy: 0.0167\n",
      "Epoch 13/100\n",
      "11/11 [==============================] - 0s 5ms/step - loss: -124.7822 - accuracy: 0.0382 - val_loss: 116.5578 - val_accuracy: 0.0167\n",
      "Epoch 14/100\n",
      "11/11 [==============================] - 0s 5ms/step - loss: -138.4448 - accuracy: 0.0396 - val_loss: 123.4549 - val_accuracy: 0.0167\n",
      "Epoch 15/100\n",
      "11/11 [==============================] - 0s 5ms/step - loss: -138.6281 - accuracy: 0.0300 - val_loss: 130.1689 - val_accuracy: 0.0167\n",
      "Epoch 16/100\n",
      "11/11 [==============================] - 0s 6ms/step - loss: -143.7493 - accuracy: 0.0329 - val_loss: 136.6144 - val_accuracy: 0.0167\n",
      "Epoch 17/100\n",
      "11/11 [==============================] - 0s 5ms/step - loss: -159.5459 - accuracy: 0.0405 - val_loss: 142.8144 - val_accuracy: 0.0167\n",
      "Epoch 18/100\n",
      "11/11 [==============================] - 0s 5ms/step - loss: -162.0254 - accuracy: 0.0412 - val_loss: 149.7346 - val_accuracy: 0.0167\n",
      "Epoch 19/100\n",
      "11/11 [==============================] - 0s 5ms/step - loss: -165.4424 - accuracy: 0.0339 - val_loss: 155.7503 - val_accuracy: 0.0167\n",
      "Epoch 20/100\n",
      "11/11 [==============================] - 0s 5ms/step - loss: -178.0883 - accuracy: 0.0339 - val_loss: 161.4081 - val_accuracy: 0.0167\n",
      "Epoch 21/100\n",
      "11/11 [==============================] - 0s 6ms/step - loss: -179.6297 - accuracy: 0.0424 - val_loss: 167.4914 - val_accuracy: 0.0167\n",
      "Epoch 22/100\n",
      "11/11 [==============================] - 0s 6ms/step - loss: -184.0563 - accuracy: 0.0340 - val_loss: 174.7003 - val_accuracy: 0.0167\n",
      "Epoch 23/100\n",
      "11/11 [==============================] - 0s 5ms/step - loss: -204.7047 - accuracy: 0.0390 - val_loss: 181.9513 - val_accuracy: 0.0167\n",
      "Epoch 24/100\n",
      "11/11 [==============================] - 0s 5ms/step - loss: -198.7296 - accuracy: 0.0355 - val_loss: 188.8698 - val_accuracy: 0.0167\n",
      "Epoch 25/100\n",
      "11/11 [==============================] - 0s 5ms/step - loss: -218.3566 - accuracy: 0.0424 - val_loss: 195.9414 - val_accuracy: 0.0167\n",
      "Epoch 26/100\n",
      "11/11 [==============================] - 0s 5ms/step - loss: -221.4820 - accuracy: 0.0336 - val_loss: 201.0696 - val_accuracy: 0.0167\n",
      "Epoch 27/100\n",
      "11/11 [==============================] - 0s 5ms/step - loss: -220.3350 - accuracy: 0.0483 - val_loss: 206.4279 - val_accuracy: 0.0167\n",
      "Epoch 28/100\n",
      "11/11 [==============================] - 0s 5ms/step - loss: -232.2412 - accuracy: 0.0323 - val_loss: 208.8045 - val_accuracy: 0.0167\n",
      "Epoch 29/100\n",
      "11/11 [==============================] - 0s 5ms/step - loss: -241.4966 - accuracy: 0.0351 - val_loss: 215.2546 - val_accuracy: 0.0167\n",
      "Epoch 30/100\n",
      "11/11 [==============================] - 0s 5ms/step - loss: -249.5594 - accuracy: 0.0315 - val_loss: 222.5324 - val_accuracy: 0.0167\n",
      "Epoch 31/100\n",
      "11/11 [==============================] - 0s 6ms/step - loss: -262.2795 - accuracy: 0.0324 - val_loss: 229.6447 - val_accuracy: 0.0167\n",
      "Epoch 32/100\n",
      "11/11 [==============================] - 0s 5ms/step - loss: -282.2092 - accuracy: 0.0327 - val_loss: 235.2933 - val_accuracy: 0.0167\n",
      "Epoch 33/100\n",
      "11/11 [==============================] - 0s 5ms/step - loss: -278.7562 - accuracy: 0.0396 - val_loss: 240.6228 - val_accuracy: 0.0167\n",
      "Epoch 34/100\n",
      "11/11 [==============================] - 0s 5ms/step - loss: -284.8538 - accuracy: 0.0495 - val_loss: 243.8783 - val_accuracy: 0.0167\n",
      "Epoch 35/100\n",
      "11/11 [==============================] - 0s 5ms/step - loss: -291.2210 - accuracy: 0.0380 - val_loss: 247.0259 - val_accuracy: 0.0167\n",
      "Epoch 36/100\n",
      "11/11 [==============================] - 0s 6ms/step - loss: -311.1978 - accuracy: 0.0406 - val_loss: 250.8559 - val_accuracy: 0.0167\n",
      "Epoch 37/100\n",
      "11/11 [==============================] - 0s 5ms/step - loss: -314.1818 - accuracy: 0.0467 - val_loss: 256.1743 - val_accuracy: 0.0167\n",
      "Epoch 38/100\n",
      "11/11 [==============================] - 0s 5ms/step - loss: -328.4408 - accuracy: 0.0358 - val_loss: 262.4147 - val_accuracy: 0.0167\n",
      "Epoch 39/100\n",
      "11/11 [==============================] - 0s 6ms/step - loss: -319.4854 - accuracy: 0.0294 - val_loss: 269.0295 - val_accuracy: 0.0167\n",
      "Epoch 40/100\n",
      "11/11 [==============================] - 0s 5ms/step - loss: -337.5217 - accuracy: 0.0353 - val_loss: 275.2505 - val_accuracy: 0.0167\n",
      "Epoch 41/100\n",
      "11/11 [==============================] - 0s 5ms/step - loss: -354.8783 - accuracy: 0.0412 - val_loss: 279.0410 - val_accuracy: 0.0167\n",
      "Epoch 42/100\n",
      "11/11 [==============================] - 0s 5ms/step - loss: -346.3268 - accuracy: 0.0299 - val_loss: 282.5619 - val_accuracy: 0.0167\n",
      "Epoch 43/100\n",
      "11/11 [==============================] - 0s 5ms/step - loss: -359.4610 - accuracy: 0.0427 - val_loss: 286.2786 - val_accuracy: 0.0167\n",
      "Epoch 44/100\n",
      "11/11 [==============================] - 0s 5ms/step - loss: -364.9836 - accuracy: 0.0335 - val_loss: 289.2069 - val_accuracy: 0.0167\n",
      "Epoch 45/100\n",
      "11/11 [==============================] - 0s 5ms/step - loss: -369.6062 - accuracy: 0.0502 - val_loss: 290.8652 - val_accuracy: 0.0167\n",
      "Epoch 46/100\n",
      "11/11 [==============================] - 0s 5ms/step - loss: -388.2679 - accuracy: 0.0400 - val_loss: 294.8478 - val_accuracy: 0.0167\n",
      "Epoch 47/100\n",
      "11/11 [==============================] - 0s 5ms/step - loss: -387.7453 - accuracy: 0.0347 - val_loss: 299.3625 - val_accuracy: 0.0167\n",
      "Epoch 48/100\n",
      "11/11 [==============================] - 0s 5ms/step - loss: -391.9435 - accuracy: 0.0422 - val_loss: 307.0479 - val_accuracy: 0.0167\n",
      "Epoch 49/100\n",
      "11/11 [==============================] - 0s 6ms/step - loss: -405.8253 - accuracy: 0.0321 - val_loss: 312.4243 - val_accuracy: 0.0167\n",
      "Epoch 50/100\n",
      "11/11 [==============================] - 0s 5ms/step - loss: -411.6864 - accuracy: 0.0442 - val_loss: 316.9074 - val_accuracy: 0.0167\n",
      "Epoch 51/100\n",
      "11/11 [==============================] - 0s 5ms/step - loss: -410.0932 - accuracy: 0.0501 - val_loss: 320.7296 - val_accuracy: 0.0167\n",
      "Epoch 52/100\n",
      "11/11 [==============================] - 0s 5ms/step - loss: -413.0228 - accuracy: 0.0488 - val_loss: 324.9374 - val_accuracy: 0.0167\n",
      "Epoch 53/100\n",
      "11/11 [==============================] - 0s 5ms/step - loss: -426.9046 - accuracy: 0.0391 - val_loss: 329.6866 - val_accuracy: 0.0167\n",
      "Epoch 54/100\n",
      "11/11 [==============================] - 0s 5ms/step - loss: -443.1706 - accuracy: 0.0439 - val_loss: 332.8620 - val_accuracy: 0.0167\n",
      "Epoch 55/100\n",
      "11/11 [==============================] - 0s 5ms/step - loss: -433.7998 - accuracy: 0.0497 - val_loss: 336.1800 - val_accuracy: 0.0167\n",
      "Epoch 56/100\n",
      "11/11 [==============================] - 0s 5ms/step - loss: -432.4262 - accuracy: 0.0514 - val_loss: 339.2949 - val_accuracy: 0.0167\n"
     ]
    },
    {
     "name": "stdout",
     "output_type": "stream",
     "text": [
      "Epoch 57/100\n",
      "11/11 [==============================] - 0s 5ms/step - loss: -455.7823 - accuracy: 0.0463 - val_loss: 341.3787 - val_accuracy: 0.0167\n",
      "Epoch 58/100\n",
      "11/11 [==============================] - 0s 5ms/step - loss: -476.4658 - accuracy: 0.0374 - val_loss: 344.8644 - val_accuracy: 0.0167\n",
      "Epoch 59/100\n",
      "11/11 [==============================] - 0s 5ms/step - loss: -489.7604 - accuracy: 0.0304 - val_loss: 348.3940 - val_accuracy: 0.0167\n",
      "Epoch 60/100\n",
      "11/11 [==============================] - 0s 5ms/step - loss: -491.9255 - accuracy: 0.0523 - val_loss: 352.5991 - val_accuracy: 0.0167\n",
      "Epoch 61/100\n",
      "11/11 [==============================] - 0s 5ms/step - loss: -496.1343 - accuracy: 0.0363 - val_loss: 356.0252 - val_accuracy: 0.0167\n",
      "Epoch 62/100\n",
      "11/11 [==============================] - 0s 5ms/step - loss: -502.8584 - accuracy: 0.0426 - val_loss: 358.9185 - val_accuracy: 0.0167\n",
      "Epoch 63/100\n",
      "11/11 [==============================] - 0s 5ms/step - loss: -510.8116 - accuracy: 0.0447 - val_loss: 364.9318 - val_accuracy: 0.0167\n",
      "Epoch 64/100\n",
      "11/11 [==============================] - 0s 5ms/step - loss: -523.6528 - accuracy: 0.0415 - val_loss: 367.3019 - val_accuracy: 0.0167\n",
      "Epoch 65/100\n",
      "11/11 [==============================] - 0s 5ms/step - loss: -537.0009 - accuracy: 0.0456 - val_loss: 368.8136 - val_accuracy: 0.0167\n",
      "Epoch 66/100\n",
      "11/11 [==============================] - 0s 5ms/step - loss: -536.1602 - accuracy: 0.0366 - val_loss: 373.9436 - val_accuracy: 0.0167\n",
      "Epoch 67/100\n",
      "11/11 [==============================] - 0s 5ms/step - loss: -551.4876 - accuracy: 0.0516 - val_loss: 378.1540 - val_accuracy: 0.0167\n",
      "Epoch 68/100\n",
      "11/11 [==============================] - 0s 5ms/step - loss: -532.0636 - accuracy: 0.0390 - val_loss: 382.2581 - val_accuracy: 0.0167\n",
      "Epoch 69/100\n",
      "11/11 [==============================] - 0s 5ms/step - loss: -535.2679 - accuracy: 0.0464 - val_loss: 385.8775 - val_accuracy: 0.0167\n",
      "Epoch 70/100\n",
      "11/11 [==============================] - 0s 5ms/step - loss: -603.7920 - accuracy: 0.0256 - val_loss: 389.2269 - val_accuracy: 0.0167\n",
      "Epoch 71/100\n",
      "11/11 [==============================] - 0s 5ms/step - loss: -570.3834 - accuracy: 0.0347 - val_loss: 390.4710 - val_accuracy: 0.0167\n",
      "Epoch 72/100\n",
      "11/11 [==============================] - 0s 5ms/step - loss: -588.0375 - accuracy: 0.0378 - val_loss: 392.0773 - val_accuracy: 0.0167\n",
      "Epoch 73/100\n",
      "11/11 [==============================] - 0s 5ms/step - loss: -572.6746 - accuracy: 0.0394 - val_loss: 395.3996 - val_accuracy: 0.0167\n",
      "Epoch 74/100\n",
      "11/11 [==============================] - 0s 5ms/step - loss: -586.2119 - accuracy: 0.0376 - val_loss: 399.1402 - val_accuracy: 0.0167\n",
      "Epoch 75/100\n",
      "11/11 [==============================] - 0s 5ms/step - loss: -592.5037 - accuracy: 0.0418 - val_loss: 402.3844 - val_accuracy: 0.0167\n",
      "Epoch 76/100\n",
      "11/11 [==============================] - 0s 5ms/step - loss: -610.7069 - accuracy: 0.0359 - val_loss: 406.1892 - val_accuracy: 0.0167\n",
      "Epoch 77/100\n",
      "11/11 [==============================] - 0s 5ms/step - loss: -602.3648 - accuracy: 0.0427 - val_loss: 409.3669 - val_accuracy: 0.0167\n",
      "Epoch 78/100\n",
      "11/11 [==============================] - 0s 5ms/step - loss: -605.8378 - accuracy: 0.0427 - val_loss: 413.5268 - val_accuracy: 0.0167\n",
      "Epoch 79/100\n",
      "11/11 [==============================] - 0s 5ms/step - loss: -612.9669 - accuracy: 0.0518 - val_loss: 417.3976 - val_accuracy: 0.0167\n",
      "Epoch 80/100\n",
      "11/11 [==============================] - 0s 5ms/step - loss: -628.6514 - accuracy: 0.0332 - val_loss: 421.4629 - val_accuracy: 0.0167\n",
      "Epoch 81/100\n",
      "11/11 [==============================] - 0s 5ms/step - loss: -649.3761 - accuracy: 0.0352 - val_loss: 425.3169 - val_accuracy: 0.0167\n",
      "Epoch 82/100\n",
      "11/11 [==============================] - 0s 5ms/step - loss: -658.1574 - accuracy: 0.0404 - val_loss: 429.2037 - val_accuracy: 0.0167\n",
      "Epoch 83/100\n",
      "11/11 [==============================] - 0s 5ms/step - loss: -669.3102 - accuracy: 0.0463 - val_loss: 433.0352 - val_accuracy: 0.0167\n",
      "Epoch 84/100\n",
      "11/11 [==============================] - 0s 5ms/step - loss: -672.9149 - accuracy: 0.0321 - val_loss: 437.0504 - val_accuracy: 0.0167\n",
      "Epoch 85/100\n",
      "11/11 [==============================] - 0s 5ms/step - loss: -658.6318 - accuracy: 0.0450 - val_loss: 440.9227 - val_accuracy: 0.0167\n",
      "Epoch 86/100\n",
      "11/11 [==============================] - 0s 5ms/step - loss: -665.0638 - accuracy: 0.0418 - val_loss: 444.8544 - val_accuracy: 0.0167\n",
      "Epoch 87/100\n",
      "11/11 [==============================] - 0s 5ms/step - loss: -661.4878 - accuracy: 0.0439 - val_loss: 448.3418 - val_accuracy: 0.0167\n",
      "Epoch 88/100\n",
      "11/11 [==============================] - 0s 5ms/step - loss: -688.7065 - accuracy: 0.0332 - val_loss: 451.1618 - val_accuracy: 0.0167\n",
      "Epoch 89/100\n",
      "11/11 [==============================] - 0s 5ms/step - loss: -680.8914 - accuracy: 0.0437 - val_loss: 454.5959 - val_accuracy: 0.0167\n",
      "Epoch 90/100\n",
      "11/11 [==============================] - 0s 5ms/step - loss: -688.2973 - accuracy: 0.0374 - val_loss: 458.6079 - val_accuracy: 0.0167\n",
      "Epoch 91/100\n",
      "11/11 [==============================] - 0s 5ms/step - loss: -680.3315 - accuracy: 0.0509 - val_loss: 462.4279 - val_accuracy: 0.0167\n",
      "Epoch 92/100\n",
      "11/11 [==============================] - 0s 5ms/step - loss: -690.5597 - accuracy: 0.0406 - val_loss: 465.7518 - val_accuracy: 0.0167\n",
      "Epoch 93/100\n",
      "11/11 [==============================] - 0s 5ms/step - loss: -715.6556 - accuracy: 0.0457 - val_loss: 469.7590 - val_accuracy: 0.0167\n",
      "Epoch 94/100\n",
      "11/11 [==============================] - 0s 5ms/step - loss: -730.0129 - accuracy: 0.0385 - val_loss: 473.6060 - val_accuracy: 0.0167\n",
      "Epoch 95/100\n",
      "11/11 [==============================] - 0s 5ms/step - loss: -738.9968 - accuracy: 0.0440 - val_loss: 478.0848 - val_accuracy: 0.0167\n",
      "Epoch 96/100\n",
      "11/11 [==============================] - 0s 5ms/step - loss: -758.3015 - accuracy: 0.0296 - val_loss: 481.8303 - val_accuracy: 0.0167\n",
      "Epoch 97/100\n",
      "11/11 [==============================] - 0s 5ms/step - loss: -754.2330 - accuracy: 0.0391 - val_loss: 484.0908 - val_accuracy: 0.0167\n",
      "Epoch 98/100\n",
      "11/11 [==============================] - 0s 5ms/step - loss: -729.4911 - accuracy: 0.0356 - val_loss: 486.0891 - val_accuracy: 0.0167\n",
      "Epoch 99/100\n",
      "11/11 [==============================] - 0s 5ms/step - loss: -752.5365 - accuracy: 0.0380 - val_loss: 488.3583 - val_accuracy: 0.0167\n",
      "Epoch 100/100\n",
      "11/11 [==============================] - 0s 5ms/step - loss: -749.4899 - accuracy: 0.0570 - val_loss: 487.6722 - val_accuracy: 0.0167\n"
     ]
    },
    {
     "data": {
      "text/plain": [
       "<tensorflow.python.keras.callbacks.History at 0x16a1716fd90>"
      ]
     },
     "execution_count": 97,
     "metadata": {},
     "output_type": "execute_result"
    }
   ],
   "source": [
    "model.compile(optimizer='Adamax', loss='binary_crossentropy', metrics=['accuracy'])\n",
    "#model.fit(X_train, y_train, epochs=10, verbose=1)\n",
    "\n",
    "model.compile(optimizer='adam',loss='binary_crossentropy',metrics=['accuracy'])\n",
    "#model.fit(X_train, y_train, epochs=100, verbose=1)\n",
    "\n",
    "\n",
    "model.fit(X_train,y_train.ravel(),batch_size=50,epochs=100, validation_split=0.1)"
   ]
  },
  {
   "cell_type": "code",
   "execution_count": null,
   "metadata": {},
   "outputs": [],
   "source": []
  },
  {
   "cell_type": "code",
   "execution_count": null,
   "metadata": {},
   "outputs": [],
   "source": []
  }
 ],
 "metadata": {
  "kernelspec": {
   "display_name": "Python 3",
   "language": "python",
   "name": "python3"
  },
  "language_info": {
   "codemirror_mode": {
    "name": "ipython",
    "version": 3
   },
   "file_extension": ".py",
   "mimetype": "text/x-python",
   "name": "python",
   "nbconvert_exporter": "python",
   "pygments_lexer": "ipython3",
   "version": "3.8.5"
  }
 },
 "nbformat": 4,
 "nbformat_minor": 2
}
